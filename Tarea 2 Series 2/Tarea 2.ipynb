{
 "cells": [
  {
   "cell_type": "markdown",
   "metadata": {},
   "source": [
    "# Tarea 2"
   ]
  },
  {
   "cell_type": "markdown",
   "metadata": {},
   "source": [
    "## Pregunta 1"
   ]
  },
  {
   "cell_type": "markdown",
   "metadata": {},
   "source": [
    "### Matrices Gamma(h)"
   ]
  },
  {
   "cell_type": "code",
   "execution_count": 1,
   "metadata": {},
   "outputs": [],
   "source": [
    "library(MASS)"
   ]
  },
  {
   "cell_type": "code",
   "execution_count": 2,
   "metadata": {},
   "outputs": [],
   "source": [
    "I<- diag(9)\n",
    "A_1<-matrix(c(0.7,0,0.9,0.1,0.4,0,0,0.1,0.8), ncol = 3) \n",
    "AxA<-kronecker(A_1,A_1) \n",
    "v_sigma<-c(0.26,0.03,0,0.03,0.09,0,0,0,0.81) \n",
    "sigma<-matrix(v_sigma,ncol=3)\n",
    "inv<-solve(I-AxA)"
   ]
  },
  {
   "cell_type": "code",
   "execution_count": 3,
   "metadata": {},
   "outputs": [
    {
     "data": {
      "text/html": [
       "<table>\n",
       "<caption>A matrix: 3 × 3 of type dbl</caption>\n",
       "<tbody>\n",
       "\t<tr><td>0.5644039</td><td>0.1769069</td><td>1.051951</td></tr>\n",
       "\t<tr><td>0.1769069</td><td>0.3079040</td><td>1.142028</td></tr>\n",
       "\t<tr><td>1.0519508</td><td>1.1420280</td><td>7.727712</td></tr>\n",
       "</tbody>\n",
       "</table>\n"
      ],
      "text/latex": [
       "A matrix: 3 × 3 of type dbl\n",
       "\\begin{tabular}{lll}\n",
       "\t 0.5644039 & 0.1769069 & 1.051951\\\\\n",
       "\t 0.1769069 & 0.3079040 & 1.142028\\\\\n",
       "\t 1.0519508 & 1.1420280 & 7.727712\\\\\n",
       "\\end{tabular}\n"
      ],
      "text/markdown": [
       "\n",
       "A matrix: 3 × 3 of type dbl\n",
       "\n",
       "| 0.5644039 | 0.1769069 | 1.051951 |\n",
       "| 0.1769069 | 0.3079040 | 1.142028 |\n",
       "| 1.0519508 | 1.1420280 | 7.727712 |\n",
       "\n"
      ],
      "text/plain": [
       "     [,1]      [,2]      [,3]    \n",
       "[1,] 0.5644039 0.1769069 1.051951\n",
       "[2,] 0.1769069 0.3079040 1.142028\n",
       "[3,] 1.0519508 1.1420280 7.727712"
      ]
     },
     "metadata": {},
     "output_type": "display_data"
    }
   ],
   "source": [
    "gamma_0=matrix(inv%*%v_sigma,ncol=3) \n",
    "gamma_0"
   ]
  },
  {
   "cell_type": "code",
   "execution_count": 4,
   "metadata": {},
   "outputs": [
    {
     "data": {
      "text/html": [
       "<table>\n",
       "<caption>A matrix: 3 × 3 of type dbl</caption>\n",
       "<tbody>\n",
       "\t<tr><td>0.4127735</td><td>0.1546253</td><td>0.8505684</td></tr>\n",
       "\t<tr><td>0.1759579</td><td>0.2373644</td><td>1.2295824</td></tr>\n",
       "\t<tr><td>1.3495242</td><td>1.0728386</td><td>7.1289253</td></tr>\n",
       "</tbody>\n",
       "</table>\n"
      ],
      "text/latex": [
       "A matrix: 3 × 3 of type dbl\n",
       "\\begin{tabular}{lll}\n",
       "\t 0.4127735 & 0.1546253 & 0.8505684\\\\\n",
       "\t 0.1759579 & 0.2373644 & 1.2295824\\\\\n",
       "\t 1.3495242 & 1.0728386 & 7.1289253\\\\\n",
       "\\end{tabular}\n"
      ],
      "text/markdown": [
       "\n",
       "A matrix: 3 × 3 of type dbl\n",
       "\n",
       "| 0.4127735 | 0.1546253 | 0.8505684 |\n",
       "| 0.1759579 | 0.2373644 | 1.2295824 |\n",
       "| 1.3495242 | 1.0728386 | 7.1289253 |\n",
       "\n"
      ],
      "text/plain": [
       "     [,1]      [,2]      [,3]     \n",
       "[1,] 0.4127735 0.1546253 0.8505684\n",
       "[2,] 0.1759579 0.2373644 1.2295824\n",
       "[3,] 1.3495242 1.0728386 7.1289253"
      ]
     },
     "metadata": {},
     "output_type": "display_data"
    }
   ],
   "source": [
    "gamma_1=A_1%*%gamma_0\n",
    "gamma_1"
   ]
  },
  {
   "cell_type": "code",
   "execution_count": 5,
   "metadata": {},
   "outputs": [
    {
     "data": {
      "text/html": [
       "<table>\n",
       "<caption>A matrix: 3 × 3 of type dbl</caption>\n",
       "<tbody>\n",
       "\t<tr><td>0.3065372</td><td>0.1319741</td><td>0.7183561</td></tr>\n",
       "\t<tr><td>0.2053356</td><td>0.2022296</td><td>1.2047255</td></tr>\n",
       "\t<tr><td>1.4511155</td><td>0.9974336</td><td>6.4686518</td></tr>\n",
       "</tbody>\n",
       "</table>\n"
      ],
      "text/latex": [
       "A matrix: 3 × 3 of type dbl\n",
       "\\begin{tabular}{lll}\n",
       "\t 0.3065372 & 0.1319741 & 0.7183561\\\\\n",
       "\t 0.2053356 & 0.2022296 & 1.2047255\\\\\n",
       "\t 1.4511155 & 0.9974336 & 6.4686518\\\\\n",
       "\\end{tabular}\n"
      ],
      "text/markdown": [
       "\n",
       "A matrix: 3 × 3 of type dbl\n",
       "\n",
       "| 0.3065372 | 0.1319741 | 0.7183561 |\n",
       "| 0.2053356 | 0.2022296 | 1.2047255 |\n",
       "| 1.4511155 | 0.9974336 | 6.4686518 |\n",
       "\n"
      ],
      "text/plain": [
       "     [,1]      [,2]      [,3]     \n",
       "[1,] 0.3065372 0.1319741 0.7183561\n",
       "[2,] 0.2053356 0.2022296 1.2047255\n",
       "[3,] 1.4511155 0.9974336 6.4686518"
      ]
     },
     "metadata": {},
     "output_type": "display_data"
    }
   ],
   "source": [
    "gamma_2=A_1%*%gamma_1\n",
    "gamma_2"
   ]
  },
  {
   "cell_type": "code",
   "execution_count": 6,
   "metadata": {},
   "outputs": [
    {
     "data": {
      "text/html": [
       "<table>\n",
       "<caption>A matrix: 3 × 3 of type dbl</caption>\n",
       "<tbody>\n",
       "\t<tr><td>0.2351096</td><td>0.1126048</td><td>0.6233218</td></tr>\n",
       "\t<tr><td>0.2272458</td><td>0.1806352</td><td>1.1287554</td></tr>\n",
       "\t<tr><td>1.4367758</td><td>0.9167236</td><td>5.8214419</td></tr>\n",
       "</tbody>\n",
       "</table>\n"
      ],
      "text/latex": [
       "A matrix: 3 × 3 of type dbl\n",
       "\\begin{tabular}{lll}\n",
       "\t 0.2351096 & 0.1126048 & 0.6233218\\\\\n",
       "\t 0.2272458 & 0.1806352 & 1.1287554\\\\\n",
       "\t 1.4367758 & 0.9167236 & 5.8214419\\\\\n",
       "\\end{tabular}\n"
      ],
      "text/markdown": [
       "\n",
       "A matrix: 3 × 3 of type dbl\n",
       "\n",
       "| 0.2351096 | 0.1126048 | 0.6233218 |\n",
       "| 0.2272458 | 0.1806352 | 1.1287554 |\n",
       "| 1.4367758 | 0.9167236 | 5.8214419 |\n",
       "\n"
      ],
      "text/plain": [
       "     [,1]      [,2]      [,3]     \n",
       "[1,] 0.2351096 0.1126048 0.6233218\n",
       "[2,] 0.2272458 0.1806352 1.1287554\n",
       "[3,] 1.4367758 0.9167236 5.8214419"
      ]
     },
     "metadata": {},
     "output_type": "display_data"
    }
   ],
   "source": [
    "gamma_3=A_1%*%gamma_2\n",
    "gamma_3"
   ]
  },
  {
   "cell_type": "code",
   "execution_count": 7,
   "metadata": {},
   "outputs": [
    {
     "data": {
      "text/html": [
       "<table>\n",
       "<caption>A matrix: 3 × 3 of type dbl</caption>\n",
       "<tbody>\n",
       "\t<tr><td>1.331083</td><td>0.000000</td><td>0.0000000</td></tr>\n",
       "\t<tr><td>0.000000</td><td>1.802156</td><td>0.0000000</td></tr>\n",
       "\t<tr><td>0.000000</td><td>0.000000</td><td>0.3597282</td></tr>\n",
       "</tbody>\n",
       "</table>\n"
      ],
      "text/latex": [
       "A matrix: 3 × 3 of type dbl\n",
       "\\begin{tabular}{lll}\n",
       "\t 1.331083 & 0.000000 & 0.0000000\\\\\n",
       "\t 0.000000 & 1.802156 & 0.0000000\\\\\n",
       "\t 0.000000 & 0.000000 & 0.3597282\\\\\n",
       "\\end{tabular}\n"
      ],
      "text/markdown": [
       "\n",
       "A matrix: 3 × 3 of type dbl\n",
       "\n",
       "| 1.331083 | 0.000000 | 0.0000000 |\n",
       "| 0.000000 | 1.802156 | 0.0000000 |\n",
       "| 0.000000 | 0.000000 | 0.3597282 |\n",
       "\n"
      ],
      "text/plain": [
       "     [,1]     [,2]     [,3]     \n",
       "[1,] 1.331083 0.000000 0.0000000\n",
       "[2,] 0.000000 1.802156 0.0000000\n",
       "[3,] 0.000000 0.000000 0.3597282"
      ]
     },
     "metadata": {},
     "output_type": "display_data"
    }
   ],
   "source": [
    "D_1<-diag(1/((diag(gamma_0))^(1/2)))\n",
    "D_1"
   ]
  },
  {
   "cell_type": "markdown",
   "metadata": {},
   "source": [
    "### Matrices R(h)"
   ]
  },
  {
   "cell_type": "code",
   "execution_count": 8,
   "metadata": {},
   "outputs": [
    {
     "data": {
      "text/html": [
       "<table>\n",
       "<caption>A matrix: 3 × 3 of type dbl</caption>\n",
       "<tbody>\n",
       "\t<tr><td>1.0000000</td><td>0.4243676</td><td>0.5037035</td></tr>\n",
       "\t<tr><td>0.4243676</td><td>1.0000000</td><td>0.7403611</td></tr>\n",
       "\t<tr><td>0.5037035</td><td>0.7403611</td><td>1.0000000</td></tr>\n",
       "</tbody>\n",
       "</table>\n"
      ],
      "text/latex": [
       "A matrix: 3 × 3 of type dbl\n",
       "\\begin{tabular}{lll}\n",
       "\t 1.0000000 & 0.4243676 & 0.5037035\\\\\n",
       "\t 0.4243676 & 1.0000000 & 0.7403611\\\\\n",
       "\t 0.5037035 & 0.7403611 & 1.0000000\\\\\n",
       "\\end{tabular}\n"
      ],
      "text/markdown": [
       "\n",
       "A matrix: 3 × 3 of type dbl\n",
       "\n",
       "| 1.0000000 | 0.4243676 | 0.5037035 |\n",
       "| 0.4243676 | 1.0000000 | 0.7403611 |\n",
       "| 0.5037035 | 0.7403611 | 1.0000000 |\n",
       "\n"
      ],
      "text/plain": [
       "     [,1]      [,2]      [,3]     \n",
       "[1,] 1.0000000 0.4243676 0.5037035\n",
       "[2,] 0.4243676 1.0000000 0.7403611\n",
       "[3,] 0.5037035 0.7403611 1.0000000"
      ]
     },
     "metadata": {},
     "output_type": "display_data"
    }
   ],
   "source": [
    "R_0=D_1%*%gamma_0%*%D_1\n",
    "R_0"
   ]
  },
  {
   "cell_type": "code",
   "execution_count": 9,
   "metadata": {},
   "outputs": [
    {
     "data": {
      "text/html": [
       "<table>\n",
       "<caption>A matrix: 3 × 3 of type dbl</caption>\n",
       "<tbody>\n",
       "\t<tr><td>0.7313440</td><td>0.3709179</td><td>0.4072759</td></tr>\n",
       "\t<tr><td>0.4220909</td><td>0.7709039</td><td>0.7971215</td></tr>\n",
       "\t<tr><td>0.6461899</td><td>0.6955066</td><td>0.9225144</td></tr>\n",
       "</tbody>\n",
       "</table>\n"
      ],
      "text/latex": [
       "A matrix: 3 × 3 of type dbl\n",
       "\\begin{tabular}{lll}\n",
       "\t 0.7313440 & 0.3709179 & 0.4072759\\\\\n",
       "\t 0.4220909 & 0.7709039 & 0.7971215\\\\\n",
       "\t 0.6461899 & 0.6955066 & 0.9225144\\\\\n",
       "\\end{tabular}\n"
      ],
      "text/markdown": [
       "\n",
       "A matrix: 3 × 3 of type dbl\n",
       "\n",
       "| 0.7313440 | 0.3709179 | 0.4072759 |\n",
       "| 0.4220909 | 0.7709039 | 0.7971215 |\n",
       "| 0.6461899 | 0.6955066 | 0.9225144 |\n",
       "\n"
      ],
      "text/plain": [
       "     [,1]      [,2]      [,3]     \n",
       "[1,] 0.7313440 0.3709179 0.4072759\n",
       "[2,] 0.4220909 0.7709039 0.7971215\n",
       "[3,] 0.6461899 0.6955066 0.9225144"
      ]
     },
     "metadata": {},
     "output_type": "display_data"
    }
   ],
   "source": [
    "R_1=D_1%*%gamma_1%*%D_1\n",
    "R_1"
   ]
  },
  {
   "cell_type": "code",
   "execution_count": 10,
   "metadata": {},
   "outputs": [
    {
     "data": {
      "text/html": [
       "<table>\n",
       "<caption>A matrix: 3 × 3 of type dbl</caption>\n",
       "<tbody>\n",
       "\t<tr><td>0.5431167</td><td>0.3165819</td><td>0.3439690</td></tr>\n",
       "\t<tr><td>0.4925627</td><td>0.6567944</td><td>0.7810071</td></tr>\n",
       "\t<tr><td>0.6948347</td><td>0.6466226</td><td>0.8370721</td></tr>\n",
       "</tbody>\n",
       "</table>\n"
      ],
      "text/latex": [
       "A matrix: 3 × 3 of type dbl\n",
       "\\begin{tabular}{lll}\n",
       "\t 0.5431167 & 0.3165819 & 0.3439690\\\\\n",
       "\t 0.4925627 & 0.6567944 & 0.7810071\\\\\n",
       "\t 0.6948347 & 0.6466226 & 0.8370721\\\\\n",
       "\\end{tabular}\n"
      ],
      "text/markdown": [
       "\n",
       "A matrix: 3 × 3 of type dbl\n",
       "\n",
       "| 0.5431167 | 0.3165819 | 0.3439690 |\n",
       "| 0.4925627 | 0.6567944 | 0.7810071 |\n",
       "| 0.6948347 | 0.6466226 | 0.8370721 |\n",
       "\n"
      ],
      "text/plain": [
       "     [,1]      [,2]      [,3]     \n",
       "[1,] 0.5431167 0.3165819 0.3439690\n",
       "[2,] 0.4925627 0.6567944 0.7810071\n",
       "[3,] 0.6948347 0.6466226 0.8370721"
      ]
     },
     "metadata": {},
     "output_type": "display_data"
    }
   ],
   "source": [
    "R_2=D_1%*%gamma_2%*%D_1\n",
    "R_2"
   ]
  },
  {
   "cell_type": "code",
   "execution_count": 11,
   "metadata": {},
   "outputs": [
    {
     "data": {
      "text/html": [
       "<table>\n",
       "<caption>A matrix: 3 × 3 of type dbl</caption>\n",
       "<tbody>\n",
       "\t<tr><td>0.4165626</td><td>0.2701185</td><td>0.2984639</td></tr>\n",
       "\t<tr><td>0.5451213</td><td>0.5866608</td><td>0.7317567</td></tr>\n",
       "\t<tr><td>0.6879685</td><td>0.5942994</td><td>0.7533202</td></tr>\n",
       "</tbody>\n",
       "</table>\n"
      ],
      "text/latex": [
       "A matrix: 3 × 3 of type dbl\n",
       "\\begin{tabular}{lll}\n",
       "\t 0.4165626 & 0.2701185 & 0.2984639\\\\\n",
       "\t 0.5451213 & 0.5866608 & 0.7317567\\\\\n",
       "\t 0.6879685 & 0.5942994 & 0.7533202\\\\\n",
       "\\end{tabular}\n"
      ],
      "text/markdown": [
       "\n",
       "A matrix: 3 × 3 of type dbl\n",
       "\n",
       "| 0.4165626 | 0.2701185 | 0.2984639 |\n",
       "| 0.5451213 | 0.5866608 | 0.7317567 |\n",
       "| 0.6879685 | 0.5942994 | 0.7533202 |\n",
       "\n"
      ],
      "text/plain": [
       "     [,1]      [,2]      [,3]     \n",
       "[1,] 0.4165626 0.2701185 0.2984639\n",
       "[2,] 0.5451213 0.5866608 0.7317567\n",
       "[3,] 0.6879685 0.5942994 0.7533202"
      ]
     },
     "metadata": {},
     "output_type": "display_data"
    }
   ],
   "source": [
    "R_3=D_1%*%gamma_3%*%D_1\n",
    "R_3"
   ]
  },
  {
   "cell_type": "code",
   "execution_count": 13,
   "metadata": {},
   "outputs": [],
   "source": [
    "RS=list(R_0,R_1,R_2,R_3)\n",
    "uu=list()\n",
    "ud=list()\n",
    "ut=list()\n",
    "du=list()\n",
    "dd=list()\n",
    "dt=list()\n",
    "tu=list()\n",
    "td=list()\n",
    "tt=list()\n",
    "\n",
    "for (i in RS){\n",
    "    uu=c(uu,i[1,1])\n",
    "    ud=c(ud,i[1,2])\n",
    "    ut=c(ut,i[1,3])\n",
    "    du=c(du,i[2,1])\n",
    "    dd=c(dd,i[2,2])\n",
    "    dt=c(dt,i[2,3])\n",
    "    tu=c(tu,i[3,1])\n",
    "    td=c(td,i[3,2])\n",
    "    tt=c(tt,i[3,3])}"
   ]
  },
  {
   "cell_type": "code",
   "execution_count": 14,
   "metadata": {},
   "outputs": [
    {
     "data": {
      "text/html": [
       "<ol>\n",
       "\t<li>1</li>\n",
       "\t<li>0.731344029353602</li>\n",
       "\t<li>0.54311669310465</li>\n",
       "\t<li>0.416562642848658</li>\n",
       "</ol>\n"
      ],
      "text/latex": [
       "\\begin{enumerate}\n",
       "\\item 1\n",
       "\\item 0.731344029353602\n",
       "\\item 0.54311669310465\n",
       "\\item 0.416562642848658\n",
       "\\end{enumerate}\n"
      ],
      "text/markdown": [
       "1. 1\n",
       "2. 0.731344029353602\n",
       "3. 0.54311669310465\n",
       "4. 0.416562642848658\n",
       "\n",
       "\n"
      ],
      "text/plain": [
       "[[1]]\n",
       "[1] 1\n",
       "\n",
       "[[2]]\n",
       "[1] 0.731344\n",
       "\n",
       "[[3]]\n",
       "[1] 0.5431167\n",
       "\n",
       "[[4]]\n",
       "[1] 0.4165626\n"
      ]
     },
     "metadata": {},
     "output_type": "display_data"
    },
    {
     "data": {
      "text/html": [
       "<ol>\n",
       "\t<li>0.424367562556585</li>\n",
       "\t<li>0.37091786212516</li>\n",
       "\t<li>0.316581904782695</li>\n",
       "\t<li>0.27011854109762</li>\n",
       "</ol>\n"
      ],
      "text/latex": [
       "\\begin{enumerate}\n",
       "\\item 0.424367562556585\n",
       "\\item 0.37091786212516\n",
       "\\item 0.316581904782695\n",
       "\\item 0.27011854109762\n",
       "\\end{enumerate}\n"
      ],
      "text/markdown": [
       "1. 0.424367562556585\n",
       "2. 0.37091786212516\n",
       "3. 0.316581904782695\n",
       "4. 0.27011854109762\n",
       "\n",
       "\n"
      ],
      "text/plain": [
       "[[1]]\n",
       "[1] 0.4243676\n",
       "\n",
       "[[2]]\n",
       "[1] 0.3709179\n",
       "\n",
       "[[3]]\n",
       "[1] 0.3165819\n",
       "\n",
       "[[4]]\n",
       "[1] 0.2701185\n"
      ]
     },
     "metadata": {},
     "output_type": "display_data"
    },
    {
     "data": {
      "text/html": [
       "<ol>\n",
       "\t<li>0.503703466234757</li>\n",
       "\t<li>0.407275921164447</li>\n",
       "\t<li>0.343968989740363</li>\n",
       "\t<li>0.298463919588629</li>\n",
       "</ol>\n"
      ],
      "text/latex": [
       "\\begin{enumerate}\n",
       "\\item 0.503703466234757\n",
       "\\item 0.407275921164447\n",
       "\\item 0.343968989740363\n",
       "\\item 0.298463919588629\n",
       "\\end{enumerate}\n"
      ],
      "text/markdown": [
       "1. 0.503703466234757\n",
       "2. 0.407275921164447\n",
       "3. 0.343968989740363\n",
       "4. 0.298463919588629\n",
       "\n",
       "\n"
      ],
      "text/plain": [
       "[[1]]\n",
       "[1] 0.5037035\n",
       "\n",
       "[[2]]\n",
       "[1] 0.4072759\n",
       "\n",
       "[[3]]\n",
       "[1] 0.343969\n",
       "\n",
       "[[4]]\n",
       "[1] 0.2984639\n"
      ]
     },
     "metadata": {},
     "output_type": "display_data"
    },
    {
     "data": {
      "text/html": [
       "<ol>\n",
       "\t<li>0.424367562556585</li>\n",
       "\t<li>0.42209088367011</li>\n",
       "\t<li>0.492562655490582</li>\n",
       "\t<li>0.545121262450462</li>\n",
       "</ol>\n"
      ],
      "text/latex": [
       "\\begin{enumerate}\n",
       "\\item 0.424367562556585\n",
       "\\item 0.42209088367011\n",
       "\\item 0.492562655490582\n",
       "\\item 0.545121262450462\n",
       "\\end{enumerate}\n"
      ],
      "text/markdown": [
       "1. 0.424367562556585\n",
       "2. 0.42209088367011\n",
       "3. 0.492562655490582\n",
       "4. 0.545121262450462\n",
       "\n",
       "\n"
      ],
      "text/plain": [
       "[[1]]\n",
       "[1] 0.4243676\n",
       "\n",
       "[[2]]\n",
       "[1] 0.4220909\n",
       "\n",
       "[[3]]\n",
       "[1] 0.4925627\n",
       "\n",
       "[[4]]\n",
       "[1] 0.5451213\n"
      ]
     },
     "metadata": {},
     "output_type": "display_data"
    },
    {
     "data": {
      "text/html": [
       "<ol>\n",
       "\t<li>1</li>\n",
       "\t<li>0.770903915014652</li>\n",
       "\t<li>0.656794401166062</li>\n",
       "\t<li>0.58666082079852</li>\n",
       "</ol>\n"
      ],
      "text/latex": [
       "\\begin{enumerate}\n",
       "\\item 1\n",
       "\\item 0.770903915014652\n",
       "\\item 0.656794401166062\n",
       "\\item 0.58666082079852\n",
       "\\end{enumerate}\n"
      ],
      "text/markdown": [
       "1. 1\n",
       "2. 0.770903915014652\n",
       "3. 0.656794401166062\n",
       "4. 0.58666082079852\n",
       "\n",
       "\n"
      ],
      "text/plain": [
       "[[1]]\n",
       "[1] 1\n",
       "\n",
       "[[2]]\n",
       "[1] 0.7709039\n",
       "\n",
       "[[3]]\n",
       "[1] 0.6567944\n",
       "\n",
       "[[4]]\n",
       "[1] 0.5866608\n"
      ]
     },
     "metadata": {},
     "output_type": "display_data"
    },
    {
     "data": {
      "text/html": [
       "<ol>\n",
       "\t<li>0.740361143062004</li>\n",
       "\t<li>0.797121471605457</li>\n",
       "\t<li>0.78100707955979</li>\n",
       "\t<li>0.731756690434717</li>\n",
       "</ol>\n"
      ],
      "text/latex": [
       "\\begin{enumerate}\n",
       "\\item 0.740361143062004\n",
       "\\item 0.797121471605457\n",
       "\\item 0.78100707955979\n",
       "\\item 0.731756690434717\n",
       "\\end{enumerate}\n"
      ],
      "text/markdown": [
       "1. 0.740361143062004\n",
       "2. 0.797121471605457\n",
       "3. 0.78100707955979\n",
       "4. 0.731756690434717\n",
       "\n",
       "\n"
      ],
      "text/plain": [
       "[[1]]\n",
       "[1] 0.7403611\n",
       "\n",
       "[[2]]\n",
       "[1] 0.7971215\n",
       "\n",
       "[[3]]\n",
       "[1] 0.7810071\n",
       "\n",
       "[[4]]\n",
       "[1] 0.7317567\n"
      ]
     },
     "metadata": {},
     "output_type": "display_data"
    },
    {
     "data": {
      "text/html": [
       "<ol>\n",
       "\t<li>0.503703466234757</li>\n",
       "\t<li>0.646189930335929</li>\n",
       "\t<li>0.694834673571943</li>\n",
       "\t<li>0.687968468229711</li>\n",
       "</ol>\n"
      ],
      "text/latex": [
       "\\begin{enumerate}\n",
       "\\item 0.503703466234757\n",
       "\\item 0.646189930335929\n",
       "\\item 0.694834673571943\n",
       "\\item 0.687968468229711\n",
       "\\end{enumerate}\n"
      ],
      "text/markdown": [
       "1. 0.503703466234757\n",
       "2. 0.646189930335929\n",
       "3. 0.694834673571943\n",
       "4. 0.687968468229711\n",
       "\n",
       "\n"
      ],
      "text/plain": [
       "[[1]]\n",
       "[1] 0.5037035\n",
       "\n",
       "[[2]]\n",
       "[1] 0.6461899\n",
       "\n",
       "[[3]]\n",
       "[1] 0.6948347\n",
       "\n",
       "[[4]]\n",
       "[1] 0.6879685\n"
      ]
     },
     "metadata": {},
     "output_type": "display_data"
    },
    {
     "data": {
      "text/html": [
       "<ol>\n",
       "\t<li>0.740361143062004</li>\n",
       "\t<li>0.695506630360993</li>\n",
       "\t<li>0.64662260150314</li>\n",
       "\t<li>0.594299397970662</li>\n",
       "</ol>\n"
      ],
      "text/latex": [
       "\\begin{enumerate}\n",
       "\\item 0.740361143062004\n",
       "\\item 0.695506630360993\n",
       "\\item 0.64662260150314\n",
       "\\item 0.594299397970662\n",
       "\\end{enumerate}\n"
      ],
      "text/markdown": [
       "1. 0.740361143062004\n",
       "2. 0.695506630360993\n",
       "3. 0.64662260150314\n",
       "4. 0.594299397970662\n",
       "\n",
       "\n"
      ],
      "text/plain": [
       "[[1]]\n",
       "[1] 0.7403611\n",
       "\n",
       "[[2]]\n",
       "[1] 0.6955066\n",
       "\n",
       "[[3]]\n",
       "[1] 0.6466226\n",
       "\n",
       "[[4]]\n",
       "[1] 0.5942994\n"
      ]
     },
     "metadata": {},
     "output_type": "display_data"
    },
    {
     "data": {
      "text/html": [
       "<ol>\n",
       "\t<li>1</li>\n",
       "\t<li>0.922514362238676</li>\n",
       "\t<li>0.837072054352108</li>\n",
       "\t<li>0.753320243072141</li>\n",
       "</ol>\n"
      ],
      "text/latex": [
       "\\begin{enumerate}\n",
       "\\item 1\n",
       "\\item 0.922514362238676\n",
       "\\item 0.837072054352108\n",
       "\\item 0.753320243072141\n",
       "\\end{enumerate}\n"
      ],
      "text/markdown": [
       "1. 1\n",
       "2. 0.922514362238676\n",
       "3. 0.837072054352108\n",
       "4. 0.753320243072141\n",
       "\n",
       "\n"
      ],
      "text/plain": [
       "[[1]]\n",
       "[1] 1\n",
       "\n",
       "[[2]]\n",
       "[1] 0.9225144\n",
       "\n",
       "[[3]]\n",
       "[1] 0.8370721\n",
       "\n",
       "[[4]]\n",
       "[1] 0.7533202\n"
      ]
     },
     "metadata": {},
     "output_type": "display_data"
    }
   ],
   "source": [
    "uu\n",
    "ud\n",
    "ut\n",
    "du\n",
    "dd\n",
    "dt\n",
    "tu\n",
    "td\n",
    "tt"
   ]
  },
  {
   "cell_type": "code",
   "execution_count": 15,
   "metadata": {},
   "outputs": [
    {
     "data": {
      "text/html": [
       "<ol>\n",
       "\t<li>0</li>\n",
       "\t<li>1</li>\n",
       "\t<li>2</li>\n",
       "\t<li>3</li>\n",
       "</ol>\n"
      ],
      "text/latex": [
       "\\begin{enumerate}\n",
       "\\item 0\n",
       "\\item 1\n",
       "\\item 2\n",
       "\\item 3\n",
       "\\end{enumerate}\n"
      ],
      "text/markdown": [
       "1. 0\n",
       "2. 1\n",
       "3. 2\n",
       "4. 3\n",
       "\n",
       "\n"
      ],
      "text/plain": [
       "[[1]]\n",
       "[1] 0\n",
       "\n",
       "[[2]]\n",
       "[1] 1\n",
       "\n",
       "[[3]]\n",
       "[1] 2\n",
       "\n",
       "[[4]]\n",
       "[1] 3\n"
      ]
     },
     "metadata": {},
     "output_type": "display_data"
    }
   ],
   "source": [
    "pasosH=list(0,1,2,3)\n",
    "pasosH"
   ]
  },
  {
   "cell_type": "code",
   "execution_count": 16,
   "metadata": {},
   "outputs": [
    {
     "data": {
      "image/png": "[encoded data removed]",
      "text/plain": [
       "Plot with title “Autocorrelación vs H”"
      ]
     },
     "metadata": {
      "image/png": {
       "height": 420,
       "width": 420
      }
     },
     "output_type": "display_data"
    }
   ],
   "source": [
    "matplot(pasosH, cbind(uu),type=\"l\",lty=c(1,1),xlab='H',ylab='Autocorrelación',main='Autocorrelación vs H',las=1)"
   ]
  },
  {
   "cell_type": "code",
   "execution_count": 17,
   "metadata": {},
   "outputs": [
    {
     "data": {
      "image/png": "[encoded data removed]",
      "text/plain": [
       "Plot with title “Autocorrelación vs H”"
      ]
     },
     "metadata": {
      "image/png": {
       "height": 420,
       "width": 420
      }
     },
     "output_type": "display_data"
    }
   ],
   "source": [
    "matplot(pasosH, cbind(ud),type=\"l\",lty=c(1,1),xlab='H',ylab='Autocorrelación',main='Autocorrelación vs H',las=1)"
   ]
  },
  {
   "cell_type": "code",
   "execution_count": 18,
   "metadata": {},
   "outputs": [
    {
     "data": {
      "image/png": "[encoded data removed]",
      "text/plain": [
       "Plot with title “Autocorrelación vs H”"
      ]
     },
     "metadata": {
      "image/png": {
       "height": 420,
       "width": 420
      }
     },
     "output_type": "display_data"
    }
   ],
   "source": [
    "matplot(pasosH, cbind(ut),type=\"l\",lty=c(1,1),xlab='H',ylab='Autocorrelación',main='Autocorrelación vs H',las=1)"
   ]
  },
  {
   "cell_type": "code",
   "execution_count": 19,
   "metadata": {},
   "outputs": [
    {
     "data": {
      "image/png": "[encoded data removed]",
      "text/plain": [
       "Plot with title “Autocorrelación vs H”"
      ]
     },
     "metadata": {
      "image/png": {
       "height": 420,
       "width": 420
      }
     },
     "output_type": "display_data"
    }
   ],
   "source": [
    "matplot(pasosH, cbind(du),type=\"l\",lty=c(1,1),xlab='H',ylab='Autocorrelación',main='Autocorrelación vs H',las=1)"
   ]
  },
  {
   "cell_type": "code",
   "execution_count": 20,
   "metadata": {},
   "outputs": [
    {
     "data": {
      "image/png": "[encoded data removed]",
      "text/plain": [
       "Plot with title “Autocorrelación vs H”"
      ]
     },
     "metadata": {
      "image/png": {
       "height": 420,
       "width": 420
      }
     },
     "output_type": "display_data"
    }
   ],
   "source": [
    "matplot(pasosH, cbind(dd),type=\"l\",lty=c(1,1),xlab='H',ylab='Autocorrelación',main='Autocorrelación vs H',las=1)"
   ]
  },
  {
   "cell_type": "code",
   "execution_count": 21,
   "metadata": {},
   "outputs": [
    {
     "data": {
      "image/png": "[encoded data removed]",
      "text/plain": [
       "Plot with title “Autocorrelación vs H”"
      ]
     },
     "metadata": {
      "image/png": {
       "height": 420,
       "width": 420
      }
     },
     "output_type": "display_data"
    }
   ],
   "source": [
    "matplot(pasosH, cbind(dt),type=\"l\",lty=c(1,1),xlab='H',ylab='Autocorrelación',main='Autocorrelación vs H',las=1)"
   ]
  },
  {
   "cell_type": "code",
   "execution_count": 22,
   "metadata": {},
   "outputs": [
    {
     "data": {
      "image/png": "[encoded data removed]",
      "text/plain": [
       "Plot with title “Autocorrelación vs H”"
      ]
     },
     "metadata": {
      "image/png": {
       "height": 420,
       "width": 420
      }
     },
     "output_type": "display_data"
    }
   ],
   "source": [
    "matplot(pasosH, cbind(tu),type=\"l\",lty=c(1,1),xlab='H',ylab='Autocorrelación',main='Autocorrelación vs H',las=1)"
   ]
  },
  {
   "cell_type": "code",
   "execution_count": 23,
   "metadata": {},
   "outputs": [
    {
     "data": {
      "image/png": "[encoded data removed]",
      "text/plain": [
       "Plot with title “Autocorrelación vs H”"
      ]
     },
     "metadata": {
      "image/png": {
       "height": 420,
       "width": 420
      }
     },
     "output_type": "display_data"
    }
   ],
   "source": [
    "matplot(pasosH, cbind(td),type=\"l\",lty=c(1,1),xlab='H',ylab='Autocorrelación',main='Autocorrelación vs H',las=1)"
   ]
  },
  {
   "cell_type": "code",
   "execution_count": 24,
   "metadata": {},
   "outputs": [
    {
     "data": {
      "image/png": "[encoded data removed]",
      "text/plain": [
       "Plot with title “Autocorrelación vs H”"
      ]
     },
     "metadata": {
      "image/png": {
       "height": 420,
       "width": 420
      }
     },
     "output_type": "display_data"
    }
   ],
   "source": [
    "matplot(pasosH, cbind(tt),type=\"l\",lty=c(1,1),xlab='H',ylab='Autocorrelación',main='Autocorrelación vs H',las=1)"
   ]
  },
  {
   "cell_type": "code",
   "execution_count": 25,
   "metadata": {},
   "outputs": [
    {
     "data": {
      "image/png": "[encoded data removed]",
      "text/plain": [
       "Plot with title “Autocorrelación vs H”"
      ]
     },
     "metadata": {
      "image/png": {
       "height": 420,
       "width": 420
      }
     },
     "output_type": "display_data"
    }
   ],
   "source": [
    "matplot(pasosH, cbind(uu,ud,ut,du,dd,dt,tu,td,tt),type=\"l\",lty=c(1,1),xlab='H',ylab='Autocorrelación',main='Autocorrelación vs H',las=1)"
   ]
  },
  {
   "cell_type": "markdown",
   "metadata": {},
   "source": [
    "## Pregunta 2"
   ]
  },
  {
   "cell_type": "markdown",
   "metadata": {},
   "source": [
    "### A."
   ]
  },
  {
   "cell_type": "code",
   "execution_count": 26,
   "metadata": {},
   "outputs": [
    {
     "data": {
      "text/html": [
       "<table>\n",
       "<caption>A matrix: 6 × 6 of type dbl</caption>\n",
       "<tbody>\n",
       "\t<tr><td>0.7</td><td>0.1</td><td>0.0</td><td>-0.2</td><td>0.0</td><td>0.0</td></tr>\n",
       "\t<tr><td>0.0</td><td>0.4</td><td>0.1</td><td> 0.0</td><td>0.1</td><td>0.1</td></tr>\n",
       "\t<tr><td>0.9</td><td>0.0</td><td>0.8</td><td> 0.0</td><td>0.0</td><td>0.0</td></tr>\n",
       "\t<tr><td>1.0</td><td>0.0</td><td>0.0</td><td> 0.0</td><td>0.0</td><td>0.0</td></tr>\n",
       "\t<tr><td>0.0</td><td>1.0</td><td>0.0</td><td> 0.0</td><td>0.0</td><td>0.0</td></tr>\n",
       "\t<tr><td>0.0</td><td>0.0</td><td>1.0</td><td> 0.0</td><td>0.0</td><td>0.0</td></tr>\n",
       "</tbody>\n",
       "</table>\n"
      ],
      "text/latex": [
       "A matrix: 6 × 6 of type dbl\n",
       "\\begin{tabular}{llllll}\n",
       "\t 0.7 & 0.1 & 0.0 & -0.2 & 0.0 & 0.0\\\\\n",
       "\t 0.0 & 0.4 & 0.1 &  0.0 & 0.1 & 0.1\\\\\n",
       "\t 0.9 & 0.0 & 0.8 &  0.0 & 0.0 & 0.0\\\\\n",
       "\t 1.0 & 0.0 & 0.0 &  0.0 & 0.0 & 0.0\\\\\n",
       "\t 0.0 & 1.0 & 0.0 &  0.0 & 0.0 & 0.0\\\\\n",
       "\t 0.0 & 0.0 & 1.0 &  0.0 & 0.0 & 0.0\\\\\n",
       "\\end{tabular}\n"
      ],
      "text/markdown": [
       "\n",
       "A matrix: 6 × 6 of type dbl\n",
       "\n",
       "| 0.7 | 0.1 | 0.0 | -0.2 | 0.0 | 0.0 |\n",
       "| 0.0 | 0.4 | 0.1 |  0.0 | 0.1 | 0.1 |\n",
       "| 0.9 | 0.0 | 0.8 |  0.0 | 0.0 | 0.0 |\n",
       "| 1.0 | 0.0 | 0.0 |  0.0 | 0.0 | 0.0 |\n",
       "| 0.0 | 1.0 | 0.0 |  0.0 | 0.0 | 0.0 |\n",
       "| 0.0 | 0.0 | 1.0 |  0.0 | 0.0 | 0.0 |\n",
       "\n"
      ],
      "text/plain": [
       "     [,1] [,2] [,3] [,4] [,5] [,6]\n",
       "[1,] 0.7  0.1  0.0  -0.2 0.0  0.0 \n",
       "[2,] 0.0  0.4  0.1   0.0 0.1  0.1 \n",
       "[3,] 0.9  0.0  0.8   0.0 0.0  0.0 \n",
       "[4,] 1.0  0.0  0.0   0.0 0.0  0.0 \n",
       "[5,] 0.0  1.0  0.0   0.0 0.0  0.0 \n",
       "[6,] 0.0  0.0  1.0   0.0 0.0  0.0 "
      ]
     },
     "metadata": {},
     "output_type": "display_data"
    }
   ],
   "source": [
    "Ct<-matrix(c(0.3,-0.1,0,0.2,0,0,0,0.6,-0.1,0,-0.1,-0.1,-0.9,0,0.2,0,0,0,-1,0,0,1,0,0,0,-1,0,0,1,0,0,0,-1,0,0,1), ncol = 6) #La matriz esta transpuesta\n",
    "C=t(Ct) \n",
    "A<-diag(6)-C \n",
    "A"
   ]
  },
  {
   "cell_type": "code",
   "execution_count": 27,
   "metadata": {},
   "outputs": [
    {
     "data": {
      "text/html": [
       "<style>\n",
       ".list-inline {list-style: none; margin:0; padding: 0}\n",
       ".list-inline>li {display: inline-block}\n",
       ".list-inline>li:not(:last-child)::after {content: \"\\00b7\"; padding: 0 .5ex}\n",
       "</style>\n",
       "<ol class=list-inline><li>0.7</li><li>1</li><li>1.5</li><li>1</li><li>1.5</li><li>3</li></ol>\n"
      ],
      "text/latex": [
       "\\begin{enumerate*}\n",
       "\\item 0.7\n",
       "\\item 1\n",
       "\\item 1.5\n",
       "\\item 1\n",
       "\\item 1.5\n",
       "\\item 3\n",
       "\\end{enumerate*}\n"
      ],
      "text/markdown": [
       "1. 0.7\n",
       "2. 1\n",
       "3. 1.5\n",
       "4. 1\n",
       "5. 1.5\n",
       "6. 3\n",
       "\n",
       "\n"
      ],
      "text/plain": [
       "[1] 0.7 1.0 1.5 1.0 1.5 3.0"
      ]
     },
     "metadata": {},
     "output_type": "display_data"
    },
    {
     "data": {
      "text/html": [
       "<table>\n",
       "<caption>A matrix: 3 × 6 of type dbl</caption>\n",
       "<tbody>\n",
       "\t<tr><td>1</td><td>0</td><td>0</td><td>0</td><td>0</td><td>0</td></tr>\n",
       "\t<tr><td>0</td><td>1</td><td>0</td><td>0</td><td>0</td><td>0</td></tr>\n",
       "\t<tr><td>0</td><td>0</td><td>1</td><td>0</td><td>0</td><td>0</td></tr>\n",
       "</tbody>\n",
       "</table>\n"
      ],
      "text/latex": [
       "A matrix: 3 × 6 of type dbl\n",
       "\\begin{tabular}{llllll}\n",
       "\t 1 & 0 & 0 & 0 & 0 & 0\\\\\n",
       "\t 0 & 1 & 0 & 0 & 0 & 0\\\\\n",
       "\t 0 & 0 & 1 & 0 & 0 & 0\\\\\n",
       "\\end{tabular}\n"
      ],
      "text/markdown": [
       "\n",
       "A matrix: 3 × 6 of type dbl\n",
       "\n",
       "| 1 | 0 | 0 | 0 | 0 | 0 |\n",
       "| 0 | 1 | 0 | 0 | 0 | 0 |\n",
       "| 0 | 0 | 1 | 0 | 0 | 0 |\n",
       "\n"
      ],
      "text/plain": [
       "     [,1] [,2] [,3] [,4] [,5] [,6]\n",
       "[1,] 1    0    0    0    0    0   \n",
       "[2,] 0    1    0    0    0    0   \n",
       "[3,] 0    0    1    0    0    0   "
      ]
     },
     "metadata": {},
     "output_type": "display_data"
    }
   ],
   "source": [
    "Y_t=c(0.7,1,1.5,1,1.5,3)\n",
    "Y_t \n",
    "J<-matrix(c(diag(3),matrix(0,3,3)),ncol=6)\n",
    "J  "
   ]
  },
  {
   "cell_type": "code",
   "execution_count": 28,
   "metadata": {},
   "outputs": [
    {
     "data": {
      "text/html": [
       "<style>\n",
       ".list-inline {list-style: none; margin:0; padding: 0}\n",
       ".list-inline>li {display: inline-block}\n",
       ".list-inline>li:not(:last-child)::after {content: \"\\00b7\"; padding: 0 .5ex}\n",
       "</style>\n",
       "<ol class=list-inline><li>0.204500387231609</li><li>0.115890837846154</li><li>0.405638405121581</li><li>0</li><li>0</li><li>0</li></ol>\n"
      ],
      "text/latex": [
       "\\begin{enumerate*}\n",
       "\\item 0.204500387231609\n",
       "\\item 0.115890837846154\n",
       "\\item 0.405638405121581\n",
       "\\item 0\n",
       "\\item 0\n",
       "\\item 0\n",
       "\\end{enumerate*}\n"
      ],
      "text/markdown": [
       "1. 0.204500387231609\n",
       "2. 0.115890837846154\n",
       "3. 0.405638405121581\n",
       "4. 0\n",
       "5. 0\n",
       "6. 0\n",
       "\n",
       "\n"
      ],
      "text/plain": [
       "[1] 0.2045004 0.1158908 0.4056384 0.0000000 0.0000000 0.0000000"
      ]
     },
     "metadata": {},
     "output_type": "display_data"
    }
   ],
   "source": [
    "mu=c(0,0,0)\n",
    "u_1<-mvrnorm(1,mu=mu,Sigma=sigma)\n",
    "U<-c(u_1,0,0,0)\n",
    "U"
   ]
  },
  {
   "cell_type": "code",
   "execution_count": 29,
   "metadata": {},
   "outputs": [
    {
     "data": {
      "text/html": [
       "<table>\n",
       "<caption>A matrix: 3 × 1 of type dbl</caption>\n",
       "<tbody>\n",
       "\t<tr><td>0.5945004</td></tr>\n",
       "\t<tr><td>1.1158908</td></tr>\n",
       "\t<tr><td>2.2356384</td></tr>\n",
       "</tbody>\n",
       "</table>\n"
      ],
      "text/latex": [
       "A matrix: 3 × 1 of type dbl\n",
       "\\begin{tabular}{l}\n",
       "\t 0.5945004\\\\\n",
       "\t 1.1158908\\\\\n",
       "\t 2.2356384\\\\\n",
       "\\end{tabular}\n"
      ],
      "text/markdown": [
       "\n",
       "A matrix: 3 × 1 of type dbl\n",
       "\n",
       "| 0.5945004 |\n",
       "| 1.1158908 |\n",
       "| 2.2356384 |\n",
       "\n"
      ],
      "text/plain": [
       "     [,1]     \n",
       "[1,] 0.5945004\n",
       "[2,] 1.1158908\n",
       "[3,] 2.2356384"
      ]
     },
     "metadata": {},
     "output_type": "display_data"
    }
   ],
   "source": [
    "Y_t1=A%*%Y_t+diag(6)%*%U\n",
    "Y_2001=J%*%Y_t1 \n",
    "Y_2001"
   ]
  },
  {
   "cell_type": "code",
   "execution_count": 30,
   "metadata": {},
   "outputs": [
    {
     "data": {
      "text/html": [
       "<style>\n",
       ".list-inline {list-style: none; margin:0; padding: 0}\n",
       ".list-inline>li {display: inline-block}\n",
       ".list-inline>li:not(:last-child)::after {content: \"\\00b7\"; padding: 0 .5ex}\n",
       "</style>\n",
       "<ol class=list-inline><li>-0.245085862585415</li><li>-0.0330475374881909</li><li>-1.88223336676191</li><li>0</li><li>0</li><li>0</li></ol>\n"
      ],
      "text/latex": [
       "\\begin{enumerate*}\n",
       "\\item -0.245085862585415\n",
       "\\item -0.0330475374881909\n",
       "\\item -1.88223336676191\n",
       "\\item 0\n",
       "\\item 0\n",
       "\\item 0\n",
       "\\end{enumerate*}\n"
      ],
      "text/markdown": [
       "1. -0.245085862585415\n",
       "2. -0.0330475374881909\n",
       "3. -1.88223336676191\n",
       "4. 0\n",
       "5. 0\n",
       "6. 0\n",
       "\n",
       "\n"
      ],
      "text/plain": [
       "[1] -0.24508586 -0.03304754 -1.88223337  0.00000000  0.00000000  0.00000000"
      ]
     },
     "metadata": {},
     "output_type": "display_data"
    },
    {
     "data": {
      "text/html": [
       "<style>\n",
       ".list-inline {list-style: none; margin:0; padding: 0}\n",
       ".list-inline>li {display: inline-block}\n",
       ".list-inline>li:not(:last-child)::after {content: \"\\00b7\"; padding: 0 .5ex}\n",
       "</style>\n",
       "<ol class=list-inline><li>0.204247077136102</li><li>-0.0190851482270318</li><li>0.0626603203236698</li><li>0</li><li>0</li><li>0</li></ol>\n"
      ],
      "text/latex": [
       "\\begin{enumerate*}\n",
       "\\item 0.204247077136102\n",
       "\\item -0.0190851482270318\n",
       "\\item 0.0626603203236698\n",
       "\\item 0\n",
       "\\item 0\n",
       "\\item 0\n",
       "\\end{enumerate*}\n"
      ],
      "text/markdown": [
       "1. 0.204247077136102\n",
       "2. -0.0190851482270318\n",
       "3. 0.0626603203236698\n",
       "4. 0\n",
       "5. 0\n",
       "6. 0\n",
       "\n",
       "\n"
      ],
      "text/plain": [
       "[1]  0.20424708 -0.01908515  0.06266032  0.00000000  0.00000000  0.00000000"
      ]
     },
     "metadata": {},
     "output_type": "display_data"
    }
   ],
   "source": [
    "u_1<-mvrnorm(1,mu=mu,Sigma=sigma)\n",
    "U_1<-c(u_1,0,0,0)\n",
    "U_1\n",
    "u_2<-mvrnorm(1,mu=mu,Sigma=sigma)\n",
    "U_2<-c(u_2,0,0,0)\n",
    "U_2"
   ]
  },
  {
   "cell_type": "code",
   "execution_count": 31,
   "metadata": {},
   "outputs": [
    {
     "data": {
      "text/html": [
       "<table>\n",
       "<caption>A matrix: 3 × 1 of type dbl</caption>\n",
       "<tbody>\n",
       "\t<tr><td>0.7355648</td></tr>\n",
       "\t<tr><td>1.1145228</td></tr>\n",
       "\t<tr><td>2.4695890</td></tr>\n",
       "</tbody>\n",
       "</table>\n"
      ],
      "text/latex": [
       "A matrix: 3 × 1 of type dbl\n",
       "\\begin{tabular}{l}\n",
       "\t 0.7355648\\\\\n",
       "\t 1.1145228\\\\\n",
       "\t 2.4695890\\\\\n",
       "\\end{tabular}\n"
      ],
      "text/markdown": [
       "\n",
       "A matrix: 3 × 1 of type dbl\n",
       "\n",
       "| 0.7355648 |\n",
       "| 1.1145228 |\n",
       "| 2.4695890 |\n",
       "\n"
      ],
      "text/plain": [
       "     [,1]     \n",
       "[1,] 0.7355648\n",
       "[2,] 1.1145228\n",
       "[3,] 2.4695890"
      ]
     },
     "metadata": {},
     "output_type": "display_data"
    }
   ],
   "source": [
    "Y_t2=A%*%Y_t+A%*%U_2+diag(6)%*%U\n",
    "Y_2002=J%*%Y_t2 \n",
    "Y_2002"
   ]
  },
  {
   "cell_type": "code",
   "execution_count": 32,
   "metadata": {},
   "outputs": [
    {
     "data": {
      "text/html": [
       "<style>\n",
       ".list-inline {list-style: none; margin:0; padding: 0}\n",
       ".list-inline>li {display: inline-block}\n",
       ".list-inline>li:not(:last-child)::after {content: \"\\00b7\"; padding: 0 .5ex}\n",
       "</style>\n",
       "<ol class=list-inline><li>-0.933876758451229</li><li>-0.0768692874621706</li><li>-0.569642524148864</li><li>0</li><li>0</li><li>0</li></ol>\n"
      ],
      "text/latex": [
       "\\begin{enumerate*}\n",
       "\\item -0.933876758451229\n",
       "\\item -0.0768692874621706\n",
       "\\item -0.569642524148864\n",
       "\\item 0\n",
       "\\item 0\n",
       "\\item 0\n",
       "\\end{enumerate*}\n"
      ],
      "text/markdown": [
       "1. -0.933876758451229\n",
       "2. -0.0768692874621706\n",
       "3. -0.569642524148864\n",
       "4. 0\n",
       "5. 0\n",
       "6. 0\n",
       "\n",
       "\n"
      ],
      "text/plain": [
       "[1] -0.93387676 -0.07686929 -0.56964252  0.00000000  0.00000000  0.00000000"
      ]
     },
     "metadata": {},
     "output_type": "display_data"
    },
    {
     "data": {
      "text/html": [
       "<style>\n",
       ".list-inline {list-style: none; margin:0; padding: 0}\n",
       ".list-inline>li {display: inline-block}\n",
       ".list-inline>li:not(:last-child)::after {content: \"\\00b7\"; padding: 0 .5ex}\n",
       "</style>\n",
       "<ol class=list-inline><li>-0.231598711981525</li><li>-0.545254639541549</li><li>-0.685957103061229</li><li>0</li><li>0</li><li>0</li></ol>\n"
      ],
      "text/latex": [
       "\\begin{enumerate*}\n",
       "\\item -0.231598711981525\n",
       "\\item -0.545254639541549\n",
       "\\item -0.685957103061229\n",
       "\\item 0\n",
       "\\item 0\n",
       "\\item 0\n",
       "\\end{enumerate*}\n"
      ],
      "text/markdown": [
       "1. -0.231598711981525\n",
       "2. -0.545254639541549\n",
       "3. -0.685957103061229\n",
       "4. 0\n",
       "5. 0\n",
       "6. 0\n",
       "\n",
       "\n"
      ],
      "text/plain": [
       "[1] -0.2315987 -0.5452546 -0.6859571  0.0000000  0.0000000  0.0000000"
      ]
     },
     "metadata": {},
     "output_type": "display_data"
    },
    {
     "data": {
      "text/html": [
       "<style>\n",
       ".list-inline {list-style: none; margin:0; padding: 0}\n",
       ".list-inline>li {display: inline-block}\n",
       ".list-inline>li:not(:last-child)::after {content: \"\\00b7\"; padding: 0 .5ex}\n",
       "</style>\n",
       "<ol class=list-inline><li>-0.350798682950147</li><li>-0.460576885438769</li><li>0.401421393219201</li><li>0</li><li>0</li><li>0</li></ol>\n"
      ],
      "text/latex": [
       "\\begin{enumerate*}\n",
       "\\item -0.350798682950147\n",
       "\\item -0.460576885438769\n",
       "\\item 0.401421393219201\n",
       "\\item 0\n",
       "\\item 0\n",
       "\\item 0\n",
       "\\end{enumerate*}\n"
      ],
      "text/markdown": [
       "1. -0.350798682950147\n",
       "2. -0.460576885438769\n",
       "3. 0.401421393219201\n",
       "4. 0\n",
       "5. 0\n",
       "6. 0\n",
       "\n",
       "\n"
      ],
      "text/plain": [
       "[1] -0.3507987 -0.4605769  0.4014214  0.0000000  0.0000000  0.0000000"
      ]
     },
     "metadata": {},
     "output_type": "display_data"
    }
   ],
   "source": [
    "u_1<-mvrnorm(1,mu=mu,Sigma=sigma)\n",
    "U_1<-c(u_1,0,0,0)\n",
    "U_1\n",
    "u_2<-mvrnorm(1,mu=mu,Sigma=sigma)\n",
    "U_2<-c(u_2,0,0,0)\n",
    "U_2\n",
    "u_3<-mvrnorm(1,mu=mu,Sigma=sigma)\n",
    "U_3<-c(u_3,0,0,0)\n",
    "U_3"
   ]
  },
  {
   "cell_type": "code",
   "execution_count": 33,
   "metadata": {},
   "outputs": [
    {
     "data": {
      "text/html": [
       "<table>\n",
       "<caption>A matrix: 3 × 1 of type dbl</caption>\n",
       "<tbody>\n",
       "\t<tr><td>0.2294750</td></tr>\n",
       "\t<tr><td>0.7661841</td></tr>\n",
       "\t<tr><td>1.2203134</td></tr>\n",
       "</tbody>\n",
       "</table>\n"
      ],
      "text/latex": [
       "A matrix: 3 × 1 of type dbl\n",
       "\\begin{tabular}{l}\n",
       "\t 0.2294750\\\\\n",
       "\t 0.7661841\\\\\n",
       "\t 1.2203134\\\\\n",
       "\\end{tabular}\n"
      ],
      "text/markdown": [
       "\n",
       "A matrix: 3 × 1 of type dbl\n",
       "\n",
       "| 0.2294750 |\n",
       "| 0.7661841 |\n",
       "| 1.2203134 |\n",
       "\n"
      ],
      "text/plain": [
       "     [,1]     \n",
       "[1,] 0.2294750\n",
       "[2,] 0.7661841\n",
       "[3,] 1.2203134"
      ]
     },
     "metadata": {},
     "output_type": "display_data"
    }
   ],
   "source": [
    "Y_t3=A%*%Y_t+diag(6)%*%U+A%*%U_2+A%*%A%*%U_3\n",
    "Y_2003=J%*%Y_t3 \n",
    "Y_2003"
   ]
  },
  {
   "cell_type": "markdown",
   "metadata": {},
   "source": [
    "### B."
   ]
  },
  {
   "cell_type": "code",
   "execution_count": 34,
   "metadata": {},
   "outputs": [],
   "source": [
    "Jt=t(J)"
   ]
  },
  {
   "cell_type": "code",
   "execution_count": 35,
   "metadata": {},
   "outputs": [
    {
     "data": {
      "text/html": [
       "<table>\n",
       "<caption>A matrix: 3 × 3 of type dbl</caption>\n",
       "<tbody>\n",
       "\t<tr><td>0.7</td><td>0.1</td><td>0.0</td></tr>\n",
       "\t<tr><td>0.0</td><td>0.4</td><td>0.1</td></tr>\n",
       "\t<tr><td>0.9</td><td>0.0</td><td>0.8</td></tr>\n",
       "</tbody>\n",
       "</table>\n"
      ],
      "text/latex": [
       "A matrix: 3 × 3 of type dbl\n",
       "\\begin{tabular}{lll}\n",
       "\t 0.7 & 0.1 & 0.0\\\\\n",
       "\t 0.0 & 0.4 & 0.1\\\\\n",
       "\t 0.9 & 0.0 & 0.8\\\\\n",
       "\\end{tabular}\n"
      ],
      "text/markdown": [
       "\n",
       "A matrix: 3 × 3 of type dbl\n",
       "\n",
       "| 0.7 | 0.1 | 0.0 |\n",
       "| 0.0 | 0.4 | 0.1 |\n",
       "| 0.9 | 0.0 | 0.8 |\n",
       "\n"
      ],
      "text/plain": [
       "     [,1] [,2] [,3]\n",
       "[1,] 0.7  0.1  0.0 \n",
       "[2,] 0.0  0.4  0.1 \n",
       "[3,] 0.9  0.0  0.8 "
      ]
     },
     "metadata": {},
     "output_type": "display_data"
    }
   ],
   "source": [
    "phi_1=J%*%A%*%Jt \n",
    "phi_1"
   ]
  },
  {
   "cell_type": "code",
   "execution_count": 36,
   "metadata": {},
   "outputs": [
    {
     "data": {
      "text/html": [
       "<table>\n",
       "<caption>A matrix: 3 × 3 of type dbl</caption>\n",
       "<tbody>\n",
       "\t<tr><td>0.29</td><td>0.11</td><td>0.01</td></tr>\n",
       "\t<tr><td>0.09</td><td>0.26</td><td>0.22</td></tr>\n",
       "\t<tr><td>1.35</td><td>0.09</td><td>0.64</td></tr>\n",
       "</tbody>\n",
       "</table>\n"
      ],
      "text/latex": [
       "A matrix: 3 × 3 of type dbl\n",
       "\\begin{tabular}{lll}\n",
       "\t 0.29 & 0.11 & 0.01\\\\\n",
       "\t 0.09 & 0.26 & 0.22\\\\\n",
       "\t 1.35 & 0.09 & 0.64\\\\\n",
       "\\end{tabular}\n"
      ],
      "text/markdown": [
       "\n",
       "A matrix: 3 × 3 of type dbl\n",
       "\n",
       "| 0.29 | 0.11 | 0.01 |\n",
       "| 0.09 | 0.26 | 0.22 |\n",
       "| 1.35 | 0.09 | 0.64 |\n",
       "\n"
      ],
      "text/plain": [
       "     [,1] [,2] [,3]\n",
       "[1,] 0.29 0.11 0.01\n",
       "[2,] 0.09 0.26 0.22\n",
       "[3,] 1.35 0.09 0.64"
      ]
     },
     "metadata": {},
     "output_type": "display_data"
    }
   ],
   "source": [
    "phi_2=J%*%A%*%A%*%Jt\n",
    "phi_2"
   ]
  },
  {
   "cell_type": "code",
   "execution_count": 37,
   "metadata": {},
   "outputs": [
    {
     "data": {
      "text/html": [
       "<table>\n",
       "<caption>A matrix: 3 × 3 of type dbl</caption>\n",
       "<tbody>\n",
       "\t<tr><td>1</td><td>0</td><td>0</td></tr>\n",
       "\t<tr><td>0</td><td>1</td><td>0</td></tr>\n",
       "\t<tr><td>0</td><td>0</td><td>1</td></tr>\n",
       "</tbody>\n",
       "</table>\n"
      ],
      "text/latex": [
       "A matrix: 3 × 3 of type dbl\n",
       "\\begin{tabular}{lll}\n",
       "\t 1 & 0 & 0\\\\\n",
       "\t 0 & 1 & 0\\\\\n",
       "\t 0 & 0 & 1\\\\\n",
       "\\end{tabular}\n"
      ],
      "text/markdown": [
       "\n",
       "A matrix: 3 × 3 of type dbl\n",
       "\n",
       "| 1 | 0 | 0 |\n",
       "| 0 | 1 | 0 |\n",
       "| 0 | 0 | 1 |\n",
       "\n"
      ],
      "text/plain": [
       "     [,1] [,2] [,3]\n",
       "[1,] 1    0    0   \n",
       "[2,] 0    1    0   \n",
       "[3,] 0    0    1   "
      ]
     },
     "metadata": {},
     "output_type": "display_data"
    }
   ],
   "source": [
    "MSE_1=J%*%diag(6)%*%t(J)\n",
    "MSE_1"
   ]
  },
  {
   "cell_type": "code",
   "execution_count": 38,
   "metadata": {},
   "outputs": [
    {
     "data": {
      "text/html": [
       "<table>\n",
       "<caption>A matrix: 3 × 3 of type dbl</caption>\n",
       "<tbody>\n",
       "\t<tr><td>1.1325</td><td>0.0120</td><td>0.1665</td></tr>\n",
       "\t<tr><td>0.0120</td><td>1.0225</td><td>0.0756</td></tr>\n",
       "\t<tr><td>0.1665</td><td>0.0756</td><td>1.7290</td></tr>\n",
       "</tbody>\n",
       "</table>\n"
      ],
      "text/latex": [
       "A matrix: 3 × 3 of type dbl\n",
       "\\begin{tabular}{lll}\n",
       "\t 1.1325 & 0.0120 & 0.1665\\\\\n",
       "\t 0.0120 & 1.0225 & 0.0756\\\\\n",
       "\t 0.1665 & 0.0756 & 1.7290\\\\\n",
       "\\end{tabular}\n"
      ],
      "text/markdown": [
       "\n",
       "A matrix: 3 × 3 of type dbl\n",
       "\n",
       "| 1.1325 | 0.0120 | 0.1665 |\n",
       "| 0.0120 | 1.0225 | 0.0756 |\n",
       "| 0.1665 | 0.0756 | 1.7290 |\n",
       "\n"
      ],
      "text/plain": [
       "     [,1]   [,2]   [,3]  \n",
       "[1,] 1.1325 0.0120 0.1665\n",
       "[2,] 0.0120 1.0225 0.0756\n",
       "[3,] 0.1665 0.0756 1.7290"
      ]
     },
     "metadata": {},
     "output_type": "display_data"
    }
   ],
   "source": [
    "MSE_2=phi_1%*%sigma%*%t(phi_1)+MSE_1\n",
    "MSE_2"
   ]
  },
  {
   "cell_type": "code",
   "execution_count": 39,
   "metadata": {},
   "outputs": [
    {
     "data": {
      "text/html": [
       "<table>\n",
       "<caption>A matrix: 3 × 3 of type dbl</caption>\n",
       "<tbody>\n",
       "\t<tr><td>1.157450</td><td>0.025701</td><td>0.279603</td></tr>\n",
       "\t<tr><td>0.025701</td><td>1.071298</td><td>0.234117</td></tr>\n",
       "\t<tr><td>0.279603</td><td>0.234117</td><td>2.542645</td></tr>\n",
       "</tbody>\n",
       "</table>\n"
      ],
      "text/latex": [
       "A matrix: 3 × 3 of type dbl\n",
       "\\begin{tabular}{lll}\n",
       "\t 1.157450 & 0.025701 & 0.279603\\\\\n",
       "\t 0.025701 & 1.071298 & 0.234117\\\\\n",
       "\t 0.279603 & 0.234117 & 2.542645\\\\\n",
       "\\end{tabular}\n"
      ],
      "text/markdown": [
       "\n",
       "A matrix: 3 × 3 of type dbl\n",
       "\n",
       "| 1.157450 | 0.025701 | 0.279603 |\n",
       "| 0.025701 | 1.071298 | 0.234117 |\n",
       "| 0.279603 | 0.234117 | 2.542645 |\n",
       "\n"
      ],
      "text/plain": [
       "     [,1]     [,2]     [,3]    \n",
       "[1,] 1.157450 0.025701 0.279603\n",
       "[2,] 0.025701 1.071298 0.234117\n",
       "[3,] 0.279603 0.234117 2.542645"
      ]
     },
     "metadata": {},
     "output_type": "display_data"
    }
   ],
   "source": [
    "MSE_3=phi_2%*%sigma%*%t(phi_2)+MSE_2\n",
    "MSE_3"
   ]
  },
  {
   "cell_type": "markdown",
   "metadata": {},
   "source": [
    "### C."
   ]
  },
  {
   "cell_type": "code",
   "execution_count": 40,
   "metadata": {},
   "outputs": [],
   "source": [
    "z90=qnorm(0.95)\n",
    "Z90<-c(z90,z90,z90)\n",
    "z95=qnorm(0.975)\n",
    "Z95<-c(z95,z95,z95)"
   ]
  },
  {
   "cell_type": "code",
   "execution_count": 41,
   "metadata": {},
   "outputs": [
    {
     "data": {
      "text/html": [
       "<style>\n",
       ".list-inline {list-style: none; margin:0; padding: 0}\n",
       ".list-inline>li {display: inline-block}\n",
       ".list-inline>li:not(:last-child)::after {content: \"\\00b7\"; padding: 0 .5ex}\n",
       "</style>\n",
       "<ol class=list-inline><li>1.64485362695147</li><li>1.64485362695147</li><li>1.64485362695147</li></ol>\n"
      ],
      "text/latex": [
       "\\begin{enumerate*}\n",
       "\\item 1.64485362695147\n",
       "\\item 1.64485362695147\n",
       "\\item 1.64485362695147\n",
       "\\end{enumerate*}\n"
      ],
      "text/markdown": [
       "1. 1.64485362695147\n",
       "2. 1.64485362695147\n",
       "3. 1.64485362695147\n",
       "\n",
       "\n"
      ],
      "text/plain": [
       "[1] 1.644854 1.644854 1.644854"
      ]
     },
     "metadata": {},
     "output_type": "display_data"
    },
    {
     "data": {
      "text/html": [
       "<style>\n",
       ".list-inline {list-style: none; margin:0; padding: 0}\n",
       ".list-inline>li {display: inline-block}\n",
       ".list-inline>li:not(:last-child)::after {content: \"\\00b7\"; padding: 0 .5ex}\n",
       "</style>\n",
       "<ol class=list-inline><li>0.509901951359279</li><li>0.3</li><li>0.9</li></ol>\n"
      ],
      "text/latex": [
       "\\begin{enumerate*}\n",
       "\\item 0.509901951359279\n",
       "\\item 0.3\n",
       "\\item 0.9\n",
       "\\end{enumerate*}\n"
      ],
      "text/markdown": [
       "1. 0.509901951359279\n",
       "2. 0.3\n",
       "3. 0.9\n",
       "\n",
       "\n"
      ],
      "text/plain": [
       "[1] 0.509902 0.300000 0.900000"
      ]
     },
     "metadata": {},
     "output_type": "display_data"
    },
    {
     "data": {
      "text/html": [
       "<table>\n",
       "<caption>A matrix: 3 × 1 of type dbl</caption>\n",
       "<tbody>\n",
       "\t<tr><td>0.5945004</td></tr>\n",
       "\t<tr><td>1.1158908</td></tr>\n",
       "\t<tr><td>2.2356384</td></tr>\n",
       "</tbody>\n",
       "</table>\n"
      ],
      "text/latex": [
       "A matrix: 3 × 1 of type dbl\n",
       "\\begin{tabular}{l}\n",
       "\t 0.5945004\\\\\n",
       "\t 1.1158908\\\\\n",
       "\t 2.2356384\\\\\n",
       "\\end{tabular}\n"
      ],
      "text/markdown": [
       "\n",
       "A matrix: 3 × 1 of type dbl\n",
       "\n",
       "| 0.5945004 |\n",
       "| 1.1158908 |\n",
       "| 2.2356384 |\n",
       "\n"
      ],
      "text/plain": [
       "     [,1]     \n",
       "[1,] 0.5945004\n",
       "[2,] 1.1158908\n",
       "[3,] 2.2356384"
      ]
     },
     "metadata": {},
     "output_type": "display_data"
    }
   ],
   "source": [
    "Z90\n",
    "c((diag(sigma))^(1/2))\n",
    "Y_2001"
   ]
  },
  {
   "cell_type": "markdown",
   "metadata": {},
   "source": [
    "### Intervalos de confianza del 90% para predicciones"
   ]
  },
  {
   "cell_type": "code",
   "execution_count": 42,
   "metadata": {},
   "outputs": [
    {
     "data": {
      "text/html": [
       "<table>\n",
       "<caption>A data.frame: 3 × 5</caption>\n",
       "<thead>\n",
       "\t<tr><th scope=col>Variables</th><th scope=col>Confianza</th><th scope=col>lim_inf</th><th scope=col>pred</th><th scope=col>lim_sup</th></tr>\n",
       "\t<tr><th scope=col>&lt;fct&gt;</th><th scope=col>&lt;fct&gt;</th><th scope=col>&lt;dbl&gt;</th><th scope=col>&lt;dbl&gt;</th><th scope=col>&lt;dbl&gt;</th></tr>\n",
       "</thead>\n",
       "<tbody>\n",
       "\t<tr><td>GNP</td><td>90%</td><td>-0.2442137</td><td>0.5945004</td><td>1.433214</td></tr>\n",
       "\t<tr><td>M2 </td><td>90%</td><td> 0.6224347</td><td>1.1158908</td><td>1.609347</td></tr>\n",
       "\t<tr><td>IR </td><td>90%</td><td> 0.7552701</td><td>2.2356384</td><td>3.716007</td></tr>\n",
       "</tbody>\n",
       "</table>\n"
      ],
      "text/latex": [
       "A data.frame: 3 × 5\n",
       "\\begin{tabular}{lllll}\n",
       " Variables & Confianza & lim\\_inf & pred & lim\\_sup\\\\\n",
       " <fct> & <fct> & <dbl> & <dbl> & <dbl>\\\\\n",
       "\\hline\n",
       "\t GNP & 90\\% & -0.2442137 & 0.5945004 & 1.433214\\\\\n",
       "\t M2  & 90\\% &  0.6224347 & 1.1158908 & 1.609347\\\\\n",
       "\t IR  & 90\\% &  0.7552701 & 2.2356384 & 3.716007\\\\\n",
       "\\end{tabular}\n"
      ],
      "text/markdown": [
       "\n",
       "A data.frame: 3 × 5\n",
       "\n",
       "| Variables &lt;fct&gt; | Confianza &lt;fct&gt; | lim_inf &lt;dbl&gt; | pred &lt;dbl&gt; | lim_sup &lt;dbl&gt; |\n",
       "|---|---|---|---|---|\n",
       "| GNP | 90% | -0.2442137 | 0.5945004 | 1.433214 |\n",
       "| M2  | 90% |  0.6224347 | 1.1158908 | 1.609347 |\n",
       "| IR  | 90% |  0.7552701 | 2.2356384 | 3.716007 |\n",
       "\n"
      ],
      "text/plain": [
       "  Variables Confianza lim_inf    pred      lim_sup \n",
       "1 GNP       90%       -0.2442137 0.5945004 1.433214\n",
       "2 M2        90%        0.6224347 1.1158908 1.609347\n",
       "3 IR        90%        0.7552701 2.2356384 3.716007"
      ]
     },
     "metadata": {},
     "output_type": "display_data"
    }
   ],
   "source": [
    "IC90_2001=data.frame(Variables=c('GNP','M2','IR'),Confianza='90%',lim_inf=Y_2001-Z90*c((diag(sigma))^(1/2)),pred=Y_2001,lim_sup=Y_2001+Z90*c((diag(sigma))^(1/2)))\n",
    "IC90_2001"
   ]
  },
  {
   "cell_type": "code",
   "execution_count": 43,
   "metadata": {},
   "outputs": [
    {
     "data": {
      "text/html": [
       "<table>\n",
       "<caption>A data.frame: 3 × 5</caption>\n",
       "<thead>\n",
       "\t<tr><th scope=col>Variables</th><th scope=col>Confianza</th><th scope=col>lim_inf</th><th scope=col>pred</th><th scope=col>lim_sup</th></tr>\n",
       "\t<tr><th scope=col>&lt;fct&gt;</th><th scope=col>&lt;fct&gt;</th><th scope=col>&lt;dbl&gt;</th><th scope=col>&lt;dbl&gt;</th><th scope=col>&lt;dbl&gt;</th></tr>\n",
       "</thead>\n",
       "<tbody>\n",
       "\t<tr><td>GNP</td><td>90%</td><td>-0.1031492</td><td>0.7355648</td><td>1.574279</td></tr>\n",
       "\t<tr><td>M2 </td><td>90%</td><td> 0.6210667</td><td>1.1145228</td><td>1.607979</td></tr>\n",
       "\t<tr><td>IR </td><td>90%</td><td> 0.9892208</td><td>2.4695890</td><td>3.949957</td></tr>\n",
       "</tbody>\n",
       "</table>\n"
      ],
      "text/latex": [
       "A data.frame: 3 × 5\n",
       "\\begin{tabular}{lllll}\n",
       " Variables & Confianza & lim\\_inf & pred & lim\\_sup\\\\\n",
       " <fct> & <fct> & <dbl> & <dbl> & <dbl>\\\\\n",
       "\\hline\n",
       "\t GNP & 90\\% & -0.1031492 & 0.7355648 & 1.574279\\\\\n",
       "\t M2  & 90\\% &  0.6210667 & 1.1145228 & 1.607979\\\\\n",
       "\t IR  & 90\\% &  0.9892208 & 2.4695890 & 3.949957\\\\\n",
       "\\end{tabular}\n"
      ],
      "text/markdown": [
       "\n",
       "A data.frame: 3 × 5\n",
       "\n",
       "| Variables &lt;fct&gt; | Confianza &lt;fct&gt; | lim_inf &lt;dbl&gt; | pred &lt;dbl&gt; | lim_sup &lt;dbl&gt; |\n",
       "|---|---|---|---|---|\n",
       "| GNP | 90% | -0.1031492 | 0.7355648 | 1.574279 |\n",
       "| M2  | 90% |  0.6210667 | 1.1145228 | 1.607979 |\n",
       "| IR  | 90% |  0.9892208 | 2.4695890 | 3.949957 |\n",
       "\n"
      ],
      "text/plain": [
       "  Variables Confianza lim_inf    pred      lim_sup \n",
       "1 GNP       90%       -0.1031492 0.7355648 1.574279\n",
       "2 M2        90%        0.6210667 1.1145228 1.607979\n",
       "3 IR        90%        0.9892208 2.4695890 3.949957"
      ]
     },
     "metadata": {},
     "output_type": "display_data"
    }
   ],
   "source": [
    "IC90_2002=data.frame(Variables=c('GNP','M2','IR'),Confianza='90%',lim_inf=Y_2002-Z90*c((diag(sigma))^(1/2)),pred=Y_2002,lim_sup=Y_2002+Z90*c((diag(sigma))^(1/2)))\n",
    "IC90_2002"
   ]
  },
  {
   "cell_type": "code",
   "execution_count": 44,
   "metadata": {},
   "outputs": [
    {
     "data": {
      "text/html": [
       "<table>\n",
       "<caption>A data.frame: 3 × 5</caption>\n",
       "<thead>\n",
       "\t<tr><th scope=col>Variables</th><th scope=col>Confianza</th><th scope=col>lim_inf</th><th scope=col>pred</th><th scope=col>lim_sup</th></tr>\n",
       "\t<tr><th scope=col>&lt;fct&gt;</th><th scope=col>&lt;fct&gt;</th><th scope=col>&lt;dbl&gt;</th><th scope=col>&lt;dbl&gt;</th><th scope=col>&lt;dbl&gt;</th></tr>\n",
       "</thead>\n",
       "<tbody>\n",
       "\t<tr><td>GNP</td><td>90%</td><td>-0.6092391</td><td>0.2294750</td><td>1.068189</td></tr>\n",
       "\t<tr><td>M2 </td><td>90%</td><td> 0.2727280</td><td>0.7661841</td><td>1.259640</td></tr>\n",
       "\t<tr><td>IR </td><td>90%</td><td>-0.2600548</td><td>1.2203134</td><td>2.700682</td></tr>\n",
       "</tbody>\n",
       "</table>\n"
      ],
      "text/latex": [
       "A data.frame: 3 × 5\n",
       "\\begin{tabular}{lllll}\n",
       " Variables & Confianza & lim\\_inf & pred & lim\\_sup\\\\\n",
       " <fct> & <fct> & <dbl> & <dbl> & <dbl>\\\\\n",
       "\\hline\n",
       "\t GNP & 90\\% & -0.6092391 & 0.2294750 & 1.068189\\\\\n",
       "\t M2  & 90\\% &  0.2727280 & 0.7661841 & 1.259640\\\\\n",
       "\t IR  & 90\\% & -0.2600548 & 1.2203134 & 2.700682\\\\\n",
       "\\end{tabular}\n"
      ],
      "text/markdown": [
       "\n",
       "A data.frame: 3 × 5\n",
       "\n",
       "| Variables &lt;fct&gt; | Confianza &lt;fct&gt; | lim_inf &lt;dbl&gt; | pred &lt;dbl&gt; | lim_sup &lt;dbl&gt; |\n",
       "|---|---|---|---|---|\n",
       "| GNP | 90% | -0.6092391 | 0.2294750 | 1.068189 |\n",
       "| M2  | 90% |  0.2727280 | 0.7661841 | 1.259640 |\n",
       "| IR  | 90% | -0.2600548 | 1.2203134 | 2.700682 |\n",
       "\n"
      ],
      "text/plain": [
       "  Variables Confianza lim_inf    pred      lim_sup \n",
       "1 GNP       90%       -0.6092391 0.2294750 1.068189\n",
       "2 M2        90%        0.2727280 0.7661841 1.259640\n",
       "3 IR        90%       -0.2600548 1.2203134 2.700682"
      ]
     },
     "metadata": {},
     "output_type": "display_data"
    }
   ],
   "source": [
    "IC90_2003=data.frame(Variables=c('GNP','M2','IR'),Confianza='90%',lim_inf=Y_2003-Z90*c((diag(sigma))^(1/2)),pred=Y_2003,lim_sup=Y_2003+Z90*c((diag(sigma))^(1/2)))\n",
    "IC90_2003"
   ]
  },
  {
   "cell_type": "markdown",
   "metadata": {},
   "source": [
    "### Intervalos de confianza del 95% para predicciones"
   ]
  },
  {
   "cell_type": "code",
   "execution_count": 45,
   "metadata": {},
   "outputs": [
    {
     "data": {
      "text/html": [
       "<table>\n",
       "<caption>A data.frame: 3 × 5</caption>\n",
       "<thead>\n",
       "\t<tr><th scope=col>Variables</th><th scope=col>Confianza</th><th scope=col>lim_inf</th><th scope=col>pred</th><th scope=col>lim_sup</th></tr>\n",
       "\t<tr><th scope=col>&lt;fct&gt;</th><th scope=col>&lt;fct&gt;</th><th scope=col>&lt;dbl&gt;</th><th scope=col>&lt;dbl&gt;</th><th scope=col>&lt;dbl&gt;</th></tr>\n",
       "</thead>\n",
       "<tbody>\n",
       "\t<tr><td>GNP</td><td>95%</td><td>-0.4048891</td><td>0.5945004</td><td>1.593890</td></tr>\n",
       "\t<tr><td>M2 </td><td>95%</td><td> 0.5279016</td><td>1.1158908</td><td>1.703880</td></tr>\n",
       "\t<tr><td>IR </td><td>95%</td><td> 0.4716708</td><td>2.2356384</td><td>3.999606</td></tr>\n",
       "</tbody>\n",
       "</table>\n"
      ],
      "text/latex": [
       "A data.frame: 3 × 5\n",
       "\\begin{tabular}{lllll}\n",
       " Variables & Confianza & lim\\_inf & pred & lim\\_sup\\\\\n",
       " <fct> & <fct> & <dbl> & <dbl> & <dbl>\\\\\n",
       "\\hline\n",
       "\t GNP & 95\\% & -0.4048891 & 0.5945004 & 1.593890\\\\\n",
       "\t M2  & 95\\% &  0.5279016 & 1.1158908 & 1.703880\\\\\n",
       "\t IR  & 95\\% &  0.4716708 & 2.2356384 & 3.999606\\\\\n",
       "\\end{tabular}\n"
      ],
      "text/markdown": [
       "\n",
       "A data.frame: 3 × 5\n",
       "\n",
       "| Variables &lt;fct&gt; | Confianza &lt;fct&gt; | lim_inf &lt;dbl&gt; | pred &lt;dbl&gt; | lim_sup &lt;dbl&gt; |\n",
       "|---|---|---|---|---|\n",
       "| GNP | 95% | -0.4048891 | 0.5945004 | 1.593890 |\n",
       "| M2  | 95% |  0.5279016 | 1.1158908 | 1.703880 |\n",
       "| IR  | 95% |  0.4716708 | 2.2356384 | 3.999606 |\n",
       "\n"
      ],
      "text/plain": [
       "  Variables Confianza lim_inf    pred      lim_sup \n",
       "1 GNP       95%       -0.4048891 0.5945004 1.593890\n",
       "2 M2        95%        0.5279016 1.1158908 1.703880\n",
       "3 IR        95%        0.4716708 2.2356384 3.999606"
      ]
     },
     "metadata": {},
     "output_type": "display_data"
    }
   ],
   "source": [
    "IC95_2001=data.frame(Variables=c('GNP','M2','IR'),Confianza='95%',lim_inf=Y_2001-Z95*c((diag(sigma))^(1/2)),pred=Y_2001,lim_sup=Y_2001+Z95*c((diag(sigma))^(1/2)))\n",
    "IC95_2001"
   ]
  },
  {
   "cell_type": "code",
   "execution_count": 46,
   "metadata": {},
   "outputs": [
    {
     "data": {
      "text/html": [
       "<table>\n",
       "<caption>A data.frame: 3 × 5</caption>\n",
       "<thead>\n",
       "\t<tr><th scope=col>Variables</th><th scope=col>Confianza</th><th scope=col>lim_inf</th><th scope=col>pred</th><th scope=col>lim_sup</th></tr>\n",
       "\t<tr><th scope=col>&lt;fct&gt;</th><th scope=col>&lt;fct&gt;</th><th scope=col>&lt;dbl&gt;</th><th scope=col>&lt;dbl&gt;</th><th scope=col>&lt;dbl&gt;</th></tr>\n",
       "</thead>\n",
       "<tbody>\n",
       "\t<tr><td>GNP</td><td>95%</td><td>-0.2638246</td><td>0.7355648</td><td>1.734954</td></tr>\n",
       "\t<tr><td>M2 </td><td>95%</td><td> 0.5265336</td><td>1.1145228</td><td>1.702512</td></tr>\n",
       "\t<tr><td>IR </td><td>95%</td><td> 0.7056214</td><td>2.4695890</td><td>4.233557</td></tr>\n",
       "</tbody>\n",
       "</table>\n"
      ],
      "text/latex": [
       "A data.frame: 3 × 5\n",
       "\\begin{tabular}{lllll}\n",
       " Variables & Confianza & lim\\_inf & pred & lim\\_sup\\\\\n",
       " <fct> & <fct> & <dbl> & <dbl> & <dbl>\\\\\n",
       "\\hline\n",
       "\t GNP & 95\\% & -0.2638246 & 0.7355648 & 1.734954\\\\\n",
       "\t M2  & 95\\% &  0.5265336 & 1.1145228 & 1.702512\\\\\n",
       "\t IR  & 95\\% &  0.7056214 & 2.4695890 & 4.233557\\\\\n",
       "\\end{tabular}\n"
      ],
      "text/markdown": [
       "\n",
       "A data.frame: 3 × 5\n",
       "\n",
       "| Variables &lt;fct&gt; | Confianza &lt;fct&gt; | lim_inf &lt;dbl&gt; | pred &lt;dbl&gt; | lim_sup &lt;dbl&gt; |\n",
       "|---|---|---|---|---|\n",
       "| GNP | 95% | -0.2638246 | 0.7355648 | 1.734954 |\n",
       "| M2  | 95% |  0.5265336 | 1.1145228 | 1.702512 |\n",
       "| IR  | 95% |  0.7056214 | 2.4695890 | 4.233557 |\n",
       "\n"
      ],
      "text/plain": [
       "  Variables Confianza lim_inf    pred      lim_sup \n",
       "1 GNP       95%       -0.2638246 0.7355648 1.734954\n",
       "2 M2        95%        0.5265336 1.1145228 1.702512\n",
       "3 IR        95%        0.7056214 2.4695890 4.233557"
      ]
     },
     "metadata": {},
     "output_type": "display_data"
    }
   ],
   "source": [
    "IC95_2002=data.frame(Variables=c('GNP','M2','IR'),Confianza='95%',lim_inf=Y_2002-Z95*c((diag(sigma))^(1/2)),pred=Y_2002,lim_sup=Y_2002+Z95*c((diag(sigma))^(1/2)))\n",
    "IC95_2002"
   ]
  },
  {
   "cell_type": "code",
   "execution_count": 47,
   "metadata": {},
   "outputs": [
    {
     "data": {
      "text/html": [
       "<table>\n",
       "<caption>A data.frame: 3 × 5</caption>\n",
       "<thead>\n",
       "\t<tr><th scope=col>Variables</th><th scope=col>Confianza</th><th scope=col>lim_inf</th><th scope=col>pred</th><th scope=col>lim_sup</th></tr>\n",
       "\t<tr><th scope=col>&lt;fct&gt;</th><th scope=col>&lt;fct&gt;</th><th scope=col>&lt;dbl&gt;</th><th scope=col>&lt;dbl&gt;</th><th scope=col>&lt;dbl&gt;</th></tr>\n",
       "</thead>\n",
       "<tbody>\n",
       "\t<tr><td>GNP</td><td>95%</td><td>-0.7699145</td><td>0.2294750</td><td>1.228864</td></tr>\n",
       "\t<tr><td>M2 </td><td>95%</td><td> 0.1781949</td><td>0.7661841</td><td>1.354173</td></tr>\n",
       "\t<tr><td>IR </td><td>95%</td><td>-0.5436542</td><td>1.2203134</td><td>2.984281</td></tr>\n",
       "</tbody>\n",
       "</table>\n"
      ],
      "text/latex": [
       "A data.frame: 3 × 5\n",
       "\\begin{tabular}{lllll}\n",
       " Variables & Confianza & lim\\_inf & pred & lim\\_sup\\\\\n",
       " <fct> & <fct> & <dbl> & <dbl> & <dbl>\\\\\n",
       "\\hline\n",
       "\t GNP & 95\\% & -0.7699145 & 0.2294750 & 1.228864\\\\\n",
       "\t M2  & 95\\% &  0.1781949 & 0.7661841 & 1.354173\\\\\n",
       "\t IR  & 95\\% & -0.5436542 & 1.2203134 & 2.984281\\\\\n",
       "\\end{tabular}\n"
      ],
      "text/markdown": [
       "\n",
       "A data.frame: 3 × 5\n",
       "\n",
       "| Variables &lt;fct&gt; | Confianza &lt;fct&gt; | lim_inf &lt;dbl&gt; | pred &lt;dbl&gt; | lim_sup &lt;dbl&gt; |\n",
       "|---|---|---|---|---|\n",
       "| GNP | 95% | -0.7699145 | 0.2294750 | 1.228864 |\n",
       "| M2  | 95% |  0.1781949 | 0.7661841 | 1.354173 |\n",
       "| IR  | 95% | -0.5436542 | 1.2203134 | 2.984281 |\n",
       "\n"
      ],
      "text/plain": [
       "  Variables Confianza lim_inf    pred      lim_sup \n",
       "1 GNP       95%       -0.7699145 0.2294750 1.228864\n",
       "2 M2        95%        0.1781949 0.7661841 1.354173\n",
       "3 IR        95%       -0.5436542 1.2203134 2.984281"
      ]
     },
     "metadata": {},
     "output_type": "display_data"
    }
   ],
   "source": [
    "IC95_2003=data.frame(Variables=c('GNP','M2','IR'),Confianza='95%',lim_inf=Y_2003-Z95*c((diag(sigma))^(1/2)),pred=Y_2003,lim_sup=Y_2003+Z95*c((diag(sigma))^(1/2)))\n",
    "IC95_2003"
   ]
  },
  {
   "cell_type": "markdown",
   "metadata": {},
   "source": [
    "### Intervalos de confianza unidos"
   ]
  },
  {
   "cell_type": "code",
   "execution_count": 48,
   "metadata": {},
   "outputs": [
    {
     "data": {
      "text/html": [
       "<table>\n",
       "<caption>A data.frame: 6 × 5</caption>\n",
       "<thead>\n",
       "\t<tr><th scope=col>Variables</th><th scope=col>Confianza</th><th scope=col>lim_inf</th><th scope=col>pred</th><th scope=col>lim_sup</th></tr>\n",
       "\t<tr><th scope=col>&lt;fct&gt;</th><th scope=col>&lt;fct&gt;</th><th scope=col>&lt;dbl&gt;</th><th scope=col>&lt;dbl&gt;</th><th scope=col>&lt;dbl&gt;</th></tr>\n",
       "</thead>\n",
       "<tbody>\n",
       "\t<tr><td>GNP</td><td>90%</td><td>-0.2442137</td><td>0.5945004</td><td>1.433214</td></tr>\n",
       "\t<tr><td>M2 </td><td>90%</td><td> 0.6224347</td><td>1.1158908</td><td>1.609347</td></tr>\n",
       "\t<tr><td>IR </td><td>90%</td><td> 0.7552701</td><td>2.2356384</td><td>3.716007</td></tr>\n",
       "\t<tr><td>GNP</td><td>95%</td><td>-0.4048891</td><td>0.5945004</td><td>1.593890</td></tr>\n",
       "\t<tr><td>M2 </td><td>95%</td><td> 0.5279016</td><td>1.1158908</td><td>1.703880</td></tr>\n",
       "\t<tr><td>IR </td><td>95%</td><td> 0.4716708</td><td>2.2356384</td><td>3.999606</td></tr>\n",
       "</tbody>\n",
       "</table>\n"
      ],
      "text/latex": [
       "A data.frame: 6 × 5\n",
       "\\begin{tabular}{lllll}\n",
       " Variables & Confianza & lim\\_inf & pred & lim\\_sup\\\\\n",
       " <fct> & <fct> & <dbl> & <dbl> & <dbl>\\\\\n",
       "\\hline\n",
       "\t GNP & 90\\% & -0.2442137 & 0.5945004 & 1.433214\\\\\n",
       "\t M2  & 90\\% &  0.6224347 & 1.1158908 & 1.609347\\\\\n",
       "\t IR  & 90\\% &  0.7552701 & 2.2356384 & 3.716007\\\\\n",
       "\t GNP & 95\\% & -0.4048891 & 0.5945004 & 1.593890\\\\\n",
       "\t M2  & 95\\% &  0.5279016 & 1.1158908 & 1.703880\\\\\n",
       "\t IR  & 95\\% &  0.4716708 & 2.2356384 & 3.999606\\\\\n",
       "\\end{tabular}\n"
      ],
      "text/markdown": [
       "\n",
       "A data.frame: 6 × 5\n",
       "\n",
       "| Variables &lt;fct&gt; | Confianza &lt;fct&gt; | lim_inf &lt;dbl&gt; | pred &lt;dbl&gt; | lim_sup &lt;dbl&gt; |\n",
       "|---|---|---|---|---|\n",
       "| GNP | 90% | -0.2442137 | 0.5945004 | 1.433214 |\n",
       "| M2  | 90% |  0.6224347 | 1.1158908 | 1.609347 |\n",
       "| IR  | 90% |  0.7552701 | 2.2356384 | 3.716007 |\n",
       "| GNP | 95% | -0.4048891 | 0.5945004 | 1.593890 |\n",
       "| M2  | 95% |  0.5279016 | 1.1158908 | 1.703880 |\n",
       "| IR  | 95% |  0.4716708 | 2.2356384 | 3.999606 |\n",
       "\n"
      ],
      "text/plain": [
       "  Variables Confianza lim_inf    pred      lim_sup \n",
       "1 GNP       90%       -0.2442137 0.5945004 1.433214\n",
       "2 M2        90%        0.6224347 1.1158908 1.609347\n",
       "3 IR        90%        0.7552701 2.2356384 3.716007\n",
       "4 GNP       95%       -0.4048891 0.5945004 1.593890\n",
       "5 M2        95%        0.5279016 1.1158908 1.703880\n",
       "6 IR        95%        0.4716708 2.2356384 3.999606"
      ]
     },
     "metadata": {},
     "output_type": "display_data"
    }
   ],
   "source": [
    "IC_2001=rbind(IC90_2001,IC95_2001)\n",
    "IC_2001"
   ]
  },
  {
   "cell_type": "code",
   "execution_count": 49,
   "metadata": {},
   "outputs": [
    {
     "data": {
      "text/html": [
       "<table>\n",
       "<caption>A data.frame: 6 × 5</caption>\n",
       "<thead>\n",
       "\t<tr><th scope=col>Variables</th><th scope=col>Confianza</th><th scope=col>lim_inf</th><th scope=col>pred</th><th scope=col>lim_sup</th></tr>\n",
       "\t<tr><th scope=col>&lt;fct&gt;</th><th scope=col>&lt;fct&gt;</th><th scope=col>&lt;dbl&gt;</th><th scope=col>&lt;dbl&gt;</th><th scope=col>&lt;dbl&gt;</th></tr>\n",
       "</thead>\n",
       "<tbody>\n",
       "\t<tr><td>GNP</td><td>90%</td><td>-0.1031492</td><td>0.7355648</td><td>1.574279</td></tr>\n",
       "\t<tr><td>M2 </td><td>90%</td><td> 0.6210667</td><td>1.1145228</td><td>1.607979</td></tr>\n",
       "\t<tr><td>IR </td><td>90%</td><td> 0.9892208</td><td>2.4695890</td><td>3.949957</td></tr>\n",
       "\t<tr><td>GNP</td><td>95%</td><td>-0.2638246</td><td>0.7355648</td><td>1.734954</td></tr>\n",
       "\t<tr><td>M2 </td><td>95%</td><td> 0.5265336</td><td>1.1145228</td><td>1.702512</td></tr>\n",
       "\t<tr><td>IR </td><td>95%</td><td> 0.7056214</td><td>2.4695890</td><td>4.233557</td></tr>\n",
       "</tbody>\n",
       "</table>\n"
      ],
      "text/latex": [
       "A data.frame: 6 × 5\n",
       "\\begin{tabular}{lllll}\n",
       " Variables & Confianza & lim\\_inf & pred & lim\\_sup\\\\\n",
       " <fct> & <fct> & <dbl> & <dbl> & <dbl>\\\\\n",
       "\\hline\n",
       "\t GNP & 90\\% & -0.1031492 & 0.7355648 & 1.574279\\\\\n",
       "\t M2  & 90\\% &  0.6210667 & 1.1145228 & 1.607979\\\\\n",
       "\t IR  & 90\\% &  0.9892208 & 2.4695890 & 3.949957\\\\\n",
       "\t GNP & 95\\% & -0.2638246 & 0.7355648 & 1.734954\\\\\n",
       "\t M2  & 95\\% &  0.5265336 & 1.1145228 & 1.702512\\\\\n",
       "\t IR  & 95\\% &  0.7056214 & 2.4695890 & 4.233557\\\\\n",
       "\\end{tabular}\n"
      ],
      "text/markdown": [
       "\n",
       "A data.frame: 6 × 5\n",
       "\n",
       "| Variables &lt;fct&gt; | Confianza &lt;fct&gt; | lim_inf &lt;dbl&gt; | pred &lt;dbl&gt; | lim_sup &lt;dbl&gt; |\n",
       "|---|---|---|---|---|\n",
       "| GNP | 90% | -0.1031492 | 0.7355648 | 1.574279 |\n",
       "| M2  | 90% |  0.6210667 | 1.1145228 | 1.607979 |\n",
       "| IR  | 90% |  0.9892208 | 2.4695890 | 3.949957 |\n",
       "| GNP | 95% | -0.2638246 | 0.7355648 | 1.734954 |\n",
       "| M2  | 95% |  0.5265336 | 1.1145228 | 1.702512 |\n",
       "| IR  | 95% |  0.7056214 | 2.4695890 | 4.233557 |\n",
       "\n"
      ],
      "text/plain": [
       "  Variables Confianza lim_inf    pred      lim_sup \n",
       "1 GNP       90%       -0.1031492 0.7355648 1.574279\n",
       "2 M2        90%        0.6210667 1.1145228 1.607979\n",
       "3 IR        90%        0.9892208 2.4695890 3.949957\n",
       "4 GNP       95%       -0.2638246 0.7355648 1.734954\n",
       "5 M2        95%        0.5265336 1.1145228 1.702512\n",
       "6 IR        95%        0.7056214 2.4695890 4.233557"
      ]
     },
     "metadata": {},
     "output_type": "display_data"
    }
   ],
   "source": [
    "IC_2002=rbind(IC90_2002,IC95_2002)\n",
    "IC_2002"
   ]
  },
  {
   "cell_type": "code",
   "execution_count": 50,
   "metadata": {},
   "outputs": [
    {
     "data": {
      "text/html": [
       "<table>\n",
       "<caption>A data.frame: 6 × 5</caption>\n",
       "<thead>\n",
       "\t<tr><th scope=col>Variables</th><th scope=col>Confianza</th><th scope=col>lim_inf</th><th scope=col>pred</th><th scope=col>lim_sup</th></tr>\n",
       "\t<tr><th scope=col>&lt;fct&gt;</th><th scope=col>&lt;fct&gt;</th><th scope=col>&lt;dbl&gt;</th><th scope=col>&lt;dbl&gt;</th><th scope=col>&lt;dbl&gt;</th></tr>\n",
       "</thead>\n",
       "<tbody>\n",
       "\t<tr><td>GNP</td><td>90%</td><td>-0.6092391</td><td>0.2294750</td><td>1.068189</td></tr>\n",
       "\t<tr><td>M2 </td><td>90%</td><td> 0.2727280</td><td>0.7661841</td><td>1.259640</td></tr>\n",
       "\t<tr><td>IR </td><td>90%</td><td>-0.2600548</td><td>1.2203134</td><td>2.700682</td></tr>\n",
       "\t<tr><td>GNP</td><td>95%</td><td>-0.7699145</td><td>0.2294750</td><td>1.228864</td></tr>\n",
       "\t<tr><td>M2 </td><td>95%</td><td> 0.1781949</td><td>0.7661841</td><td>1.354173</td></tr>\n",
       "\t<tr><td>IR </td><td>95%</td><td>-0.5436542</td><td>1.2203134</td><td>2.984281</td></tr>\n",
       "</tbody>\n",
       "</table>\n"
      ],
      "text/latex": [
       "A data.frame: 6 × 5\n",
       "\\begin{tabular}{lllll}\n",
       " Variables & Confianza & lim\\_inf & pred & lim\\_sup\\\\\n",
       " <fct> & <fct> & <dbl> & <dbl> & <dbl>\\\\\n",
       "\\hline\n",
       "\t GNP & 90\\% & -0.6092391 & 0.2294750 & 1.068189\\\\\n",
       "\t M2  & 90\\% &  0.2727280 & 0.7661841 & 1.259640\\\\\n",
       "\t IR  & 90\\% & -0.2600548 & 1.2203134 & 2.700682\\\\\n",
       "\t GNP & 95\\% & -0.7699145 & 0.2294750 & 1.228864\\\\\n",
       "\t M2  & 95\\% &  0.1781949 & 0.7661841 & 1.354173\\\\\n",
       "\t IR  & 95\\% & -0.5436542 & 1.2203134 & 2.984281\\\\\n",
       "\\end{tabular}\n"
      ],
      "text/markdown": [
       "\n",
       "A data.frame: 6 × 5\n",
       "\n",
       "| Variables &lt;fct&gt; | Confianza &lt;fct&gt; | lim_inf &lt;dbl&gt; | pred &lt;dbl&gt; | lim_sup &lt;dbl&gt; |\n",
       "|---|---|---|---|---|\n",
       "| GNP | 90% | -0.6092391 | 0.2294750 | 1.068189 |\n",
       "| M2  | 90% |  0.2727280 | 0.7661841 | 1.259640 |\n",
       "| IR  | 90% | -0.2600548 | 1.2203134 | 2.700682 |\n",
       "| GNP | 95% | -0.7699145 | 0.2294750 | 1.228864 |\n",
       "| M2  | 95% |  0.1781949 | 0.7661841 | 1.354173 |\n",
       "| IR  | 95% | -0.5436542 | 1.2203134 | 2.984281 |\n",
       "\n"
      ],
      "text/plain": [
       "  Variables Confianza lim_inf    pred      lim_sup \n",
       "1 GNP       90%       -0.6092391 0.2294750 1.068189\n",
       "2 M2        90%        0.2727280 0.7661841 1.259640\n",
       "3 IR        90%       -0.2600548 1.2203134 2.700682\n",
       "4 GNP       95%       -0.7699145 0.2294750 1.228864\n",
       "5 M2        95%        0.1781949 0.7661841 1.354173\n",
       "6 IR        95%       -0.5436542 1.2203134 2.984281"
      ]
     },
     "metadata": {},
     "output_type": "display_data"
    }
   ],
   "source": [
    "IC_2003=rbind(IC90_2003,IC95_2003)\n",
    "IC_2003"
   ]
  },
  {
   "cell_type": "markdown",
   "metadata": {},
   "source": [
    "### D."
   ]
  },
  {
   "cell_type": "markdown",
   "metadata": {},
   "source": [
    "Para el metodo creamos intervalos de confianza del 99%"
   ]
  },
  {
   "cell_type": "code",
   "execution_count": 51,
   "metadata": {},
   "outputs": [
    {
     "data": {
      "text/html": [
       "<table>\n",
       "<caption>A data.frame: 3 × 3</caption>\n",
       "<thead>\n",
       "\t<tr><th scope=col>Variable</th><th scope=col>lim_inf</th><th scope=col>lim_sup</th></tr>\n",
       "\t<tr><th scope=col>&lt;fct&gt;</th><th scope=col>&lt;dbl&gt;</th><th scope=col>&lt;dbl&gt;</th></tr>\n",
       "</thead>\n",
       "<tbody>\n",
       "\t<tr><td>GNP_2001</td><td>-0.7189200</td><td>1.907921</td></tr>\n",
       "\t<tr><td>GNP_2002</td><td>-0.5778556</td><td>2.048985</td></tr>\n",
       "\t<tr><td>GNP_2003</td><td>-1.0839454</td><td>1.542895</td></tr>\n",
       "</tbody>\n",
       "</table>\n"
      ],
      "text/latex": [
       "A data.frame: 3 × 3\n",
       "\\begin{tabular}{lll}\n",
       " Variable & lim\\_inf & lim\\_sup\\\\\n",
       " <fct> & <dbl> & <dbl>\\\\\n",
       "\\hline\n",
       "\t GNP\\_2001 & -0.7189200 & 1.907921\\\\\n",
       "\t GNP\\_2002 & -0.5778556 & 2.048985\\\\\n",
       "\t GNP\\_2003 & -1.0839454 & 1.542895\\\\\n",
       "\\end{tabular}\n"
      ],
      "text/markdown": [
       "\n",
       "A data.frame: 3 × 3\n",
       "\n",
       "| Variable &lt;fct&gt; | lim_inf &lt;dbl&gt; | lim_sup &lt;dbl&gt; |\n",
       "|---|---|---|\n",
       "| GNP_2001 | -0.7189200 | 1.907921 |\n",
       "| GNP_2002 | -0.5778556 | 2.048985 |\n",
       "| GNP_2003 | -1.0839454 | 1.542895 |\n",
       "\n"
      ],
      "text/plain": [
       "  Variable lim_inf    lim_sup \n",
       "1 GNP_2001 -0.7189200 1.907921\n",
       "2 GNP_2002 -0.5778556 2.048985\n",
       "3 GNP_2003 -1.0839454 1.542895"
      ]
     },
     "metadata": {},
     "output_type": "display_data"
    }
   ],
   "source": [
    "Z99=qnorm(0.995)\n",
    "GNP_2001=data.frame(Variable='GNP_2001',lim_inf=Y_2001[1]-Z99*c((diag(sigma))^(1/2))[1],lim_sup=Y_2001[1]+Z99*c((diag(sigma))^(1/2))[1])\n",
    "GNP_2002=data.frame(Variable='GNP_2002',lim_inf=Y_2002[1]-Z99*c((diag(sigma))^(1/2))[1],lim_sup=Y_2002[1]+Z99*c((diag(sigma))^(1/2))[1])\n",
    "GNP_2003=data.frame(Variable='GNP_2003',lim_inf=Y_2003[1]-Z99*c((diag(sigma))^(1/2))[1],lim_sup=Y_2003[1]+Z99*c((diag(sigma))^(1/2))[1])\n",
    "IC_GNP_99=rbind(GNP_2001,GNP_2002,GNP_2003)\n",
    "IC_GNP_99"
   ]
  },
  {
   "cell_type": "code",
   "execution_count": null,
   "metadata": {},
   "outputs": [],
   "source": []
  }
 ],
 "metadata": {
  "kernelspec": {
   "display_name": "R",
   "language": "R",
   "name": "ir"
  },
  "language_info": {
   "codemirror_mode": "r",
   "file_extension": ".r",
   "mimetype": "text/x-r-source",
   "name": "R",
   "pygments_lexer": "r",
   "version": "3.6.3"
  }
 },
 "nbformat": 4,
 "nbformat_minor": 4
}
