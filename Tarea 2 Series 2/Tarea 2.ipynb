{
 "cells": [
  {
   "cell_type": "markdown",
   "metadata": {},
   "source": [
    "# Tarea 2"
   ]
  },
  {
   "cell_type": "markdown",
   "metadata": {},
   "source": [
    "## Pregunta 1"
   ]
  },
  {
   "cell_type": "markdown",
   "metadata": {},
   "source": [
    "### Calculos de Gamma(h)"
   ]
  },
  {
   "cell_type": "code",
   "execution_count": null,
   "metadata": {},
   "outputs": [],
   "source": [
    "library(MASS)"
   ]
  },
  {
   "cell_type": "code",
   "execution_count": 2,
   "metadata": {},
   "outputs": [],
   "source": [
    "I<- diag(9)\n",
    "A_1<-matrix(c(0.7,0,0.9,0.1,0.4,0,0,0.1,0.8), ncol = 3) \n",
    "AxA<-kronecker(A_1,A_1) \n",
    "v_sigma<-c(0.26,0.03,0,0.03,0.09,0,0,0,0.81) \n",
    "sigma<-matrix(v_sigma,ncol=3)\n",
    "inv<-solve(I-AxA)"
   ]
  },
  {
   "cell_type": "code",
   "execution_count": 3,
   "metadata": {},
   "outputs": [
    {
     "data": {
      "text/html": [
       "<table>\n",
       "<caption>A matrix: 3 × 3 of type dbl</caption>\n",
       "<tbody>\n",
       "\t<tr><td>0.5644039</td><td>0.1769069</td><td>1.051951</td></tr>\n",
       "\t<tr><td>0.1769069</td><td>0.3079040</td><td>1.142028</td></tr>\n",
       "\t<tr><td>1.0519508</td><td>1.1420280</td><td>7.727712</td></tr>\n",
       "</tbody>\n",
       "</table>\n"
      ],
      "text/latex": [
       "A matrix: 3 × 3 of type dbl\n",
       "\\begin{tabular}{lll}\n",
       "\t 0.5644039 & 0.1769069 & 1.051951\\\\\n",
       "\t 0.1769069 & 0.3079040 & 1.142028\\\\\n",
       "\t 1.0519508 & 1.1420280 & 7.727712\\\\\n",
       "\\end{tabular}\n"
      ],
      "text/markdown": [
       "\n",
       "A matrix: 3 × 3 of type dbl\n",
       "\n",
       "| 0.5644039 | 0.1769069 | 1.051951 |\n",
       "| 0.1769069 | 0.3079040 | 1.142028 |\n",
       "| 1.0519508 | 1.1420280 | 7.727712 |\n",
       "\n"
      ],
      "text/plain": [
       "     [,1]      [,2]      [,3]    \n",
       "[1,] 0.5644039 0.1769069 1.051951\n",
       "[2,] 0.1769069 0.3079040 1.142028\n",
       "[3,] 1.0519508 1.1420280 7.727712"
      ]
     },
     "metadata": {},
     "output_type": "display_data"
    }
   ],
   "source": [
    "gamma_0=matrix(inv%*%v_sigma,ncol=3) \n",
    "gamma_0"
   ]
  },
  {
   "cell_type": "code",
   "execution_count": 4,
   "metadata": {},
   "outputs": [
    {
     "data": {
      "text/html": [
       "<table>\n",
       "<caption>A matrix: 3 × 3 of type dbl</caption>\n",
       "<tbody>\n",
       "\t<tr><td>0.4127735</td><td>0.1546253</td><td>0.8505684</td></tr>\n",
       "\t<tr><td>0.1759579</td><td>0.2373644</td><td>1.2295824</td></tr>\n",
       "\t<tr><td>1.3495242</td><td>1.0728386</td><td>7.1289253</td></tr>\n",
       "</tbody>\n",
       "</table>\n"
      ],
      "text/latex": [
       "A matrix: 3 × 3 of type dbl\n",
       "\\begin{tabular}{lll}\n",
       "\t 0.4127735 & 0.1546253 & 0.8505684\\\\\n",
       "\t 0.1759579 & 0.2373644 & 1.2295824\\\\\n",
       "\t 1.3495242 & 1.0728386 & 7.1289253\\\\\n",
       "\\end{tabular}\n"
      ],
      "text/markdown": [
       "\n",
       "A matrix: 3 × 3 of type dbl\n",
       "\n",
       "| 0.4127735 | 0.1546253 | 0.8505684 |\n",
       "| 0.1759579 | 0.2373644 | 1.2295824 |\n",
       "| 1.3495242 | 1.0728386 | 7.1289253 |\n",
       "\n"
      ],
      "text/plain": [
       "     [,1]      [,2]      [,3]     \n",
       "[1,] 0.4127735 0.1546253 0.8505684\n",
       "[2,] 0.1759579 0.2373644 1.2295824\n",
       "[3,] 1.3495242 1.0728386 7.1289253"
      ]
     },
     "metadata": {},
     "output_type": "display_data"
    }
   ],
   "source": [
    "gamma_1=A_1%*%gamma_0\n",
    "gamma_1"
   ]
  },
  {
   "cell_type": "code",
   "execution_count": 5,
   "metadata": {},
   "outputs": [
    {
     "data": {
      "text/html": [
       "<table>\n",
       "<caption>A matrix: 3 × 3 of type dbl</caption>\n",
       "<tbody>\n",
       "\t<tr><td>0.3065372</td><td>0.1319741</td><td>0.7183561</td></tr>\n",
       "\t<tr><td>0.2053356</td><td>0.2022296</td><td>1.2047255</td></tr>\n",
       "\t<tr><td>1.4511155</td><td>0.9974336</td><td>6.4686518</td></tr>\n",
       "</tbody>\n",
       "</table>\n"
      ],
      "text/latex": [
       "A matrix: 3 × 3 of type dbl\n",
       "\\begin{tabular}{lll}\n",
       "\t 0.3065372 & 0.1319741 & 0.7183561\\\\\n",
       "\t 0.2053356 & 0.2022296 & 1.2047255\\\\\n",
       "\t 1.4511155 & 0.9974336 & 6.4686518\\\\\n",
       "\\end{tabular}\n"
      ],
      "text/markdown": [
       "\n",
       "A matrix: 3 × 3 of type dbl\n",
       "\n",
       "| 0.3065372 | 0.1319741 | 0.7183561 |\n",
       "| 0.2053356 | 0.2022296 | 1.2047255 |\n",
       "| 1.4511155 | 0.9974336 | 6.4686518 |\n",
       "\n"
      ],
      "text/plain": [
       "     [,1]      [,2]      [,3]     \n",
       "[1,] 0.3065372 0.1319741 0.7183561\n",
       "[2,] 0.2053356 0.2022296 1.2047255\n",
       "[3,] 1.4511155 0.9974336 6.4686518"
      ]
     },
     "metadata": {},
     "output_type": "display_data"
    }
   ],
   "source": [
    "gamma_2=A_1%*%gamma_1\n",
    "gamma_2"
   ]
  },
  {
   "cell_type": "code",
   "execution_count": 6,
   "metadata": {},
   "outputs": [
    {
     "data": {
      "text/html": [
       "<table>\n",
       "<caption>A matrix: 3 × 3 of type dbl</caption>\n",
       "<tbody>\n",
       "\t<tr><td>0.2351096</td><td>0.1126048</td><td>0.6233218</td></tr>\n",
       "\t<tr><td>0.2272458</td><td>0.1806352</td><td>1.1287554</td></tr>\n",
       "\t<tr><td>1.4367758</td><td>0.9167236</td><td>5.8214419</td></tr>\n",
       "</tbody>\n",
       "</table>\n"
      ],
      "text/latex": [
       "A matrix: 3 × 3 of type dbl\n",
       "\\begin{tabular}{lll}\n",
       "\t 0.2351096 & 0.1126048 & 0.6233218\\\\\n",
       "\t 0.2272458 & 0.1806352 & 1.1287554\\\\\n",
       "\t 1.4367758 & 0.9167236 & 5.8214419\\\\\n",
       "\\end{tabular}\n"
      ],
      "text/markdown": [
       "\n",
       "A matrix: 3 × 3 of type dbl\n",
       "\n",
       "| 0.2351096 | 0.1126048 | 0.6233218 |\n",
       "| 0.2272458 | 0.1806352 | 1.1287554 |\n",
       "| 1.4367758 | 0.9167236 | 5.8214419 |\n",
       "\n"
      ],
      "text/plain": [
       "     [,1]      [,2]      [,3]     \n",
       "[1,] 0.2351096 0.1126048 0.6233218\n",
       "[2,] 0.2272458 0.1806352 1.1287554\n",
       "[3,] 1.4367758 0.9167236 5.8214419"
      ]
     },
     "metadata": {},
     "output_type": "display_data"
    }
   ],
   "source": [
    "gamma_3=A_1%*%gamma_2\n",
    "gamma_3"
   ]
  },
  {
   "cell_type": "code",
   "execution_count": 7,
   "metadata": {},
   "outputs": [
    {
     "data": {
      "text/html": [
       "<table>\n",
       "<caption>A matrix: 3 × 3 of type dbl</caption>\n",
       "<tbody>\n",
       "\t<tr><td>1.331083</td><td>0.000000</td><td>0.0000000</td></tr>\n",
       "\t<tr><td>0.000000</td><td>1.802156</td><td>0.0000000</td></tr>\n",
       "\t<tr><td>0.000000</td><td>0.000000</td><td>0.3597282</td></tr>\n",
       "</tbody>\n",
       "</table>\n"
      ],
      "text/latex": [
       "A matrix: 3 × 3 of type dbl\n",
       "\\begin{tabular}{lll}\n",
       "\t 1.331083 & 0.000000 & 0.0000000\\\\\n",
       "\t 0.000000 & 1.802156 & 0.0000000\\\\\n",
       "\t 0.000000 & 0.000000 & 0.3597282\\\\\n",
       "\\end{tabular}\n"
      ],
      "text/markdown": [
       "\n",
       "A matrix: 3 × 3 of type dbl\n",
       "\n",
       "| 1.331083 | 0.000000 | 0.0000000 |\n",
       "| 0.000000 | 1.802156 | 0.0000000 |\n",
       "| 0.000000 | 0.000000 | 0.3597282 |\n",
       "\n"
      ],
      "text/plain": [
       "     [,1]     [,2]     [,3]     \n",
       "[1,] 1.331083 0.000000 0.0000000\n",
       "[2,] 0.000000 1.802156 0.0000000\n",
       "[3,] 0.000000 0.000000 0.3597282"
      ]
     },
     "metadata": {},
     "output_type": "display_data"
    }
   ],
   "source": [
    "D_1<-diag(1/((diag(gamma_0))^(1/2)))\n",
    "D_1"
   ]
  },
  {
   "cell_type": "markdown",
   "metadata": {},
   "source": [
    "### Calculos de R(h)"
   ]
  },
  {
   "cell_type": "code",
   "execution_count": 8,
   "metadata": {},
   "outputs": [
    {
     "data": {
      "text/html": [
       "<table>\n",
       "<caption>A matrix: 3 × 3 of type dbl</caption>\n",
       "<tbody>\n",
       "\t<tr><td>1.0000000</td><td>0.4243676</td><td>0.5037035</td></tr>\n",
       "\t<tr><td>0.4243676</td><td>1.0000000</td><td>0.7403611</td></tr>\n",
       "\t<tr><td>0.5037035</td><td>0.7403611</td><td>1.0000000</td></tr>\n",
       "</tbody>\n",
       "</table>\n"
      ],
      "text/latex": [
       "A matrix: 3 × 3 of type dbl\n",
       "\\begin{tabular}{lll}\n",
       "\t 1.0000000 & 0.4243676 & 0.5037035\\\\\n",
       "\t 0.4243676 & 1.0000000 & 0.7403611\\\\\n",
       "\t 0.5037035 & 0.7403611 & 1.0000000\\\\\n",
       "\\end{tabular}\n"
      ],
      "text/markdown": [
       "\n",
       "A matrix: 3 × 3 of type dbl\n",
       "\n",
       "| 1.0000000 | 0.4243676 | 0.5037035 |\n",
       "| 0.4243676 | 1.0000000 | 0.7403611 |\n",
       "| 0.5037035 | 0.7403611 | 1.0000000 |\n",
       "\n"
      ],
      "text/plain": [
       "     [,1]      [,2]      [,3]     \n",
       "[1,] 1.0000000 0.4243676 0.5037035\n",
       "[2,] 0.4243676 1.0000000 0.7403611\n",
       "[3,] 0.5037035 0.7403611 1.0000000"
      ]
     },
     "metadata": {},
     "output_type": "display_data"
    }
   ],
   "source": [
    "R_0=D_1%*%gamma_0%*%D_1\n",
    "R_0"
   ]
  },
  {
   "cell_type": "code",
   "execution_count": 9,
   "metadata": {},
   "outputs": [
    {
     "data": {
      "text/html": [
       "<table>\n",
       "<caption>A matrix: 3 × 3 of type dbl</caption>\n",
       "<tbody>\n",
       "\t<tr><td>0.7313440</td><td>0.3709179</td><td>0.4072759</td></tr>\n",
       "\t<tr><td>0.4220909</td><td>0.7709039</td><td>0.7971215</td></tr>\n",
       "\t<tr><td>0.6461899</td><td>0.6955066</td><td>0.9225144</td></tr>\n",
       "</tbody>\n",
       "</table>\n"
      ],
      "text/latex": [
       "A matrix: 3 × 3 of type dbl\n",
       "\\begin{tabular}{lll}\n",
       "\t 0.7313440 & 0.3709179 & 0.4072759\\\\\n",
       "\t 0.4220909 & 0.7709039 & 0.7971215\\\\\n",
       "\t 0.6461899 & 0.6955066 & 0.9225144\\\\\n",
       "\\end{tabular}\n"
      ],
      "text/markdown": [
       "\n",
       "A matrix: 3 × 3 of type dbl\n",
       "\n",
       "| 0.7313440 | 0.3709179 | 0.4072759 |\n",
       "| 0.4220909 | 0.7709039 | 0.7971215 |\n",
       "| 0.6461899 | 0.6955066 | 0.9225144 |\n",
       "\n"
      ],
      "text/plain": [
       "     [,1]      [,2]      [,3]     \n",
       "[1,] 0.7313440 0.3709179 0.4072759\n",
       "[2,] 0.4220909 0.7709039 0.7971215\n",
       "[3,] 0.6461899 0.6955066 0.9225144"
      ]
     },
     "metadata": {},
     "output_type": "display_data"
    }
   ],
   "source": [
    "R_1=D_1%*%gamma_1%*%D_1\n",
    "R_1"
   ]
  },
  {
   "cell_type": "code",
   "execution_count": 10,
   "metadata": {},
   "outputs": [
    {
     "data": {
      "text/html": [
       "<table>\n",
       "<caption>A matrix: 3 × 3 of type dbl</caption>\n",
       "<tbody>\n",
       "\t<tr><td>0.5431167</td><td>0.3165819</td><td>0.3439690</td></tr>\n",
       "\t<tr><td>0.4925627</td><td>0.6567944</td><td>0.7810071</td></tr>\n",
       "\t<tr><td>0.6948347</td><td>0.6466226</td><td>0.8370721</td></tr>\n",
       "</tbody>\n",
       "</table>\n"
      ],
      "text/latex": [
       "A matrix: 3 × 3 of type dbl\n",
       "\\begin{tabular}{lll}\n",
       "\t 0.5431167 & 0.3165819 & 0.3439690\\\\\n",
       "\t 0.4925627 & 0.6567944 & 0.7810071\\\\\n",
       "\t 0.6948347 & 0.6466226 & 0.8370721\\\\\n",
       "\\end{tabular}\n"
      ],
      "text/markdown": [
       "\n",
       "A matrix: 3 × 3 of type dbl\n",
       "\n",
       "| 0.5431167 | 0.3165819 | 0.3439690 |\n",
       "| 0.4925627 | 0.6567944 | 0.7810071 |\n",
       "| 0.6948347 | 0.6466226 | 0.8370721 |\n",
       "\n"
      ],
      "text/plain": [
       "     [,1]      [,2]      [,3]     \n",
       "[1,] 0.5431167 0.3165819 0.3439690\n",
       "[2,] 0.4925627 0.6567944 0.7810071\n",
       "[3,] 0.6948347 0.6466226 0.8370721"
      ]
     },
     "metadata": {},
     "output_type": "display_data"
    }
   ],
   "source": [
    "R_2=D_1%*%gamma_2%*%D_1\n",
    "R_2"
   ]
  },
  {
   "cell_type": "code",
   "execution_count": 11,
   "metadata": {},
   "outputs": [
    {
     "data": {
      "text/html": [
       "<table>\n",
       "<caption>A matrix: 3 × 3 of type dbl</caption>\n",
       "<tbody>\n",
       "\t<tr><td>0.4165626</td><td>0.2701185</td><td>0.2984639</td></tr>\n",
       "\t<tr><td>0.5451213</td><td>0.5866608</td><td>0.7317567</td></tr>\n",
       "\t<tr><td>0.6879685</td><td>0.5942994</td><td>0.7533202</td></tr>\n",
       "</tbody>\n",
       "</table>\n"
      ],
      "text/latex": [
       "A matrix: 3 × 3 of type dbl\n",
       "\\begin{tabular}{lll}\n",
       "\t 0.4165626 & 0.2701185 & 0.2984639\\\\\n",
       "\t 0.5451213 & 0.5866608 & 0.7317567\\\\\n",
       "\t 0.6879685 & 0.5942994 & 0.7533202\\\\\n",
       "\\end{tabular}\n"
      ],
      "text/markdown": [
       "\n",
       "A matrix: 3 × 3 of type dbl\n",
       "\n",
       "| 0.4165626 | 0.2701185 | 0.2984639 |\n",
       "| 0.5451213 | 0.5866608 | 0.7317567 |\n",
       "| 0.6879685 | 0.5942994 | 0.7533202 |\n",
       "\n"
      ],
      "text/plain": [
       "     [,1]      [,2]      [,3]     \n",
       "[1,] 0.4165626 0.2701185 0.2984639\n",
       "[2,] 0.5451213 0.5866608 0.7317567\n",
       "[3,] 0.6879685 0.5942994 0.7533202"
      ]
     },
     "metadata": {},
     "output_type": "display_data"
    }
   ],
   "source": [
    "R_3=D_1%*%gamma_3%*%D_1\n",
    "R_3"
   ]
  },
  {
   "cell_type": "code",
   "execution_count": 12,
   "metadata": {},
   "outputs": [],
   "source": [
    "RS=list(R_0,R_1,R_2,R_3)\n"
   ]
  },
  {
   "cell_type": "code",
   "execution_count": null,
   "metadata": {},
   "outputs": [],
   "source": []
  },
  {
   "cell_type": "markdown",
   "metadata": {},
   "source": [
    "## Pregunta 2"
   ]
  },
  {
   "cell_type": "markdown",
   "metadata": {},
   "source": [
    "### A."
   ]
  },
  {
   "cell_type": "code",
   "execution_count": 13,
   "metadata": {},
   "outputs": [
    {
     "data": {
      "text/html": [
       "<table>\n",
       "<caption>A matrix: 6 × 6 of type dbl</caption>\n",
       "<tbody>\n",
       "\t<tr><td>0.7</td><td>0.1</td><td>0.0</td><td>-0.2</td><td>0.0</td><td>0.0</td></tr>\n",
       "\t<tr><td>0.0</td><td>0.4</td><td>0.1</td><td> 0.0</td><td>0.1</td><td>0.1</td></tr>\n",
       "\t<tr><td>0.9</td><td>0.0</td><td>0.8</td><td> 0.0</td><td>0.0</td><td>0.0</td></tr>\n",
       "\t<tr><td>1.0</td><td>0.0</td><td>0.0</td><td> 0.0</td><td>0.0</td><td>0.0</td></tr>\n",
       "\t<tr><td>0.0</td><td>1.0</td><td>0.0</td><td> 0.0</td><td>0.0</td><td>0.0</td></tr>\n",
       "\t<tr><td>0.0</td><td>0.0</td><td>1.0</td><td> 0.0</td><td>0.0</td><td>0.0</td></tr>\n",
       "</tbody>\n",
       "</table>\n"
      ],
      "text/latex": [
       "A matrix: 6 × 6 of type dbl\n",
       "\\begin{tabular}{llllll}\n",
       "\t 0.7 & 0.1 & 0.0 & -0.2 & 0.0 & 0.0\\\\\n",
       "\t 0.0 & 0.4 & 0.1 &  0.0 & 0.1 & 0.1\\\\\n",
       "\t 0.9 & 0.0 & 0.8 &  0.0 & 0.0 & 0.0\\\\\n",
       "\t 1.0 & 0.0 & 0.0 &  0.0 & 0.0 & 0.0\\\\\n",
       "\t 0.0 & 1.0 & 0.0 &  0.0 & 0.0 & 0.0\\\\\n",
       "\t 0.0 & 0.0 & 1.0 &  0.0 & 0.0 & 0.0\\\\\n",
       "\\end{tabular}\n"
      ],
      "text/markdown": [
       "\n",
       "A matrix: 6 × 6 of type dbl\n",
       "\n",
       "| 0.7 | 0.1 | 0.0 | -0.2 | 0.0 | 0.0 |\n",
       "| 0.0 | 0.4 | 0.1 |  0.0 | 0.1 | 0.1 |\n",
       "| 0.9 | 0.0 | 0.8 |  0.0 | 0.0 | 0.0 |\n",
       "| 1.0 | 0.0 | 0.0 |  0.0 | 0.0 | 0.0 |\n",
       "| 0.0 | 1.0 | 0.0 |  0.0 | 0.0 | 0.0 |\n",
       "| 0.0 | 0.0 | 1.0 |  0.0 | 0.0 | 0.0 |\n",
       "\n"
      ],
      "text/plain": [
       "     [,1] [,2] [,3] [,4] [,5] [,6]\n",
       "[1,] 0.7  0.1  0.0  -0.2 0.0  0.0 \n",
       "[2,] 0.0  0.4  0.1   0.0 0.1  0.1 \n",
       "[3,] 0.9  0.0  0.8   0.0 0.0  0.0 \n",
       "[4,] 1.0  0.0  0.0   0.0 0.0  0.0 \n",
       "[5,] 0.0  1.0  0.0   0.0 0.0  0.0 \n",
       "[6,] 0.0  0.0  1.0   0.0 0.0  0.0 "
      ]
     },
     "metadata": {},
     "output_type": "display_data"
    }
   ],
   "source": [
    "Ct<-matrix(c(0.3,-0.1,0,0.2,0,0,0,0.6,-0.1,0,-0.1,-0.1,-0.9,0,0.2,0,0,0,-1,0,0,1,0,0,0,-1,0,0,1,0,0,0,-1,0,0,1), ncol = 6) #La matriz esta transpuesta\n",
    "C=t(Ct) #MATRIZ I_{k}-Az\n",
    "A<-diag(6)-C # Matriz A\n",
    "A"
   ]
  },
  {
   "cell_type": "code",
   "execution_count": 14,
   "metadata": {},
   "outputs": [
    {
     "data": {
      "text/html": [
       "<style>\n",
       ".list-inline {list-style: none; margin:0; padding: 0}\n",
       ".list-inline>li {display: inline-block}\n",
       ".list-inline>li:not(:last-child)::after {content: \"\\00b7\"; padding: 0 .5ex}\n",
       "</style>\n",
       "<ol class=list-inline><li>0.7</li><li>1</li><li>1.5</li><li>1</li><li>1.5</li><li>3</li></ol>\n"
      ],
      "text/latex": [
       "\\begin{enumerate*}\n",
       "\\item 0.7\n",
       "\\item 1\n",
       "\\item 1.5\n",
       "\\item 1\n",
       "\\item 1.5\n",
       "\\item 3\n",
       "\\end{enumerate*}\n"
      ],
      "text/markdown": [
       "1. 0.7\n",
       "2. 1\n",
       "3. 1.5\n",
       "4. 1\n",
       "5. 1.5\n",
       "6. 3\n",
       "\n",
       "\n"
      ],
      "text/plain": [
       "[1] 0.7 1.0 1.5 1.0 1.5 3.0"
      ]
     },
     "metadata": {},
     "output_type": "display_data"
    },
    {
     "data": {
      "text/html": [
       "<table>\n",
       "<caption>A matrix: 3 × 6 of type dbl</caption>\n",
       "<tbody>\n",
       "\t<tr><td>1</td><td>0</td><td>0</td><td>0</td><td>0</td><td>0</td></tr>\n",
       "\t<tr><td>0</td><td>1</td><td>0</td><td>0</td><td>0</td><td>0</td></tr>\n",
       "\t<tr><td>0</td><td>0</td><td>1</td><td>0</td><td>0</td><td>0</td></tr>\n",
       "</tbody>\n",
       "</table>\n"
      ],
      "text/latex": [
       "A matrix: 3 × 6 of type dbl\n",
       "\\begin{tabular}{llllll}\n",
       "\t 1 & 0 & 0 & 0 & 0 & 0\\\\\n",
       "\t 0 & 1 & 0 & 0 & 0 & 0\\\\\n",
       "\t 0 & 0 & 1 & 0 & 0 & 0\\\\\n",
       "\\end{tabular}\n"
      ],
      "text/markdown": [
       "\n",
       "A matrix: 3 × 6 of type dbl\n",
       "\n",
       "| 1 | 0 | 0 | 0 | 0 | 0 |\n",
       "| 0 | 1 | 0 | 0 | 0 | 0 |\n",
       "| 0 | 0 | 1 | 0 | 0 | 0 |\n",
       "\n"
      ],
      "text/plain": [
       "     [,1] [,2] [,3] [,4] [,5] [,6]\n",
       "[1,] 1    0    0    0    0    0   \n",
       "[2,] 0    1    0    0    0    0   \n",
       "[3,] 0    0    1    0    0    0   "
      ]
     },
     "metadata": {},
     "output_type": "display_data"
    }
   ],
   "source": [
    "Y_t=c(0.7,1,1.5,1,1.5,3)\n",
    "Y_t # Vector Y\n",
    "J<-matrix(c(diag(3),matrix(0,3,3)),ncol=6)\n",
    "J  # Vector J que devuelve el VAR(1) a VAR(2)"
   ]
  },
  {
   "cell_type": "code",
   "execution_count": 15,
   "metadata": {},
   "outputs": [
    {
     "data": {
      "text/html": [
       "<style>\n",
       ".list-inline {list-style: none; margin:0; padding: 0}\n",
       ".list-inline>li {display: inline-block}\n",
       ".list-inline>li:not(:last-child)::after {content: \"\\00b7\"; padding: 0 .5ex}\n",
       "</style>\n",
       "<ol class=list-inline><li>0.0835723653820954</li><li>0.0725857699718687</li><li>-0.0044213139398675</li><li>0</li><li>0</li><li>0</li></ol>\n"
      ],
      "text/latex": [
       "\\begin{enumerate*}\n",
       "\\item 0.0835723653820954\n",
       "\\item 0.0725857699718687\n",
       "\\item -0.0044213139398675\n",
       "\\item 0\n",
       "\\item 0\n",
       "\\item 0\n",
       "\\end{enumerate*}\n"
      ],
      "text/markdown": [
       "1. 0.0835723653820954\n",
       "2. 0.0725857699718687\n",
       "3. -0.0044213139398675\n",
       "4. 0\n",
       "5. 0\n",
       "6. 0\n",
       "\n",
       "\n"
      ],
      "text/plain": [
       "[1]  0.083572365  0.072585770 -0.004421314  0.000000000  0.000000000\n",
       "[6]  0.000000000"
      ]
     },
     "metadata": {},
     "output_type": "display_data"
    }
   ],
   "source": [
    "mu=c(0,0,0)\n",
    "u_1<-mvrnorm(1,mu=mu,Sigma=sigma)\n",
    "U<-c(u_1,0,0,0)\n",
    "U"
   ]
  },
  {
   "cell_type": "code",
   "execution_count": 16,
   "metadata": {},
   "outputs": [
    {
     "data": {
      "text/html": [
       "<table>\n",
       "<caption>A matrix: 3 × 1 of type dbl</caption>\n",
       "<tbody>\n",
       "\t<tr><td>0.4735724</td></tr>\n",
       "\t<tr><td>1.0725858</td></tr>\n",
       "\t<tr><td>1.8255787</td></tr>\n",
       "</tbody>\n",
       "</table>\n"
      ],
      "text/latex": [
       "A matrix: 3 × 1 of type dbl\n",
       "\\begin{tabular}{l}\n",
       "\t 0.4735724\\\\\n",
       "\t 1.0725858\\\\\n",
       "\t 1.8255787\\\\\n",
       "\\end{tabular}\n"
      ],
      "text/markdown": [
       "\n",
       "A matrix: 3 × 1 of type dbl\n",
       "\n",
       "| 0.4735724 |\n",
       "| 1.0725858 |\n",
       "| 1.8255787 |\n",
       "\n"
      ],
      "text/plain": [
       "     [,1]     \n",
       "[1,] 0.4735724\n",
       "[2,] 1.0725858\n",
       "[3,] 1.8255787"
      ]
     },
     "metadata": {},
     "output_type": "display_data"
    }
   ],
   "source": [
    "Y_t1=A%*%Y_t+diag(6)%*%U\n",
    "Y_2001=J%*%Y_t1 #Predicción al 2001\n",
    "Y_2001"
   ]
  },
  {
   "cell_type": "code",
   "execution_count": 17,
   "metadata": {},
   "outputs": [
    {
     "data": {
      "text/html": [
       "<style>\n",
       ".list-inline {list-style: none; margin:0; padding: 0}\n",
       ".list-inline>li {display: inline-block}\n",
       ".list-inline>li:not(:last-child)::after {content: \"\\00b7\"; padding: 0 .5ex}\n",
       "</style>\n",
       "<ol class=list-inline><li>0.399899704876301</li><li>0.565300380837688</li><li>-0.0222944539593374</li><li>0</li><li>0</li><li>0</li></ol>\n"
      ],
      "text/latex": [
       "\\begin{enumerate*}\n",
       "\\item 0.399899704876301\n",
       "\\item 0.565300380837688\n",
       "\\item -0.0222944539593374\n",
       "\\item 0\n",
       "\\item 0\n",
       "\\item 0\n",
       "\\end{enumerate*}\n"
      ],
      "text/markdown": [
       "1. 0.399899704876301\n",
       "2. 0.565300380837688\n",
       "3. -0.0222944539593374\n",
       "4. 0\n",
       "5. 0\n",
       "6. 0\n",
       "\n",
       "\n"
      ],
      "text/plain": [
       "[1]  0.39989970  0.56530038 -0.02229445  0.00000000  0.00000000  0.00000000"
      ]
     },
     "metadata": {},
     "output_type": "display_data"
    },
    {
     "data": {
      "text/html": [
       "<style>\n",
       ".list-inline {list-style: none; margin:0; padding: 0}\n",
       ".list-inline>li {display: inline-block}\n",
       ".list-inline>li:not(:last-child)::after {content: \"\\00b7\"; padding: 0 .5ex}\n",
       "</style>\n",
       "<ol class=list-inline><li>0.448470589072926</li><li>0.0401704461537489</li><li>0.381500530238701</li><li>0</li><li>0</li><li>0</li></ol>\n"
      ],
      "text/latex": [
       "\\begin{enumerate*}\n",
       "\\item 0.448470589072926\n",
       "\\item 0.0401704461537489\n",
       "\\item 0.381500530238701\n",
       "\\item 0\n",
       "\\item 0\n",
       "\\item 0\n",
       "\\end{enumerate*}\n"
      ],
      "text/markdown": [
       "1. 0.448470589072926\n",
       "2. 0.0401704461537489\n",
       "3. 0.381500530238701\n",
       "4. 0\n",
       "5. 0\n",
       "6. 0\n",
       "\n",
       "\n"
      ],
      "text/plain": [
       "[1] 0.44847059 0.04017045 0.38150053 0.00000000 0.00000000 0.00000000"
      ]
     },
     "metadata": {},
     "output_type": "display_data"
    }
   ],
   "source": [
    "u_1<-mvrnorm(1,mu=mu,Sigma=sigma)\n",
    "U_1<-c(u_1,0,0,0)\n",
    "U_1\n",
    "u_2<-mvrnorm(1,mu=mu,Sigma=sigma)\n",
    "U_2<-c(u_2,0,0,0)\n",
    "U_2"
   ]
  },
  {
   "cell_type": "code",
   "execution_count": 18,
   "metadata": {},
   "outputs": [
    {
     "data": {
      "text/html": [
       "<table>\n",
       "<caption>A matrix: 3 × 1 of type dbl</caption>\n",
       "<tbody>\n",
       "\t<tr><td>0.7915188</td></tr>\n",
       "\t<tr><td>1.1268040</td></tr>\n",
       "\t<tr><td>2.5344026</td></tr>\n",
       "</tbody>\n",
       "</table>\n"
      ],
      "text/latex": [
       "A matrix: 3 × 1 of type dbl\n",
       "\\begin{tabular}{l}\n",
       "\t 0.7915188\\\\\n",
       "\t 1.1268040\\\\\n",
       "\t 2.5344026\\\\\n",
       "\\end{tabular}\n"
      ],
      "text/markdown": [
       "\n",
       "A matrix: 3 × 1 of type dbl\n",
       "\n",
       "| 0.7915188 |\n",
       "| 1.1268040 |\n",
       "| 2.5344026 |\n",
       "\n"
      ],
      "text/plain": [
       "     [,1]     \n",
       "[1,] 0.7915188\n",
       "[2,] 1.1268040\n",
       "[3,] 2.5344026"
      ]
     },
     "metadata": {},
     "output_type": "display_data"
    }
   ],
   "source": [
    "Y_t2=A%*%Y_t+A%*%U_2+diag(6)%*%U\n",
    "Y_2002=J%*%Y_t2 #Predicción al 2002\n",
    "Y_2002"
   ]
  },
  {
   "cell_type": "code",
   "execution_count": 19,
   "metadata": {},
   "outputs": [
    {
     "data": {
      "text/html": [
       "<style>\n",
       ".list-inline {list-style: none; margin:0; padding: 0}\n",
       ".list-inline>li {display: inline-block}\n",
       ".list-inline>li:not(:last-child)::after {content: \"\\00b7\"; padding: 0 .5ex}\n",
       "</style>\n",
       "<ol class=list-inline><li>0.00317708409774414</li><li>0.868263214064572</li><li>0.174386862003438</li><li>0</li><li>0</li><li>0</li></ol>\n"
      ],
      "text/latex": [
       "\\begin{enumerate*}\n",
       "\\item 0.00317708409774414\n",
       "\\item 0.868263214064572\n",
       "\\item 0.174386862003438\n",
       "\\item 0\n",
       "\\item 0\n",
       "\\item 0\n",
       "\\end{enumerate*}\n"
      ],
      "text/markdown": [
       "1. 0.00317708409774414\n",
       "2. 0.868263214064572\n",
       "3. 0.174386862003438\n",
       "4. 0\n",
       "5. 0\n",
       "6. 0\n",
       "\n",
       "\n"
      ],
      "text/plain": [
       "[1] 0.003177084 0.868263214 0.174386862 0.000000000 0.000000000 0.000000000"
      ]
     },
     "metadata": {},
     "output_type": "display_data"
    },
    {
     "data": {
      "text/html": [
       "<style>\n",
       ".list-inline {list-style: none; margin:0; padding: 0}\n",
       ".list-inline>li {display: inline-block}\n",
       ".list-inline>li:not(:last-child)::after {content: \"\\00b7\"; padding: 0 .5ex}\n",
       "</style>\n",
       "<ol class=list-inline><li>0.136190854401054</li><li>0.0113084929544847</li><li>-0.0131207954695122</li><li>0</li><li>0</li><li>0</li></ol>\n"
      ],
      "text/latex": [
       "\\begin{enumerate*}\n",
       "\\item 0.136190854401054\n",
       "\\item 0.0113084929544847\n",
       "\\item -0.0131207954695122\n",
       "\\item 0\n",
       "\\item 0\n",
       "\\item 0\n",
       "\\end{enumerate*}\n"
      ],
      "text/markdown": [
       "1. 0.136190854401054\n",
       "2. 0.0113084929544847\n",
       "3. -0.0131207954695122\n",
       "4. 0\n",
       "5. 0\n",
       "6. 0\n",
       "\n",
       "\n"
      ],
      "text/plain": [
       "[1]  0.13619085  0.01130849 -0.01312080  0.00000000  0.00000000  0.00000000"
      ]
     },
     "metadata": {},
     "output_type": "display_data"
    },
    {
     "data": {
      "text/html": [
       "<style>\n",
       ".list-inline {list-style: none; margin:0; padding: 0}\n",
       ".list-inline>li {display: inline-block}\n",
       ".list-inline>li:not(:last-child)::after {content: \"\\00b7\"; padding: 0 .5ex}\n",
       "</style>\n",
       "<ol class=list-inline><li>-0.411785596485107</li><li>-0.644741832972295</li><li>1.62546424255597</li><li>0</li><li>0</li><li>0</li></ol>\n"
      ],
      "text/latex": [
       "\\begin{enumerate*}\n",
       "\\item -0.411785596485107\n",
       "\\item -0.644741832972295\n",
       "\\item 1.62546424255597\n",
       "\\item 0\n",
       "\\item 0\n",
       "\\item 0\n",
       "\\end{enumerate*}\n"
      ],
      "text/markdown": [
       "1. -0.411785596485107\n",
       "2. -0.644741832972295\n",
       "3. 1.62546424255597\n",
       "4. 0\n",
       "5. 0\n",
       "6. 0\n",
       "\n",
       "\n"
      ],
      "text/plain": [
       "[1] -0.4117856 -0.6447418  1.6254642  0.0000000  0.0000000  0.0000000"
      ]
     },
     "metadata": {},
     "output_type": "display_data"
    }
   ],
   "source": [
    "u_1<-mvrnorm(1,mu=mu,Sigma=sigma)\n",
    "U_1<-c(u_1,0,0,0)\n",
    "U_1\n",
    "u_2<-mvrnorm(1,mu=mu,Sigma=sigma)\n",
    "U_2<-c(u_2,0,0,0)\n",
    "U_2\n",
    "u_3<-mvrnorm(1,mu=mu,Sigma=sigma)\n",
    "U_3<-c(u_3,0,0,0)\n",
    "U_3"
   ]
  },
  {
   "cell_type": "code",
   "execution_count": 20,
   "metadata": {},
   "outputs": [
    {
     "data": {
      "text/html": [
       "<table>\n",
       "<caption>A matrix: 3 × 1 of type dbl</caption>\n",
       "<tbody>\n",
       "\t<tr><td>0.395952</td></tr>\n",
       "\t<tr><td>1.228706</td></tr>\n",
       "\t<tr><td>2.364014</td></tr>\n",
       "</tbody>\n",
       "</table>\n"
      ],
      "text/latex": [
       "A matrix: 3 × 1 of type dbl\n",
       "\\begin{tabular}{l}\n",
       "\t 0.395952\\\\\n",
       "\t 1.228706\\\\\n",
       "\t 2.364014\\\\\n",
       "\\end{tabular}\n"
      ],
      "text/markdown": [
       "\n",
       "A matrix: 3 × 1 of type dbl\n",
       "\n",
       "| 0.395952 |\n",
       "| 1.228706 |\n",
       "| 2.364014 |\n",
       "\n"
      ],
      "text/plain": [
       "     [,1]    \n",
       "[1,] 0.395952\n",
       "[2,] 1.228706\n",
       "[3,] 2.364014"
      ]
     },
     "metadata": {},
     "output_type": "display_data"
    }
   ],
   "source": [
    "Y_t3=A%*%Y_t+diag(6)%*%U+A%*%U_2+A%*%A%*%U_3\n",
    "Y_2003=J%*%Y_t3 #Predicción al 2003\n",
    "Y_2003"
   ]
  },
  {
   "cell_type": "markdown",
   "metadata": {},
   "source": [
    "### B."
   ]
  },
  {
   "cell_type": "code",
   "execution_count": 21,
   "metadata": {},
   "outputs": [],
   "source": [
    "Jt=t(J)"
   ]
  },
  {
   "cell_type": "code",
   "execution_count": 22,
   "metadata": {},
   "outputs": [
    {
     "data": {
      "text/html": [
       "<table>\n",
       "<caption>A matrix: 3 × 3 of type dbl</caption>\n",
       "<tbody>\n",
       "\t<tr><td>0.7</td><td>0.1</td><td>0.0</td></tr>\n",
       "\t<tr><td>0.0</td><td>0.4</td><td>0.1</td></tr>\n",
       "\t<tr><td>0.9</td><td>0.0</td><td>0.8</td></tr>\n",
       "</tbody>\n",
       "</table>\n"
      ],
      "text/latex": [
       "A matrix: 3 × 3 of type dbl\n",
       "\\begin{tabular}{lll}\n",
       "\t 0.7 & 0.1 & 0.0\\\\\n",
       "\t 0.0 & 0.4 & 0.1\\\\\n",
       "\t 0.9 & 0.0 & 0.8\\\\\n",
       "\\end{tabular}\n"
      ],
      "text/markdown": [
       "\n",
       "A matrix: 3 × 3 of type dbl\n",
       "\n",
       "| 0.7 | 0.1 | 0.0 |\n",
       "| 0.0 | 0.4 | 0.1 |\n",
       "| 0.9 | 0.0 | 0.8 |\n",
       "\n"
      ],
      "text/plain": [
       "     [,1] [,2] [,3]\n",
       "[1,] 0.7  0.1  0.0 \n",
       "[2,] 0.0  0.4  0.1 \n",
       "[3,] 0.9  0.0  0.8 "
      ]
     },
     "metadata": {},
     "output_type": "display_data"
    }
   ],
   "source": [
    "phi_1=J%*%A%*%Jt \n",
    "phi_1"
   ]
  },
  {
   "cell_type": "code",
   "execution_count": 23,
   "metadata": {},
   "outputs": [
    {
     "data": {
      "text/html": [
       "<table>\n",
       "<caption>A matrix: 3 × 3 of type dbl</caption>\n",
       "<tbody>\n",
       "\t<tr><td>0.29</td><td>0.11</td><td>0.01</td></tr>\n",
       "\t<tr><td>0.09</td><td>0.26</td><td>0.22</td></tr>\n",
       "\t<tr><td>1.35</td><td>0.09</td><td>0.64</td></tr>\n",
       "</tbody>\n",
       "</table>\n"
      ],
      "text/latex": [
       "A matrix: 3 × 3 of type dbl\n",
       "\\begin{tabular}{lll}\n",
       "\t 0.29 & 0.11 & 0.01\\\\\n",
       "\t 0.09 & 0.26 & 0.22\\\\\n",
       "\t 1.35 & 0.09 & 0.64\\\\\n",
       "\\end{tabular}\n"
      ],
      "text/markdown": [
       "\n",
       "A matrix: 3 × 3 of type dbl\n",
       "\n",
       "| 0.29 | 0.11 | 0.01 |\n",
       "| 0.09 | 0.26 | 0.22 |\n",
       "| 1.35 | 0.09 | 0.64 |\n",
       "\n"
      ],
      "text/plain": [
       "     [,1] [,2] [,3]\n",
       "[1,] 0.29 0.11 0.01\n",
       "[2,] 0.09 0.26 0.22\n",
       "[3,] 1.35 0.09 0.64"
      ]
     },
     "metadata": {},
     "output_type": "display_data"
    }
   ],
   "source": [
    "phi_2=J%*%A%*%A%*%Jt\n",
    "phi_2"
   ]
  },
  {
   "cell_type": "code",
   "execution_count": 24,
   "metadata": {},
   "outputs": [
    {
     "data": {
      "text/html": [
       "<table>\n",
       "<caption>A matrix: 3 × 3 of type dbl</caption>\n",
       "<tbody>\n",
       "\t<tr><td>1</td><td>0</td><td>0</td></tr>\n",
       "\t<tr><td>0</td><td>1</td><td>0</td></tr>\n",
       "\t<tr><td>0</td><td>0</td><td>1</td></tr>\n",
       "</tbody>\n",
       "</table>\n"
      ],
      "text/latex": [
       "A matrix: 3 × 3 of type dbl\n",
       "\\begin{tabular}{lll}\n",
       "\t 1 & 0 & 0\\\\\n",
       "\t 0 & 1 & 0\\\\\n",
       "\t 0 & 0 & 1\\\\\n",
       "\\end{tabular}\n"
      ],
      "text/markdown": [
       "\n",
       "A matrix: 3 × 3 of type dbl\n",
       "\n",
       "| 1 | 0 | 0 |\n",
       "| 0 | 1 | 0 |\n",
       "| 0 | 0 | 1 |\n",
       "\n"
      ],
      "text/plain": [
       "     [,1] [,2] [,3]\n",
       "[1,] 1    0    0   \n",
       "[2,] 0    1    0   \n",
       "[3,] 0    0    1   "
      ]
     },
     "metadata": {},
     "output_type": "display_data"
    }
   ],
   "source": [
    "MSE_1=J%*%diag(6)%*%t(J)\n",
    "MSE_1"
   ]
  },
  {
   "cell_type": "code",
   "execution_count": 25,
   "metadata": {},
   "outputs": [
    {
     "data": {
      "text/html": [
       "<table>\n",
       "<caption>A matrix: 3 × 3 of type dbl</caption>\n",
       "<tbody>\n",
       "\t<tr><td>1.1325</td><td>0.0120</td><td>0.1665</td></tr>\n",
       "\t<tr><td>0.0120</td><td>1.0225</td><td>0.0756</td></tr>\n",
       "\t<tr><td>0.1665</td><td>0.0756</td><td>1.7290</td></tr>\n",
       "</tbody>\n",
       "</table>\n"
      ],
      "text/latex": [
       "A matrix: 3 × 3 of type dbl\n",
       "\\begin{tabular}{lll}\n",
       "\t 1.1325 & 0.0120 & 0.1665\\\\\n",
       "\t 0.0120 & 1.0225 & 0.0756\\\\\n",
       "\t 0.1665 & 0.0756 & 1.7290\\\\\n",
       "\\end{tabular}\n"
      ],
      "text/markdown": [
       "\n",
       "A matrix: 3 × 3 of type dbl\n",
       "\n",
       "| 1.1325 | 0.0120 | 0.1665 |\n",
       "| 0.0120 | 1.0225 | 0.0756 |\n",
       "| 0.1665 | 0.0756 | 1.7290 |\n",
       "\n"
      ],
      "text/plain": [
       "     [,1]   [,2]   [,3]  \n",
       "[1,] 1.1325 0.0120 0.1665\n",
       "[2,] 0.0120 1.0225 0.0756\n",
       "[3,] 0.1665 0.0756 1.7290"
      ]
     },
     "metadata": {},
     "output_type": "display_data"
    }
   ],
   "source": [
    "MSE_2=phi_1%*%sigma%*%t(phi_1)+MSE_1\n",
    "MSE_2"
   ]
  },
  {
   "cell_type": "code",
   "execution_count": 26,
   "metadata": {},
   "outputs": [
    {
     "data": {
      "text/html": [
       "<table>\n",
       "<caption>A matrix: 3 × 3 of type dbl</caption>\n",
       "<tbody>\n",
       "\t<tr><td>1.157450</td><td>0.025701</td><td>0.279603</td></tr>\n",
       "\t<tr><td>0.025701</td><td>1.071298</td><td>0.234117</td></tr>\n",
       "\t<tr><td>0.279603</td><td>0.234117</td><td>2.542645</td></tr>\n",
       "</tbody>\n",
       "</table>\n"
      ],
      "text/latex": [
       "A matrix: 3 × 3 of type dbl\n",
       "\\begin{tabular}{lll}\n",
       "\t 1.157450 & 0.025701 & 0.279603\\\\\n",
       "\t 0.025701 & 1.071298 & 0.234117\\\\\n",
       "\t 0.279603 & 0.234117 & 2.542645\\\\\n",
       "\\end{tabular}\n"
      ],
      "text/markdown": [
       "\n",
       "A matrix: 3 × 3 of type dbl\n",
       "\n",
       "| 1.157450 | 0.025701 | 0.279603 |\n",
       "| 0.025701 | 1.071298 | 0.234117 |\n",
       "| 0.279603 | 0.234117 | 2.542645 |\n",
       "\n"
      ],
      "text/plain": [
       "     [,1]     [,2]     [,3]    \n",
       "[1,] 1.157450 0.025701 0.279603\n",
       "[2,] 0.025701 1.071298 0.234117\n",
       "[3,] 0.279603 0.234117 2.542645"
      ]
     },
     "metadata": {},
     "output_type": "display_data"
    }
   ],
   "source": [
    "MSE_3=phi_2%*%sigma%*%t(phi_2)+MSE_2\n",
    "MSE_3"
   ]
  },
  {
   "cell_type": "markdown",
   "metadata": {},
   "source": [
    "### C."
   ]
  },
  {
   "cell_type": "code",
   "execution_count": 27,
   "metadata": {},
   "outputs": [],
   "source": [
    "z90=qnorm(0.95)\n",
    "Z90<-c(z90,z90,z90)\n",
    "z95=qnorm(0.975)\n",
    "Z95<-c(z95,z95,z95)"
   ]
  },
  {
   "cell_type": "code",
   "execution_count": 28,
   "metadata": {},
   "outputs": [
    {
     "data": {
      "text/html": [
       "<style>\n",
       ".list-inline {list-style: none; margin:0; padding: 0}\n",
       ".list-inline>li {display: inline-block}\n",
       ".list-inline>li:not(:last-child)::after {content: \"\\00b7\"; padding: 0 .5ex}\n",
       "</style>\n",
       "<ol class=list-inline><li>1.64485362695147</li><li>1.64485362695147</li><li>1.64485362695147</li></ol>\n"
      ],
      "text/latex": [
       "\\begin{enumerate*}\n",
       "\\item 1.64485362695147\n",
       "\\item 1.64485362695147\n",
       "\\item 1.64485362695147\n",
       "\\end{enumerate*}\n"
      ],
      "text/markdown": [
       "1. 1.64485362695147\n",
       "2. 1.64485362695147\n",
       "3. 1.64485362695147\n",
       "\n",
       "\n"
      ],
      "text/plain": [
       "[1] 1.644854 1.644854 1.644854"
      ]
     },
     "metadata": {},
     "output_type": "display_data"
    },
    {
     "data": {
      "text/html": [
       "<style>\n",
       ".list-inline {list-style: none; margin:0; padding: 0}\n",
       ".list-inline>li {display: inline-block}\n",
       ".list-inline>li:not(:last-child)::after {content: \"\\00b7\"; padding: 0 .5ex}\n",
       "</style>\n",
       "<ol class=list-inline><li>0.509901951359279</li><li>0.3</li><li>0.9</li></ol>\n"
      ],
      "text/latex": [
       "\\begin{enumerate*}\n",
       "\\item 0.509901951359279\n",
       "\\item 0.3\n",
       "\\item 0.9\n",
       "\\end{enumerate*}\n"
      ],
      "text/markdown": [
       "1. 0.509901951359279\n",
       "2. 0.3\n",
       "3. 0.9\n",
       "\n",
       "\n"
      ],
      "text/plain": [
       "[1] 0.509902 0.300000 0.900000"
      ]
     },
     "metadata": {},
     "output_type": "display_data"
    },
    {
     "data": {
      "text/html": [
       "<table>\n",
       "<caption>A matrix: 3 × 1 of type dbl</caption>\n",
       "<tbody>\n",
       "\t<tr><td>0.4735724</td></tr>\n",
       "\t<tr><td>1.0725858</td></tr>\n",
       "\t<tr><td>1.8255787</td></tr>\n",
       "</tbody>\n",
       "</table>\n"
      ],
      "text/latex": [
       "A matrix: 3 × 1 of type dbl\n",
       "\\begin{tabular}{l}\n",
       "\t 0.4735724\\\\\n",
       "\t 1.0725858\\\\\n",
       "\t 1.8255787\\\\\n",
       "\\end{tabular}\n"
      ],
      "text/markdown": [
       "\n",
       "A matrix: 3 × 1 of type dbl\n",
       "\n",
       "| 0.4735724 |\n",
       "| 1.0725858 |\n",
       "| 1.8255787 |\n",
       "\n"
      ],
      "text/plain": [
       "     [,1]     \n",
       "[1,] 0.4735724\n",
       "[2,] 1.0725858\n",
       "[3,] 1.8255787"
      ]
     },
     "metadata": {},
     "output_type": "display_data"
    }
   ],
   "source": [
    "Z90\n",
    "c((diag(sigma))^(1/2))\n",
    "Y_2001"
   ]
  },
  {
   "cell_type": "markdown",
   "metadata": {},
   "source": [
    "### Intervalos de confianza del 90% para predicciones"
   ]
  },
  {
   "cell_type": "code",
   "execution_count": 29,
   "metadata": {},
   "outputs": [
    {
     "data": {
      "text/html": [
       "<table>\n",
       "<caption>A data.frame: 3 × 5</caption>\n",
       "<thead>\n",
       "\t<tr><th scope=col>Variables</th><th scope=col>Confianza</th><th scope=col>lim_inf</th><th scope=col>pred</th><th scope=col>lim_sup</th></tr>\n",
       "\t<tr><th scope=col>&lt;fct&gt;</th><th scope=col>&lt;fct&gt;</th><th scope=col>&lt;dbl&gt;</th><th scope=col>&lt;dbl&gt;</th><th scope=col>&lt;dbl&gt;</th></tr>\n",
       "</thead>\n",
       "<tbody>\n",
       "\t<tr><td>GNP</td><td>90%</td><td>-0.3651417</td><td>0.4735724</td><td>1.312286</td></tr>\n",
       "\t<tr><td>M2 </td><td>90%</td><td> 0.5791297</td><td>1.0725858</td><td>1.566042</td></tr>\n",
       "\t<tr><td>IR </td><td>90%</td><td> 0.3452104</td><td>1.8255787</td><td>3.305947</td></tr>\n",
       "</tbody>\n",
       "</table>\n"
      ],
      "text/latex": [
       "A data.frame: 3 × 5\n",
       "\\begin{tabular}{lllll}\n",
       " Variables & Confianza & lim\\_inf & pred & lim\\_sup\\\\\n",
       " <fct> & <fct> & <dbl> & <dbl> & <dbl>\\\\\n",
       "\\hline\n",
       "\t GNP & 90\\% & -0.3651417 & 0.4735724 & 1.312286\\\\\n",
       "\t M2  & 90\\% &  0.5791297 & 1.0725858 & 1.566042\\\\\n",
       "\t IR  & 90\\% &  0.3452104 & 1.8255787 & 3.305947\\\\\n",
       "\\end{tabular}\n"
      ],
      "text/markdown": [
       "\n",
       "A data.frame: 3 × 5\n",
       "\n",
       "| Variables &lt;fct&gt; | Confianza &lt;fct&gt; | lim_inf &lt;dbl&gt; | pred &lt;dbl&gt; | lim_sup &lt;dbl&gt; |\n",
       "|---|---|---|---|---|\n",
       "| GNP | 90% | -0.3651417 | 0.4735724 | 1.312286 |\n",
       "| M2  | 90% |  0.5791297 | 1.0725858 | 1.566042 |\n",
       "| IR  | 90% |  0.3452104 | 1.8255787 | 3.305947 |\n",
       "\n"
      ],
      "text/plain": [
       "  Variables Confianza lim_inf    pred      lim_sup \n",
       "1 GNP       90%       -0.3651417 0.4735724 1.312286\n",
       "2 M2        90%        0.5791297 1.0725858 1.566042\n",
       "3 IR        90%        0.3452104 1.8255787 3.305947"
      ]
     },
     "metadata": {},
     "output_type": "display_data"
    }
   ],
   "source": [
    "IC90_2001=data.frame(Variables=c('GNP','M2','IR'),Confianza='90%',lim_inf=Y_2001-Z90*c((diag(sigma))^(1/2)),pred=Y_2001,lim_sup=Y_2001+Z90*c((diag(sigma))^(1/2)))\n",
    "IC90_2001"
   ]
  },
  {
   "cell_type": "code",
   "execution_count": 30,
   "metadata": {},
   "outputs": [
    {
     "data": {
      "text/html": [
       "<table>\n",
       "<caption>A data.frame: 3 × 5</caption>\n",
       "<thead>\n",
       "\t<tr><th scope=col>Variables</th><th scope=col>Confianza</th><th scope=col>lim_inf</th><th scope=col>pred</th><th scope=col>lim_sup</th></tr>\n",
       "\t<tr><th scope=col>&lt;fct&gt;</th><th scope=col>&lt;fct&gt;</th><th scope=col>&lt;dbl&gt;</th><th scope=col>&lt;dbl&gt;</th><th scope=col>&lt;dbl&gt;</th></tr>\n",
       "</thead>\n",
       "<tbody>\n",
       "\t<tr><td>GNP</td><td>90%</td><td>-0.04719525</td><td>0.7915188</td><td>1.630233</td></tr>\n",
       "\t<tr><td>M2 </td><td>90%</td><td> 0.63334791</td><td>1.1268040</td><td>1.620260</td></tr>\n",
       "\t<tr><td>IR </td><td>90%</td><td> 1.05403438</td><td>2.5344026</td><td>4.014771</td></tr>\n",
       "</tbody>\n",
       "</table>\n"
      ],
      "text/latex": [
       "A data.frame: 3 × 5\n",
       "\\begin{tabular}{lllll}\n",
       " Variables & Confianza & lim\\_inf & pred & lim\\_sup\\\\\n",
       " <fct> & <fct> & <dbl> & <dbl> & <dbl>\\\\\n",
       "\\hline\n",
       "\t GNP & 90\\% & -0.04719525 & 0.7915188 & 1.630233\\\\\n",
       "\t M2  & 90\\% &  0.63334791 & 1.1268040 & 1.620260\\\\\n",
       "\t IR  & 90\\% &  1.05403438 & 2.5344026 & 4.014771\\\\\n",
       "\\end{tabular}\n"
      ],
      "text/markdown": [
       "\n",
       "A data.frame: 3 × 5\n",
       "\n",
       "| Variables &lt;fct&gt; | Confianza &lt;fct&gt; | lim_inf &lt;dbl&gt; | pred &lt;dbl&gt; | lim_sup &lt;dbl&gt; |\n",
       "|---|---|---|---|---|\n",
       "| GNP | 90% | -0.04719525 | 0.7915188 | 1.630233 |\n",
       "| M2  | 90% |  0.63334791 | 1.1268040 | 1.620260 |\n",
       "| IR  | 90% |  1.05403438 | 2.5344026 | 4.014771 |\n",
       "\n"
      ],
      "text/plain": [
       "  Variables Confianza lim_inf     pred      lim_sup \n",
       "1 GNP       90%       -0.04719525 0.7915188 1.630233\n",
       "2 M2        90%        0.63334791 1.1268040 1.620260\n",
       "3 IR        90%        1.05403438 2.5344026 4.014771"
      ]
     },
     "metadata": {},
     "output_type": "display_data"
    }
   ],
   "source": [
    "IC90_2002=data.frame(Variables=c('GNP','M2','IR'),Confianza='90%',lim_inf=Y_2002-Z90*c((diag(sigma))^(1/2)),pred=Y_2002,lim_sup=Y_2002+Z90*c((diag(sigma))^(1/2)))\n",
    "IC90_2002"
   ]
  },
  {
   "cell_type": "code",
   "execution_count": 31,
   "metadata": {},
   "outputs": [
    {
     "data": {
      "text/html": [
       "<table>\n",
       "<caption>A data.frame: 3 × 5</caption>\n",
       "<thead>\n",
       "\t<tr><th scope=col>Variables</th><th scope=col>Confianza</th><th scope=col>lim_inf</th><th scope=col>pred</th><th scope=col>lim_sup</th></tr>\n",
       "\t<tr><th scope=col>&lt;fct&gt;</th><th scope=col>&lt;fct&gt;</th><th scope=col>&lt;dbl&gt;</th><th scope=col>&lt;dbl&gt;</th><th scope=col>&lt;dbl&gt;</th></tr>\n",
       "</thead>\n",
       "<tbody>\n",
       "\t<tr><td>GNP</td><td>90%</td><td>-0.4427620</td><td>0.395952</td><td>1.234666</td></tr>\n",
       "\t<tr><td>M2 </td><td>90%</td><td> 0.7352496</td><td>1.228706</td><td>1.722162</td></tr>\n",
       "\t<tr><td>IR </td><td>90%</td><td> 0.8836453</td><td>2.364014</td><td>3.844382</td></tr>\n",
       "</tbody>\n",
       "</table>\n"
      ],
      "text/latex": [
       "A data.frame: 3 × 5\n",
       "\\begin{tabular}{lllll}\n",
       " Variables & Confianza & lim\\_inf & pred & lim\\_sup\\\\\n",
       " <fct> & <fct> & <dbl> & <dbl> & <dbl>\\\\\n",
       "\\hline\n",
       "\t GNP & 90\\% & -0.4427620 & 0.395952 & 1.234666\\\\\n",
       "\t M2  & 90\\% &  0.7352496 & 1.228706 & 1.722162\\\\\n",
       "\t IR  & 90\\% &  0.8836453 & 2.364014 & 3.844382\\\\\n",
       "\\end{tabular}\n"
      ],
      "text/markdown": [
       "\n",
       "A data.frame: 3 × 5\n",
       "\n",
       "| Variables &lt;fct&gt; | Confianza &lt;fct&gt; | lim_inf &lt;dbl&gt; | pred &lt;dbl&gt; | lim_sup &lt;dbl&gt; |\n",
       "|---|---|---|---|---|\n",
       "| GNP | 90% | -0.4427620 | 0.395952 | 1.234666 |\n",
       "| M2  | 90% |  0.7352496 | 1.228706 | 1.722162 |\n",
       "| IR  | 90% |  0.8836453 | 2.364014 | 3.844382 |\n",
       "\n"
      ],
      "text/plain": [
       "  Variables Confianza lim_inf    pred     lim_sup \n",
       "1 GNP       90%       -0.4427620 0.395952 1.234666\n",
       "2 M2        90%        0.7352496 1.228706 1.722162\n",
       "3 IR        90%        0.8836453 2.364014 3.844382"
      ]
     },
     "metadata": {},
     "output_type": "display_data"
    }
   ],
   "source": [
    "IC90_2003=data.frame(Variables=c('GNP','M2','IR'),Confianza='90%',lim_inf=Y_2003-Z90*c((diag(sigma))^(1/2)),pred=Y_2003,lim_sup=Y_2003+Z90*c((diag(sigma))^(1/2)))\n",
    "IC90_2003"
   ]
  },
  {
   "cell_type": "markdown",
   "metadata": {},
   "source": [
    "### Intervalos de confianza del 95% para predicciones"
   ]
  },
  {
   "cell_type": "code",
   "execution_count": 32,
   "metadata": {},
   "outputs": [
    {
     "data": {
      "text/html": [
       "<table>\n",
       "<caption>A data.frame: 3 × 5</caption>\n",
       "<thead>\n",
       "\t<tr><th scope=col>Variables</th><th scope=col>Confianza</th><th scope=col>lim_inf</th><th scope=col>pred</th><th scope=col>lim_sup</th></tr>\n",
       "\t<tr><th scope=col>&lt;fct&gt;</th><th scope=col>&lt;fct&gt;</th><th scope=col>&lt;dbl&gt;</th><th scope=col>&lt;dbl&gt;</th><th scope=col>&lt;dbl&gt;</th></tr>\n",
       "</thead>\n",
       "<tbody>\n",
       "\t<tr><td>GNP</td><td>95%</td><td>-0.5258171</td><td>0.4735724</td><td>1.472962</td></tr>\n",
       "\t<tr><td>M2 </td><td>95%</td><td> 0.4845966</td><td>1.0725858</td><td>1.660575</td></tr>\n",
       "\t<tr><td>IR </td><td>95%</td><td> 0.0616111</td><td>1.8255787</td><td>3.589546</td></tr>\n",
       "</tbody>\n",
       "</table>\n"
      ],
      "text/latex": [
       "A data.frame: 3 × 5\n",
       "\\begin{tabular}{lllll}\n",
       " Variables & Confianza & lim\\_inf & pred & lim\\_sup\\\\\n",
       " <fct> & <fct> & <dbl> & <dbl> & <dbl>\\\\\n",
       "\\hline\n",
       "\t GNP & 95\\% & -0.5258171 & 0.4735724 & 1.472962\\\\\n",
       "\t M2  & 95\\% &  0.4845966 & 1.0725858 & 1.660575\\\\\n",
       "\t IR  & 95\\% &  0.0616111 & 1.8255787 & 3.589546\\\\\n",
       "\\end{tabular}\n"
      ],
      "text/markdown": [
       "\n",
       "A data.frame: 3 × 5\n",
       "\n",
       "| Variables &lt;fct&gt; | Confianza &lt;fct&gt; | lim_inf &lt;dbl&gt; | pred &lt;dbl&gt; | lim_sup &lt;dbl&gt; |\n",
       "|---|---|---|---|---|\n",
       "| GNP | 95% | -0.5258171 | 0.4735724 | 1.472962 |\n",
       "| M2  | 95% |  0.4845966 | 1.0725858 | 1.660575 |\n",
       "| IR  | 95% |  0.0616111 | 1.8255787 | 3.589546 |\n",
       "\n"
      ],
      "text/plain": [
       "  Variables Confianza lim_inf    pred      lim_sup \n",
       "1 GNP       95%       -0.5258171 0.4735724 1.472962\n",
       "2 M2        95%        0.4845966 1.0725858 1.660575\n",
       "3 IR        95%        0.0616111 1.8255787 3.589546"
      ]
     },
     "metadata": {},
     "output_type": "display_data"
    }
   ],
   "source": [
    "IC95_2001=data.frame(Variables=c('GNP','M2','IR'),Confianza='95%',lim_inf=Y_2001-Z95*c((diag(sigma))^(1/2)),pred=Y_2001,lim_sup=Y_2001+Z95*c((diag(sigma))^(1/2)))\n",
    "IC95_2001"
   ]
  },
  {
   "cell_type": "code",
   "execution_count": 33,
   "metadata": {},
   "outputs": [
    {
     "data": {
      "text/html": [
       "<table>\n",
       "<caption>A data.frame: 3 × 5</caption>\n",
       "<thead>\n",
       "\t<tr><th scope=col>Variables</th><th scope=col>Confianza</th><th scope=col>lim_inf</th><th scope=col>pred</th><th scope=col>lim_sup</th></tr>\n",
       "\t<tr><th scope=col>&lt;fct&gt;</th><th scope=col>&lt;fct&gt;</th><th scope=col>&lt;dbl&gt;</th><th scope=col>&lt;dbl&gt;</th><th scope=col>&lt;dbl&gt;</th></tr>\n",
       "</thead>\n",
       "<tbody>\n",
       "\t<tr><td>GNP</td><td>95%</td><td>-0.2078706</td><td>0.7915188</td><td>1.790908</td></tr>\n",
       "\t<tr><td>M2 </td><td>95%</td><td> 0.5388148</td><td>1.1268040</td><td>1.714793</td></tr>\n",
       "\t<tr><td>IR </td><td>95%</td><td> 0.7704351</td><td>2.5344026</td><td>4.298370</td></tr>\n",
       "</tbody>\n",
       "</table>\n"
      ],
      "text/latex": [
       "A data.frame: 3 × 5\n",
       "\\begin{tabular}{lllll}\n",
       " Variables & Confianza & lim\\_inf & pred & lim\\_sup\\\\\n",
       " <fct> & <fct> & <dbl> & <dbl> & <dbl>\\\\\n",
       "\\hline\n",
       "\t GNP & 95\\% & -0.2078706 & 0.7915188 & 1.790908\\\\\n",
       "\t M2  & 95\\% &  0.5388148 & 1.1268040 & 1.714793\\\\\n",
       "\t IR  & 95\\% &  0.7704351 & 2.5344026 & 4.298370\\\\\n",
       "\\end{tabular}\n"
      ],
      "text/markdown": [
       "\n",
       "A data.frame: 3 × 5\n",
       "\n",
       "| Variables &lt;fct&gt; | Confianza &lt;fct&gt; | lim_inf &lt;dbl&gt; | pred &lt;dbl&gt; | lim_sup &lt;dbl&gt; |\n",
       "|---|---|---|---|---|\n",
       "| GNP | 95% | -0.2078706 | 0.7915188 | 1.790908 |\n",
       "| M2  | 95% |  0.5388148 | 1.1268040 | 1.714793 |\n",
       "| IR  | 95% |  0.7704351 | 2.5344026 | 4.298370 |\n",
       "\n"
      ],
      "text/plain": [
       "  Variables Confianza lim_inf    pred      lim_sup \n",
       "1 GNP       95%       -0.2078706 0.7915188 1.790908\n",
       "2 M2        95%        0.5388148 1.1268040 1.714793\n",
       "3 IR        95%        0.7704351 2.5344026 4.298370"
      ]
     },
     "metadata": {},
     "output_type": "display_data"
    }
   ],
   "source": [
    "IC95_2002=data.frame(Variables=c('GNP','M2','IR'),Confianza='95%',lim_inf=Y_2002-Z95*c((diag(sigma))^(1/2)),pred=Y_2002,lim_sup=Y_2002+Z95*c((diag(sigma))^(1/2)))\n",
    "IC95_2002"
   ]
  },
  {
   "cell_type": "code",
   "execution_count": 34,
   "metadata": {},
   "outputs": [
    {
     "data": {
      "text/html": [
       "<table>\n",
       "<caption>A data.frame: 3 × 5</caption>\n",
       "<thead>\n",
       "\t<tr><th scope=col>Variables</th><th scope=col>Confianza</th><th scope=col>lim_inf</th><th scope=col>pred</th><th scope=col>lim_sup</th></tr>\n",
       "\t<tr><th scope=col>&lt;fct&gt;</th><th scope=col>&lt;fct&gt;</th><th scope=col>&lt;dbl&gt;</th><th scope=col>&lt;dbl&gt;</th><th scope=col>&lt;dbl&gt;</th></tr>\n",
       "</thead>\n",
       "<tbody>\n",
       "\t<tr><td>GNP</td><td>95%</td><td>-0.6034374</td><td>0.395952</td><td>1.395341</td></tr>\n",
       "\t<tr><td>M2 </td><td>95%</td><td> 0.6407164</td><td>1.228706</td><td>1.816695</td></tr>\n",
       "\t<tr><td>IR </td><td>95%</td><td> 0.6000460</td><td>2.364014</td><td>4.127981</td></tr>\n",
       "</tbody>\n",
       "</table>\n"
      ],
      "text/latex": [
       "A data.frame: 3 × 5\n",
       "\\begin{tabular}{lllll}\n",
       " Variables & Confianza & lim\\_inf & pred & lim\\_sup\\\\\n",
       " <fct> & <fct> & <dbl> & <dbl> & <dbl>\\\\\n",
       "\\hline\n",
       "\t GNP & 95\\% & -0.6034374 & 0.395952 & 1.395341\\\\\n",
       "\t M2  & 95\\% &  0.6407164 & 1.228706 & 1.816695\\\\\n",
       "\t IR  & 95\\% &  0.6000460 & 2.364014 & 4.127981\\\\\n",
       "\\end{tabular}\n"
      ],
      "text/markdown": [
       "\n",
       "A data.frame: 3 × 5\n",
       "\n",
       "| Variables &lt;fct&gt; | Confianza &lt;fct&gt; | lim_inf &lt;dbl&gt; | pred &lt;dbl&gt; | lim_sup &lt;dbl&gt; |\n",
       "|---|---|---|---|---|\n",
       "| GNP | 95% | -0.6034374 | 0.395952 | 1.395341 |\n",
       "| M2  | 95% |  0.6407164 | 1.228706 | 1.816695 |\n",
       "| IR  | 95% |  0.6000460 | 2.364014 | 4.127981 |\n",
       "\n"
      ],
      "text/plain": [
       "  Variables Confianza lim_inf    pred     lim_sup \n",
       "1 GNP       95%       -0.6034374 0.395952 1.395341\n",
       "2 M2        95%        0.6407164 1.228706 1.816695\n",
       "3 IR        95%        0.6000460 2.364014 4.127981"
      ]
     },
     "metadata": {},
     "output_type": "display_data"
    }
   ],
   "source": [
    "IC95_2003=data.frame(Variables=c('GNP','M2','IR'),Confianza='95%',lim_inf=Y_2003-Z95*c((diag(sigma))^(1/2)),pred=Y_2003,lim_sup=Y_2003+Z95*c((diag(sigma))^(1/2)))\n",
    "IC95_2003"
   ]
  },
  {
   "cell_type": "markdown",
   "metadata": {},
   "source": [
    "### Intervalos de confianza unidos"
   ]
  },
  {
   "cell_type": "code",
   "execution_count": 35,
   "metadata": {},
   "outputs": [
    {
     "data": {
      "text/html": [
       "<table>\n",
       "<caption>A data.frame: 6 × 5</caption>\n",
       "<thead>\n",
       "\t<tr><th scope=col>Variables</th><th scope=col>Confianza</th><th scope=col>lim_inf</th><th scope=col>pred</th><th scope=col>lim_sup</th></tr>\n",
       "\t<tr><th scope=col>&lt;fct&gt;</th><th scope=col>&lt;fct&gt;</th><th scope=col>&lt;dbl&gt;</th><th scope=col>&lt;dbl&gt;</th><th scope=col>&lt;dbl&gt;</th></tr>\n",
       "</thead>\n",
       "<tbody>\n",
       "\t<tr><td>GNP</td><td>90%</td><td>-0.3651417</td><td>0.4735724</td><td>1.312286</td></tr>\n",
       "\t<tr><td>M2 </td><td>90%</td><td> 0.5791297</td><td>1.0725858</td><td>1.566042</td></tr>\n",
       "\t<tr><td>IR </td><td>90%</td><td> 0.3452104</td><td>1.8255787</td><td>3.305947</td></tr>\n",
       "\t<tr><td>GNP</td><td>95%</td><td>-0.5258171</td><td>0.4735724</td><td>1.472962</td></tr>\n",
       "\t<tr><td>M2 </td><td>95%</td><td> 0.4845966</td><td>1.0725858</td><td>1.660575</td></tr>\n",
       "\t<tr><td>IR </td><td>95%</td><td> 0.0616111</td><td>1.8255787</td><td>3.589546</td></tr>\n",
       "</tbody>\n",
       "</table>\n"
      ],
      "text/latex": [
       "A data.frame: 6 × 5\n",
       "\\begin{tabular}{lllll}\n",
       " Variables & Confianza & lim\\_inf & pred & lim\\_sup\\\\\n",
       " <fct> & <fct> & <dbl> & <dbl> & <dbl>\\\\\n",
       "\\hline\n",
       "\t GNP & 90\\% & -0.3651417 & 0.4735724 & 1.312286\\\\\n",
       "\t M2  & 90\\% &  0.5791297 & 1.0725858 & 1.566042\\\\\n",
       "\t IR  & 90\\% &  0.3452104 & 1.8255787 & 3.305947\\\\\n",
       "\t GNP & 95\\% & -0.5258171 & 0.4735724 & 1.472962\\\\\n",
       "\t M2  & 95\\% &  0.4845966 & 1.0725858 & 1.660575\\\\\n",
       "\t IR  & 95\\% &  0.0616111 & 1.8255787 & 3.589546\\\\\n",
       "\\end{tabular}\n"
      ],
      "text/markdown": [
       "\n",
       "A data.frame: 6 × 5\n",
       "\n",
       "| Variables &lt;fct&gt; | Confianza &lt;fct&gt; | lim_inf &lt;dbl&gt; | pred &lt;dbl&gt; | lim_sup &lt;dbl&gt; |\n",
       "|---|---|---|---|---|\n",
       "| GNP | 90% | -0.3651417 | 0.4735724 | 1.312286 |\n",
       "| M2  | 90% |  0.5791297 | 1.0725858 | 1.566042 |\n",
       "| IR  | 90% |  0.3452104 | 1.8255787 | 3.305947 |\n",
       "| GNP | 95% | -0.5258171 | 0.4735724 | 1.472962 |\n",
       "| M2  | 95% |  0.4845966 | 1.0725858 | 1.660575 |\n",
       "| IR  | 95% |  0.0616111 | 1.8255787 | 3.589546 |\n",
       "\n"
      ],
      "text/plain": [
       "  Variables Confianza lim_inf    pred      lim_sup \n",
       "1 GNP       90%       -0.3651417 0.4735724 1.312286\n",
       "2 M2        90%        0.5791297 1.0725858 1.566042\n",
       "3 IR        90%        0.3452104 1.8255787 3.305947\n",
       "4 GNP       95%       -0.5258171 0.4735724 1.472962\n",
       "5 M2        95%        0.4845966 1.0725858 1.660575\n",
       "6 IR        95%        0.0616111 1.8255787 3.589546"
      ]
     },
     "metadata": {},
     "output_type": "display_data"
    }
   ],
   "source": [
    "IC_2001=rbind(IC90_2001,IC95_2001)\n",
    "IC_2001"
   ]
  },
  {
   "cell_type": "code",
   "execution_count": 36,
   "metadata": {},
   "outputs": [
    {
     "data": {
      "text/html": [
       "<table>\n",
       "<caption>A data.frame: 6 × 5</caption>\n",
       "<thead>\n",
       "\t<tr><th scope=col>Variables</th><th scope=col>Confianza</th><th scope=col>lim_inf</th><th scope=col>pred</th><th scope=col>lim_sup</th></tr>\n",
       "\t<tr><th scope=col>&lt;fct&gt;</th><th scope=col>&lt;fct&gt;</th><th scope=col>&lt;dbl&gt;</th><th scope=col>&lt;dbl&gt;</th><th scope=col>&lt;dbl&gt;</th></tr>\n",
       "</thead>\n",
       "<tbody>\n",
       "\t<tr><td>GNP</td><td>90%</td><td>-0.04719525</td><td>0.7915188</td><td>1.630233</td></tr>\n",
       "\t<tr><td>M2 </td><td>90%</td><td> 0.63334791</td><td>1.1268040</td><td>1.620260</td></tr>\n",
       "\t<tr><td>IR </td><td>90%</td><td> 1.05403438</td><td>2.5344026</td><td>4.014771</td></tr>\n",
       "\t<tr><td>GNP</td><td>95%</td><td>-0.20787064</td><td>0.7915188</td><td>1.790908</td></tr>\n",
       "\t<tr><td>M2 </td><td>95%</td><td> 0.53881481</td><td>1.1268040</td><td>1.714793</td></tr>\n",
       "\t<tr><td>IR </td><td>95%</td><td> 0.77043505</td><td>2.5344026</td><td>4.298370</td></tr>\n",
       "</tbody>\n",
       "</table>\n"
      ],
      "text/latex": [
       "A data.frame: 6 × 5\n",
       "\\begin{tabular}{lllll}\n",
       " Variables & Confianza & lim\\_inf & pred & lim\\_sup\\\\\n",
       " <fct> & <fct> & <dbl> & <dbl> & <dbl>\\\\\n",
       "\\hline\n",
       "\t GNP & 90\\% & -0.04719525 & 0.7915188 & 1.630233\\\\\n",
       "\t M2  & 90\\% &  0.63334791 & 1.1268040 & 1.620260\\\\\n",
       "\t IR  & 90\\% &  1.05403438 & 2.5344026 & 4.014771\\\\\n",
       "\t GNP & 95\\% & -0.20787064 & 0.7915188 & 1.790908\\\\\n",
       "\t M2  & 95\\% &  0.53881481 & 1.1268040 & 1.714793\\\\\n",
       "\t IR  & 95\\% &  0.77043505 & 2.5344026 & 4.298370\\\\\n",
       "\\end{tabular}\n"
      ],
      "text/markdown": [
       "\n",
       "A data.frame: 6 × 5\n",
       "\n",
       "| Variables &lt;fct&gt; | Confianza &lt;fct&gt; | lim_inf &lt;dbl&gt; | pred &lt;dbl&gt; | lim_sup &lt;dbl&gt; |\n",
       "|---|---|---|---|---|\n",
       "| GNP | 90% | -0.04719525 | 0.7915188 | 1.630233 |\n",
       "| M2  | 90% |  0.63334791 | 1.1268040 | 1.620260 |\n",
       "| IR  | 90% |  1.05403438 | 2.5344026 | 4.014771 |\n",
       "| GNP | 95% | -0.20787064 | 0.7915188 | 1.790908 |\n",
       "| M2  | 95% |  0.53881481 | 1.1268040 | 1.714793 |\n",
       "| IR  | 95% |  0.77043505 | 2.5344026 | 4.298370 |\n",
       "\n"
      ],
      "text/plain": [
       "  Variables Confianza lim_inf     pred      lim_sup \n",
       "1 GNP       90%       -0.04719525 0.7915188 1.630233\n",
       "2 M2        90%        0.63334791 1.1268040 1.620260\n",
       "3 IR        90%        1.05403438 2.5344026 4.014771\n",
       "4 GNP       95%       -0.20787064 0.7915188 1.790908\n",
       "5 M2        95%        0.53881481 1.1268040 1.714793\n",
       "6 IR        95%        0.77043505 2.5344026 4.298370"
      ]
     },
     "metadata": {},
     "output_type": "display_data"
    }
   ],
   "source": [
    "IC_2002=rbind(IC90_2002,IC95_2002)\n",
    "IC_2002"
   ]
  },
  {
   "cell_type": "code",
   "execution_count": 37,
   "metadata": {},
   "outputs": [
    {
     "data": {
      "text/html": [
       "<table>\n",
       "<caption>A data.frame: 6 × 5</caption>\n",
       "<thead>\n",
       "\t<tr><th scope=col>Variables</th><th scope=col>Confianza</th><th scope=col>lim_inf</th><th scope=col>pred</th><th scope=col>lim_sup</th></tr>\n",
       "\t<tr><th scope=col>&lt;fct&gt;</th><th scope=col>&lt;fct&gt;</th><th scope=col>&lt;dbl&gt;</th><th scope=col>&lt;dbl&gt;</th><th scope=col>&lt;dbl&gt;</th></tr>\n",
       "</thead>\n",
       "<tbody>\n",
       "\t<tr><td>GNP</td><td>90%</td><td>-0.4427620</td><td>0.395952</td><td>1.234666</td></tr>\n",
       "\t<tr><td>M2 </td><td>90%</td><td> 0.7352496</td><td>1.228706</td><td>1.722162</td></tr>\n",
       "\t<tr><td>IR </td><td>90%</td><td> 0.8836453</td><td>2.364014</td><td>3.844382</td></tr>\n",
       "\t<tr><td>GNP</td><td>95%</td><td>-0.6034374</td><td>0.395952</td><td>1.395341</td></tr>\n",
       "\t<tr><td>M2 </td><td>95%</td><td> 0.6407164</td><td>1.228706</td><td>1.816695</td></tr>\n",
       "\t<tr><td>IR </td><td>95%</td><td> 0.6000460</td><td>2.364014</td><td>4.127981</td></tr>\n",
       "</tbody>\n",
       "</table>\n"
      ],
      "text/latex": [
       "A data.frame: 6 × 5\n",
       "\\begin{tabular}{lllll}\n",
       " Variables & Confianza & lim\\_inf & pred & lim\\_sup\\\\\n",
       " <fct> & <fct> & <dbl> & <dbl> & <dbl>\\\\\n",
       "\\hline\n",
       "\t GNP & 90\\% & -0.4427620 & 0.395952 & 1.234666\\\\\n",
       "\t M2  & 90\\% &  0.7352496 & 1.228706 & 1.722162\\\\\n",
       "\t IR  & 90\\% &  0.8836453 & 2.364014 & 3.844382\\\\\n",
       "\t GNP & 95\\% & -0.6034374 & 0.395952 & 1.395341\\\\\n",
       "\t M2  & 95\\% &  0.6407164 & 1.228706 & 1.816695\\\\\n",
       "\t IR  & 95\\% &  0.6000460 & 2.364014 & 4.127981\\\\\n",
       "\\end{tabular}\n"
      ],
      "text/markdown": [
       "\n",
       "A data.frame: 6 × 5\n",
       "\n",
       "| Variables &lt;fct&gt; | Confianza &lt;fct&gt; | lim_inf &lt;dbl&gt; | pred &lt;dbl&gt; | lim_sup &lt;dbl&gt; |\n",
       "|---|---|---|---|---|\n",
       "| GNP | 90% | -0.4427620 | 0.395952 | 1.234666 |\n",
       "| M2  | 90% |  0.7352496 | 1.228706 | 1.722162 |\n",
       "| IR  | 90% |  0.8836453 | 2.364014 | 3.844382 |\n",
       "| GNP | 95% | -0.6034374 | 0.395952 | 1.395341 |\n",
       "| M2  | 95% |  0.6407164 | 1.228706 | 1.816695 |\n",
       "| IR  | 95% |  0.6000460 | 2.364014 | 4.127981 |\n",
       "\n"
      ],
      "text/plain": [
       "  Variables Confianza lim_inf    pred     lim_sup \n",
       "1 GNP       90%       -0.4427620 0.395952 1.234666\n",
       "2 M2        90%        0.7352496 1.228706 1.722162\n",
       "3 IR        90%        0.8836453 2.364014 3.844382\n",
       "4 GNP       95%       -0.6034374 0.395952 1.395341\n",
       "5 M2        95%        0.6407164 1.228706 1.816695\n",
       "6 IR        95%        0.6000460 2.364014 4.127981"
      ]
     },
     "metadata": {},
     "output_type": "display_data"
    }
   ],
   "source": [
    "IC_2003=rbind(IC90_2003,IC95_2003)\n",
    "IC_2003"
   ]
  },
  {
   "cell_type": "markdown",
   "metadata": {},
   "source": [
    "### D."
   ]
  },
  {
   "cell_type": "markdown",
   "metadata": {},
   "source": [
    "Primero creamos intervalos de confianza del 99%"
   ]
  },
  {
   "cell_type": "code",
   "execution_count": 38,
   "metadata": {},
   "outputs": [
    {
     "data": {
      "text/html": [
       "<table>\n",
       "<caption>A data.frame: 3 × 3</caption>\n",
       "<thead>\n",
       "\t<tr><th scope=col>Variable</th><th scope=col>lim_inf</th><th scope=col>lim_sup</th></tr>\n",
       "\t<tr><th scope=col>&lt;fct&gt;</th><th scope=col>&lt;dbl&gt;</th><th scope=col>&lt;dbl&gt;</th></tr>\n",
       "</thead>\n",
       "<tbody>\n",
       "\t<tr><td>GNP_2001</td><td>-0.8398480</td><td>1.786993</td></tr>\n",
       "\t<tr><td>GNP_2002</td><td>-0.5219016</td><td>2.104939</td></tr>\n",
       "\t<tr><td>GNP_2003</td><td>-0.9174684</td><td>1.709372</td></tr>\n",
       "</tbody>\n",
       "</table>\n"
      ],
      "text/latex": [
       "A data.frame: 3 × 3\n",
       "\\begin{tabular}{lll}\n",
       " Variable & lim\\_inf & lim\\_sup\\\\\n",
       " <fct> & <dbl> & <dbl>\\\\\n",
       "\\hline\n",
       "\t GNP\\_2001 & -0.8398480 & 1.786993\\\\\n",
       "\t GNP\\_2002 & -0.5219016 & 2.104939\\\\\n",
       "\t GNP\\_2003 & -0.9174684 & 1.709372\\\\\n",
       "\\end{tabular}\n"
      ],
      "text/markdown": [
       "\n",
       "A data.frame: 3 × 3\n",
       "\n",
       "| Variable &lt;fct&gt; | lim_inf &lt;dbl&gt; | lim_sup &lt;dbl&gt; |\n",
       "|---|---|---|\n",
       "| GNP_2001 | -0.8398480 | 1.786993 |\n",
       "| GNP_2002 | -0.5219016 | 2.104939 |\n",
       "| GNP_2003 | -0.9174684 | 1.709372 |\n",
       "\n"
      ],
      "text/plain": [
       "  Variable lim_inf    lim_sup \n",
       "1 GNP_2001 -0.8398480 1.786993\n",
       "2 GNP_2002 -0.5219016 2.104939\n",
       "3 GNP_2003 -0.9174684 1.709372"
      ]
     },
     "metadata": {},
     "output_type": "display_data"
    }
   ],
   "source": [
    "Z99=qnorm(0.995)\n",
    "GNP_2001=data.frame(Variable='GNP_2001',lim_inf=Y_2001[1]-Z99*c((diag(sigma))^(1/2))[1],lim_sup=Y_2001[1]+Z99*c((diag(sigma))^(1/2))[1])\n",
    "GNP_2002=data.frame(Variable='GNP_2002',lim_inf=Y_2002[1]-Z99*c((diag(sigma))^(1/2))[1],lim_sup=Y_2002[1]+Z99*c((diag(sigma))^(1/2))[1])\n",
    "GNP_2003=data.frame(Variable='GNP_2003',lim_inf=Y_2003[1]-Z99*c((diag(sigma))^(1/2))[1],lim_sup=Y_2003[1]+Z99*c((diag(sigma))^(1/2))[1])\n",
    "IC_GNP_99=rbind(GNP_2001,GNP_2002,GNP_2003)\n",
    "IC_GNP_99"
   ]
  },
  {
   "cell_type": "code",
   "execution_count": null,
   "metadata": {},
   "outputs": [],
   "source": []
  },
  {
   "cell_type": "code",
   "execution_count": 39,
   "metadata": {},
   "outputs": [],
   "source": [
    "RS=list(R_0,R_1,R_2,R_3)\n",
    "uu=list()\n",
    "ud=list()\n",
    "ut=list()\n",
    "du=list()\n",
    "dd=list()\n",
    "dt=list()\n",
    "tu=list()\n",
    "td=list()\n",
    "tt=list()\n",
    "\n",
    "for (i in RS){\n",
    "    uu=c(uu,i[1,1])\n",
    "    ud=c(ud,i[1,2])\n",
    "    ut=c(ut,i[1,3])\n",
    "    du=c(du,i[2,1])\n",
    "    dd=c(dd,i[2,2])\n",
    "    dt=c(dt,i[2,3])\n",
    "    tu=c(tu,i[3,1])\n",
    "    td=c(td,i[3,2])\n",
    "    tt=c(tt,i[3,3])}"
   ]
  },
  {
   "cell_type": "code",
   "execution_count": 40,
   "metadata": {},
   "outputs": [
    {
     "data": {
      "text/html": [
       "<ol>\n",
       "\t<li>1</li>\n",
       "\t<li>0.731344029353602</li>\n",
       "\t<li>0.54311669310465</li>\n",
       "\t<li>0.416562642848658</li>\n",
       "</ol>\n"
      ],
      "text/latex": [
       "\\begin{enumerate}\n",
       "\\item 1\n",
       "\\item 0.731344029353602\n",
       "\\item 0.54311669310465\n",
       "\\item 0.416562642848658\n",
       "\\end{enumerate}\n"
      ],
      "text/markdown": [
       "1. 1\n",
       "2. 0.731344029353602\n",
       "3. 0.54311669310465\n",
       "4. 0.416562642848658\n",
       "\n",
       "\n"
      ],
      "text/plain": [
       "[[1]]\n",
       "[1] 1\n",
       "\n",
       "[[2]]\n",
       "[1] 0.731344\n",
       "\n",
       "[[3]]\n",
       "[1] 0.5431167\n",
       "\n",
       "[[4]]\n",
       "[1] 0.4165626\n"
      ]
     },
     "metadata": {},
     "output_type": "display_data"
    },
    {
     "data": {
      "text/html": [
       "<ol>\n",
       "\t<li>0.424367562556585</li>\n",
       "\t<li>0.37091786212516</li>\n",
       "\t<li>0.316581904782695</li>\n",
       "\t<li>0.27011854109762</li>\n",
       "</ol>\n"
      ],
      "text/latex": [
       "\\begin{enumerate}\n",
       "\\item 0.424367562556585\n",
       "\\item 0.37091786212516\n",
       "\\item 0.316581904782695\n",
       "\\item 0.27011854109762\n",
       "\\end{enumerate}\n"
      ],
      "text/markdown": [
       "1. 0.424367562556585\n",
       "2. 0.37091786212516\n",
       "3. 0.316581904782695\n",
       "4. 0.27011854109762\n",
       "\n",
       "\n"
      ],
      "text/plain": [
       "[[1]]\n",
       "[1] 0.4243676\n",
       "\n",
       "[[2]]\n",
       "[1] 0.3709179\n",
       "\n",
       "[[3]]\n",
       "[1] 0.3165819\n",
       "\n",
       "[[4]]\n",
       "[1] 0.2701185\n"
      ]
     },
     "metadata": {},
     "output_type": "display_data"
    },
    {
     "data": {
      "text/html": [
       "<ol>\n",
       "\t<li>0.503703466234757</li>\n",
       "\t<li>0.407275921164447</li>\n",
       "\t<li>0.343968989740363</li>\n",
       "\t<li>0.298463919588629</li>\n",
       "</ol>\n"
      ],
      "text/latex": [
       "\\begin{enumerate}\n",
       "\\item 0.503703466234757\n",
       "\\item 0.407275921164447\n",
       "\\item 0.343968989740363\n",
       "\\item 0.298463919588629\n",
       "\\end{enumerate}\n"
      ],
      "text/markdown": [
       "1. 0.503703466234757\n",
       "2. 0.407275921164447\n",
       "3. 0.343968989740363\n",
       "4. 0.298463919588629\n",
       "\n",
       "\n"
      ],
      "text/plain": [
       "[[1]]\n",
       "[1] 0.5037035\n",
       "\n",
       "[[2]]\n",
       "[1] 0.4072759\n",
       "\n",
       "[[3]]\n",
       "[1] 0.343969\n",
       "\n",
       "[[4]]\n",
       "[1] 0.2984639\n"
      ]
     },
     "metadata": {},
     "output_type": "display_data"
    },
    {
     "data": {
      "text/html": [
       "<ol>\n",
       "\t<li>0.424367562556585</li>\n",
       "\t<li>0.42209088367011</li>\n",
       "\t<li>0.492562655490582</li>\n",
       "\t<li>0.545121262450462</li>\n",
       "</ol>\n"
      ],
      "text/latex": [
       "\\begin{enumerate}\n",
       "\\item 0.424367562556585\n",
       "\\item 0.42209088367011\n",
       "\\item 0.492562655490582\n",
       "\\item 0.545121262450462\n",
       "\\end{enumerate}\n"
      ],
      "text/markdown": [
       "1. 0.424367562556585\n",
       "2. 0.42209088367011\n",
       "3. 0.492562655490582\n",
       "4. 0.545121262450462\n",
       "\n",
       "\n"
      ],
      "text/plain": [
       "[[1]]\n",
       "[1] 0.4243676\n",
       "\n",
       "[[2]]\n",
       "[1] 0.4220909\n",
       "\n",
       "[[3]]\n",
       "[1] 0.4925627\n",
       "\n",
       "[[4]]\n",
       "[1] 0.5451213\n"
      ]
     },
     "metadata": {},
     "output_type": "display_data"
    },
    {
     "data": {
      "text/html": [
       "<ol>\n",
       "\t<li>1</li>\n",
       "\t<li>0.770903915014652</li>\n",
       "\t<li>0.656794401166062</li>\n",
       "\t<li>0.58666082079852</li>\n",
       "</ol>\n"
      ],
      "text/latex": [
       "\\begin{enumerate}\n",
       "\\item 1\n",
       "\\item 0.770903915014652\n",
       "\\item 0.656794401166062\n",
       "\\item 0.58666082079852\n",
       "\\end{enumerate}\n"
      ],
      "text/markdown": [
       "1. 1\n",
       "2. 0.770903915014652\n",
       "3. 0.656794401166062\n",
       "4. 0.58666082079852\n",
       "\n",
       "\n"
      ],
      "text/plain": [
       "[[1]]\n",
       "[1] 1\n",
       "\n",
       "[[2]]\n",
       "[1] 0.7709039\n",
       "\n",
       "[[3]]\n",
       "[1] 0.6567944\n",
       "\n",
       "[[4]]\n",
       "[1] 0.5866608\n"
      ]
     },
     "metadata": {},
     "output_type": "display_data"
    },
    {
     "data": {
      "text/html": [
       "<ol>\n",
       "\t<li>0.740361143062004</li>\n",
       "\t<li>0.797121471605457</li>\n",
       "\t<li>0.78100707955979</li>\n",
       "\t<li>0.731756690434717</li>\n",
       "</ol>\n"
      ],
      "text/latex": [
       "\\begin{enumerate}\n",
       "\\item 0.740361143062004\n",
       "\\item 0.797121471605457\n",
       "\\item 0.78100707955979\n",
       "\\item 0.731756690434717\n",
       "\\end{enumerate}\n"
      ],
      "text/markdown": [
       "1. 0.740361143062004\n",
       "2. 0.797121471605457\n",
       "3. 0.78100707955979\n",
       "4. 0.731756690434717\n",
       "\n",
       "\n"
      ],
      "text/plain": [
       "[[1]]\n",
       "[1] 0.7403611\n",
       "\n",
       "[[2]]\n",
       "[1] 0.7971215\n",
       "\n",
       "[[3]]\n",
       "[1] 0.7810071\n",
       "\n",
       "[[4]]\n",
       "[1] 0.7317567\n"
      ]
     },
     "metadata": {},
     "output_type": "display_data"
    },
    {
     "data": {
      "text/html": [
       "<ol>\n",
       "\t<li>0.503703466234757</li>\n",
       "\t<li>0.646189930335929</li>\n",
       "\t<li>0.694834673571943</li>\n",
       "\t<li>0.687968468229711</li>\n",
       "</ol>\n"
      ],
      "text/latex": [
       "\\begin{enumerate}\n",
       "\\item 0.503703466234757\n",
       "\\item 0.646189930335929\n",
       "\\item 0.694834673571943\n",
       "\\item 0.687968468229711\n",
       "\\end{enumerate}\n"
      ],
      "text/markdown": [
       "1. 0.503703466234757\n",
       "2. 0.646189930335929\n",
       "3. 0.694834673571943\n",
       "4. 0.687968468229711\n",
       "\n",
       "\n"
      ],
      "text/plain": [
       "[[1]]\n",
       "[1] 0.5037035\n",
       "\n",
       "[[2]]\n",
       "[1] 0.6461899\n",
       "\n",
       "[[3]]\n",
       "[1] 0.6948347\n",
       "\n",
       "[[4]]\n",
       "[1] 0.6879685\n"
      ]
     },
     "metadata": {},
     "output_type": "display_data"
    },
    {
     "data": {
      "text/html": [
       "<ol>\n",
       "\t<li>0.740361143062004</li>\n",
       "\t<li>0.695506630360993</li>\n",
       "\t<li>0.64662260150314</li>\n",
       "\t<li>0.594299397970662</li>\n",
       "</ol>\n"
      ],
      "text/latex": [
       "\\begin{enumerate}\n",
       "\\item 0.740361143062004\n",
       "\\item 0.695506630360993\n",
       "\\item 0.64662260150314\n",
       "\\item 0.594299397970662\n",
       "\\end{enumerate}\n"
      ],
      "text/markdown": [
       "1. 0.740361143062004\n",
       "2. 0.695506630360993\n",
       "3. 0.64662260150314\n",
       "4. 0.594299397970662\n",
       "\n",
       "\n"
      ],
      "text/plain": [
       "[[1]]\n",
       "[1] 0.7403611\n",
       "\n",
       "[[2]]\n",
       "[1] 0.6955066\n",
       "\n",
       "[[3]]\n",
       "[1] 0.6466226\n",
       "\n",
       "[[4]]\n",
       "[1] 0.5942994\n"
      ]
     },
     "metadata": {},
     "output_type": "display_data"
    },
    {
     "data": {
      "text/html": [
       "<ol>\n",
       "\t<li>1</li>\n",
       "\t<li>0.922514362238676</li>\n",
       "\t<li>0.837072054352108</li>\n",
       "\t<li>0.753320243072141</li>\n",
       "</ol>\n"
      ],
      "text/latex": [
       "\\begin{enumerate}\n",
       "\\item 1\n",
       "\\item 0.922514362238676\n",
       "\\item 0.837072054352108\n",
       "\\item 0.753320243072141\n",
       "\\end{enumerate}\n"
      ],
      "text/markdown": [
       "1. 1\n",
       "2. 0.922514362238676\n",
       "3. 0.837072054352108\n",
       "4. 0.753320243072141\n",
       "\n",
       "\n"
      ],
      "text/plain": [
       "[[1]]\n",
       "[1] 1\n",
       "\n",
       "[[2]]\n",
       "[1] 0.9225144\n",
       "\n",
       "[[3]]\n",
       "[1] 0.8370721\n",
       "\n",
       "[[4]]\n",
       "[1] 0.7533202\n"
      ]
     },
     "metadata": {},
     "output_type": "display_data"
    }
   ],
   "source": [
    "uu\n",
    "ud\n",
    "ut\n",
    "du\n",
    "dd\n",
    "dt\n",
    "tu\n",
    "td\n",
    "tt"
   ]
  },
  {
   "cell_type": "code",
   "execution_count": 41,
   "metadata": {},
   "outputs": [
    {
     "data": {
      "text/html": [
       "<ol>\n",
       "\t<li>0</li>\n",
       "\t<li>1</li>\n",
       "\t<li>2</li>\n",
       "\t<li>3</li>\n",
       "</ol>\n"
      ],
      "text/latex": [
       "\\begin{enumerate}\n",
       "\\item 0\n",
       "\\item 1\n",
       "\\item 2\n",
       "\\item 3\n",
       "\\end{enumerate}\n"
      ],
      "text/markdown": [
       "1. 0\n",
       "2. 1\n",
       "3. 2\n",
       "4. 3\n",
       "\n",
       "\n"
      ],
      "text/plain": [
       "[[1]]\n",
       "[1] 0\n",
       "\n",
       "[[2]]\n",
       "[1] 1\n",
       "\n",
       "[[3]]\n",
       "[1] 2\n",
       "\n",
       "[[4]]\n",
       "[1] 3\n"
      ]
     },
     "metadata": {},
     "output_type": "display_data"
    }
   ],
   "source": [
    "pasosH=list(0,1,2,3)\n",
    "pasosH"
   ]
  },
  {
   "cell_type": "code",
   "execution_count": 45,
   "metadata": {},
   "outputs": [
    {
     "data": {
      "image/png": "[encoded data removed]",
      "text/plain": [
       "Plot with title “Inflación en Suecia”"
      ]
     },
     "metadata": {
      "image/png": {
       "height": 420,
       "width": 420
      }
     },
     "output_type": "display_data"
    }
   ],
   "source": [
    "matplot(pasosH, cbind(uu),type=\"l\",lty=c(1,1),xlab='Años',ylab='IPC',main='Inflación en Suecia',las=1)"
   ]
  },
  {
   "cell_type": "code",
   "execution_count": 60,
   "metadata": {},
   "outputs": [
    {
     "data": {
      "image/png": "[encoded data removed]",
      "text/plain": [
       "Plot with title “Inflación en Suecia”"
      ]
     },
     "metadata": {
      "image/png": {
       "height": 420,
       "width": 420
      }
     },
     "output_type": "display_data"
    }
   ],
   "source": [
    "matplot(pasosH, cbind(ud),type=\"l\",lty=c(1,1),xlab='Años',ylab='IPC',main='Inflación en Suecia',las=1)"
   ]
  },
  {
   "cell_type": "code",
   "execution_count": 59,
   "metadata": {},
   "outputs": [
    {
     "data": {
      "image/png": "[encoded data removed]",
      "text/plain": [
       "Plot with title “Inflación en Suecia”"
      ]
     },
     "metadata": {
      "image/png": {
       "height": 420,
       "width": 420
      }
     },
     "output_type": "display_data"
    }
   ],
   "source": [
    "matplot(pasosH, cbind(ut),type=\"l\",lty=c(1,1),xlab='Años',ylab='IPC',main='Inflación en Suecia',las=1)"
   ]
  },
  {
   "cell_type": "code",
   "execution_count": 58,
   "metadata": {},
   "outputs": [
    {
     "data": {
      "image/png": "[encoded data removed]",
      "text/plain": [
       "Plot with title “Inflación en Suecia”"
      ]
     },
     "metadata": {
      "image/png": {
       "height": 420,
       "width": 420
      }
     },
     "output_type": "display_data"
    }
   ],
   "source": [
    "matplot(pasosH, cbind(du),type=\"l\",lty=c(1,1),xlab='Años',ylab='IPC',main='Inflación en Suecia',las=1)"
   ]
  },
  {
   "cell_type": "code",
   "execution_count": 57,
   "metadata": {},
   "outputs": [
    {
     "data": {
      "image/png": "[encoded data removed]",
      "text/plain": [
       "Plot with title “Inflación en Suecia”"
      ]
     },
     "metadata": {
      "image/png": {
       "height": 420,
       "width": 420
      }
     },
     "output_type": "display_data"
    }
   ],
   "source": [
    "matplot(pasosH, cbind(dd),type=\"l\",lty=c(1,1),xlab='Años',ylab='IPC',main='Inflación en Suecia',las=1)"
   ]
  },
  {
   "cell_type": "code",
   "execution_count": 56,
   "metadata": {},
   "outputs": [
    {
     "data": {
      "image/png": "[encoded data removed]",
      "text/plain": [
       "Plot with title “Inflación en Suecia”"
      ]
     },
     "metadata": {
      "image/png": {
       "height": 420,
       "width": 420
      }
     },
     "output_type": "display_data"
    }
   ],
   "source": [
    "matplot(pasosH, cbind(dt),type=\"l\",lty=c(1,1),xlab='Años',ylab='IPC',main='Inflación en Suecia',las=1)"
   ]
  },
  {
   "cell_type": "code",
   "execution_count": 55,
   "metadata": {},
   "outputs": [
    {
     "data": {
      "image/png": "[encoded data removed]",
      "text/plain": [
       "Plot with title “Inflación en Suecia”"
      ]
     },
     "metadata": {
      "image/png": {
       "height": 420,
       "width": 420
      }
     },
     "output_type": "display_data"
    }
   ],
   "source": [
    "matplot(pasosH, cbind(tu),type=\"l\",lty=c(1,1),xlab='Años',ylab='IPC',main='Inflación en Suecia',las=1)"
   ]
  },
  {
   "cell_type": "code",
   "execution_count": 62,
   "metadata": {},
   "outputs": [
    {
     "data": {
      "image/png": "[encoded data removed]",
      "text/plain": [
       "Plot with title “Inflación en Suecia”"
      ]
     },
     "metadata": {
      "image/png": {
       "height": 420,
       "width": 420
      }
     },
     "output_type": "display_data"
    }
   ],
   "source": [
    "matplot(pasosH, cbind(td),type=\"l\",lty=c(1,1),xlab='Años',ylab='IPC',main='Inflación en Suecia',las=1)"
   ]
  },
  {
   "cell_type": "code",
   "execution_count": 63,
   "metadata": {},
   "outputs": [
    {
     "data": {
      "image/png": "[encoded data removed]",
      "text/plain": [
       "Plot with title “Inflación en Suecia”"
      ]
     },
     "metadata": {
      "image/png": {
       "height": 420,
       "width": 420
      }
     },
     "output_type": "display_data"
    }
   ],
   "source": [
    "matplot(pasosH, cbind(tt),type=\"l\",lty=c(1,1),xlab='Años',ylab='IPC',main='Inflación en Suecia',las=1)"
   ]
  },
  {
   "cell_type": "code",
   "execution_count": 64,
   "metadata": {},
   "outputs": [
    {
     "data": {
      "image/png": "[encoded data removed]",
      "text/plain": [
       "Plot with title “Inflación en Suecia”"
      ]
     },
     "metadata": {
      "image/png": {
       "height": 420,
       "width": 420
      }
     },
     "output_type": "display_data"
    }
   ],
   "source": [
    "matplot(pasosH, cbind(uu,ud,ut,du,dd,dt,tu,td,tt),type=\"l\",lty=c(1,1),xlab='Años',ylab='IPC',main='Inflación en Suecia',las=1)"
   ]
  }
 ],
 "metadata": {
  "kernelspec": {
   "display_name": "R",
   "language": "R",
   "name": "ir"
  },
  "language_info": {
   "codemirror_mode": "r",
   "file_extension": ".r",
   "mimetype": "text/x-r-source",
   "name": "R",
   "pygments_lexer": "r",
   "version": "3.6.3"
  }
 },
 "nbformat": 4,
 "nbformat_minor": 4
}
